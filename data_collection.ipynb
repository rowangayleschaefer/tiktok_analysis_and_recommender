{
 "cells": [
  {
   "cell_type": "markdown",
   "id": "02a3a676-d7bb-4074-8b15-30b8d54b6359",
   "metadata": {},
   "source": [
    "<center><h1>     tiktok </h1></center>"
   ]
  },
  {
   "cell_type": "markdown",
   "id": "c8a8c911-4b3c-4358-a7be-86bddcda89dc",
   "metadata": {},
   "source": [
    "<center><img src=\"https://yt3.ggpht.com/ytc/AKedOLRcwXL5heetbKNzpLCY3LOgml-72EcmpALhcvry5g=s900-c-k-c0x00ffffff-no-rj\" alt=\"Logo\" width=\"80\" height=\"80\"></center>"
   ]
  },
  {
   "cell_type": "markdown",
   "id": "5ebc16b1-4193-4b74-9331-0cc5b009cdc2",
   "metadata": {},
   "source": [
    "<center><h3> Part I: Data Collection, Cleaning, & EDA </h3></center>"
   ]
  },
  {
   "cell_type": "markdown",
   "id": "99ed1797-847a-4aa2-abbe-784a2f319e7c",
   "metadata": {},
   "source": [
    "```diff\n",
    "- BRAINSTORMING / TO DO:\n",
    "\n",
    "- 1. Double check all background info to see if it's changed since Feb. \n",
    "\n",
    "- 2. API issues. Why is it so slow?\n",
    "\n",
    "- 3. Exploratory EDA due on Monday?\n",
    "\n",
    "- Misc question: Does this extend to hashtags? If I (in USA) follow #datatok, and NewCreator1 (in NZ, with <n followers) uploads a video with #datatok hash, can it come up in my FYP based only on use of that tag?\n",
    "\n",
    "\n",
    "```"
   ]
  },
  {
   "cell_type": "markdown",
   "id": "8a080f61-5642-4188-b25b-7c130c50668c",
   "metadata": {},
   "source": [
    "<font color=white>.</font>"
   ]
  },
  {
   "cell_type": "markdown",
   "id": "46b4032f-01b6-407d-92dc-b8fd1806bd2c",
   "metadata": {},
   "source": [
    "run me! ↓"
   ]
  },
  {
   "cell_type": "code",
   "execution_count": 8,
   "id": "79401922-d9f7-4171-960e-9736fb478dbf",
   "metadata": {},
   "outputs": [
    {
     "data": {
      "text/html": [
       "<style>\n",
       "\n",
       "#notebook-container{\n",
       "    box-shadow: none !important;\n",
       "}\n",
       "\n",
       ".container {\n",
       "    width: 80% !important;\n",
       "}\n",
       "\n",
       ".notebook_app {\n",
       "    background: #fff !important;\n",
       "}\n",
       "\n",
       "body > #header {\n",
       "    background:  #f57b00;\n",
       "}\n",
       "\n",
       ".navbar-default {\n",
       "    background: none;\n",
       "    border: none;\n",
       "}\n",
       "\n",
       ".navbar-default .navbar-nav > li > a, #kernel_indicator {\n",
       "    color: rgba(255, 255, 255, 0.25);\n",
       "    border-bottom: 2px solid #f57b00;\n",
       "    transition: all 0.25s;\n",
       "}\n",
       "\n",
       ".navbar-default .navbar-nav > li > a:hover, #kernel_indicator:hover {\n",
       "    border-bottom: 2px solid #fff;\n",
       "    color: rgba(255, 255, 255, 1);\n",
       "}\n",
       "\n",
       "div.input_area {\n",
       "    border: none;\n",
       "    border-radius: 0;\n",
       "    background: #f7f7f7;\n",
       "    line-height: 1.5em;\n",
       "    margin: 0.5em 0;\n",
       "    padding: 0;\n",
       "}\n",
       "\n",
       "div.cell {\n",
       "    transition: all 0.25s;\n",
       "    border: none;\n",
       "    position: relative;\n",
       "    top: 0;\n",
       "}\n",
       "\n",
       "div.cell.selected, div.cell.selected.jupyter-soft-selected {\n",
       "    border: none;\n",
       "    background: transparent;\n",
       "    box-shadow: 0 6px 18px #aaa;\n",
       "    z-index: 10;\n",
       "    top: -10px;\n",
       "}\n",
       "\n",
       "\n",
       "div#pager {\n",
       "    opacity: 0.85;\n",
       "    z-index: 9999;\n",
       "}\n",
       "\n",
       ".navbar-default .navbar-nav > .open > a, .navbar-default .navbar-nav > .open > a:hover, .navbar-default .navbar-nav > .open > a:focus {\n",
       "    color: #fff;\n",
       "    background-color: transparent;\n",
       "    border-bottom: 2px solid #fff;\n",
       "}\n",
       "\n",
       ".dropdown-menu {\n",
       "    z-index: 999999 !important;\n",
       "    background-color: #f57b00;\n",
       "    opacity: 0.95;\n",
       "}\n",
       "\n",
       ".dropdown-menu > li > a {\n",
       "    color: #fff;\n",
       "}\n",
       "\n",
       ".dropdown-menu > .disabled > a, .dropdown-menu > .disabled > a:hover, .dropdown-menu > .disabled > a:focus {\n",
       "    color: rgba(255, 255, 255, 0.25);\n",
       "}\n",
       "\n",
       ".navbar-nav > li > .dropdown-menu {\n",
       "    border: none;\n",
       "    box-shadow: none;\n",
       "}\n",
       "\n",
       "div.output_wrapper {\n",
       "    background: #eee;\n",
       "}\n",
       "\n",
       "div.cell.unselected div.output_area{\n",
       "    margin-top: 12em;\n",
       "    box-shadow: inset 0 0 25px #aaa;\n",
       "    padding: 1em 0;\n",
       "    overflow-x: auto;\n",
       "    transition: all 0.25s;\n",
       "}\n",
       "\n",
       "div.cell.selected .output_area {\n",
       "    margin-top: 12em;\n",
       "    box-shadow: inset 0 0 5px #aaa;\n",
       "    padding: 0.5em 0;\n",
       "    overflow-x: auto;\n",
       "}\n",
       "\n",
       "div.cell.selected .div.output_scroll {\n",
       "    box-shadow: none;\n",
       "}\n",
       "\n",
       "div.output_wrapper {\n",
       "    margin: 0 0 1em;\n",
       "    transition: all 0.25s;\n",
       "}\n",
       "\n",
       "div.cell.selected .output_wrapper {\n",
       "    margin-bottom: 20em;\n",
       "}\n",
       "\n",
       "\n",
       ".dataframe {\n",
       "    background: #fff;\n",
       "    box-shadow: 0px 1px 2px #bbb;\n",
       "}\n",
       "\n",
       ".dataframe thead th, .dataframe tbody td {\n",
       "    text-align: right;\n",
       "    padding: 1em;\n",
       "}\n",
       "\n",
       ".output, div.output_scroll {\n",
       "    box-shadow: none;\n",
       "} \n",
       "\n",
       "\n",
       ".rendered_html pre code {\n",
       "    background: #f4f4f4;\n",
       "    border: 1px solid #ddd;\n",
       "    border-left: 3px solid #2a7bbd;\n",
       "    color: #444;\n",
       "    page-break-inside: avoid;\n",
       "    font-family: monospace;\n",
       "    font-size: 15px;\n",
       "    line-height: 2;\n",
       "    margin-bottom: 1.6em;\n",
       "    max-width: 100%;\n",
       "    overflow: auto;\n",
       "    padding: 1em 1.5em;\n",
       "    display: block;\n",
       "    word-wrap: break-word;\n",
       "}\n",
       "\n",
       "h1, .h1 {\n",
       "    font-size: 33px;\n",
       "    font-family: \"Trebuchet MS\";\n",
       "    line-height: 1.5;\n",
       "    font-size: 2.5em !important;\n",
       "    color: black;\n",
       "\n",
       "}\n",
       "\n",
       "h2, .h2 {\n",
       "    font-size: 20px;\n",
       "    font-family: \"Trebuchet MS\";\n",
       "    font-size: 2.5em !important;\n",
       "    line-height: 1.5;\n",
       "    color: black;\n",
       "    margin-top: 50em;\n",
       "\n",
       "}\n",
       "\n",
       "h3, .h3 {\n",
       "    font-size: 11px;\n",
       "    font-size: 1.5em !important;\n",
       "    line-height: 1.5;\n",
       "    color: black;\n",
       "    margin-top: 50em;\n",
       "}\n",
       "\n",
       "h4, .h4 {\n",
       "    font-size: 9px;\n",
       "    font-size: 1.2em !important;\n",
       "    line-height: 1.5;\n",
       "    color: black;\n",
       "    margin-top: 50em;\n",
       "}\n",
       "\n",
       "</style>"
      ],
      "text/plain": [
       "<IPython.core.display.HTML object>"
      ]
     },
     "execution_count": 8,
     "metadata": {},
     "output_type": "execute_result"
    }
   ],
   "source": [
    "# css notebook\n",
    "from IPython.core.display import HTML\n",
    "def css_styling():\n",
    "    styles = open(\"../styles/custom.css\", \"r\").read()\n",
    "    return HTML(styles)\n",
    "css_styling()"
   ]
  },
  {
   "cell_type": "markdown",
   "id": "d3c71e3d-bdb9-4894-94c8-521383582b3e",
   "metadata": {
    "tags": []
   },
   "source": [
    "\n",
    "## Background\n",
    "<img src='../images/divskinny.png'>\n",
    "\n",
    "#### This app was created to help TikTok creators monitor the top and rising songs and hashtags by country/location. This is important due to the way that TikTok algorithm selects For You Page (FYP)  content for its users in 2022.\n",
    "\n",
    "\n",
    "#### Why does location matter?\n",
    "If TikTok a creator has fewer than [???](https:///www.google.com) followers, their videos are only recommended on the For You Pages of users in their OWN country. \n",
    "This means that until creators have a large enough following, they need to prioritize creating locally targeted content until they reach the minimum following threshold to be suggested internationally.\n",
    "<br /><br />\n",
    "\n",
    "\n",
    "#### Why is this a problem?\n",
    "**This limitation makes it difficult for new creators to significantly expand their reach or increase their number of followers, especially if they are making niche content and most of their target audience lives outside of their home country.  For example:** <br />\n",
    "* The majority of users within your business niche or industry live in a different country than you. You are making industry relevant content but it is not recommended to your target  audience due to the location restrictions. You struggle to gain enough followers to be suggested internationally.\n",
    "* You are using TikTok for your business, so you only follow industry related accounts - most of which are located in a different country than you. As a result, you see content from your country less frequently and lose exposure to local trends. You begin making content with trending sounds and hashtags from the wrong locality, and struggle to get views.\n",
    "<br /><br />\n",
    "\n",
    "\n",
    "#### Changing your location</u>\n",
    "**TikTok determines location of a user or creator based on THREE pieces of information:**\n",
    "\n",
    "1. Their GPS location\n",
    "2. their IP address\n",
    "3. their SIM card\n",
    "\n",
    "If you use a VPN and change the GPS location on your phone, this may change what your location is *displayed as* in your user settings and profile. **However, fully modifying your location internally requires [Having multiple SIM cards for diff countries, hardware requirements,  etc etc link.](https://www.google.com)** In short, they have made it as difficult as possible.\n"
   ]
  },
  {
   "cell_type": "markdown",
   "id": "fc1df67d-f5f6-4b1d-8f4d-c50d7acb6272",
   "metadata": {},
   "source": [
    "<font color=white>.</font>"
   ]
  },
  {
   "cell_type": "markdown",
   "id": "f54aedf6-b6ab-4f0a-a751-40c2fc7831b8",
   "metadata": {},
   "source": [
    "## Problem Statement\n",
    "<img src='../images/divskinny.png'><br />\n",
    "\n",
    "**For creators who don't have the time, money, or desire to manage multiple devices and SIM cards, a solution is needed. As of Feb 2022 there was not an app that allowed users to see  worldwide trends on TikTok (However there were apps for select countries, such as the USA and Malaysia.) For other countries, the only way to get this information is to make multiple TikTok accounts for each country/industry pair, follow relevant accounts/hashtags, train the algorithm to show you more of what you want to see, and draw your own conclusions by scrolling regularly. This is time consuming.** \n",
    "<br /><br />\n",
    "\n",
    "\n",
    "#### My intention is to design an app that could answer the following questions for a creator/business owner:\n",
    "\n",
    "1. What are the top trending sounds in <code>country 1</code>?\n",
    "2. What is the intersection of top trending sounds/hashtags in <code>country 1</code>, <code>country 2</code>, and <code>country 3</code>? \n",
    "3. What are the top trending sounds for users living in  <code>country 1</code>  who follow <code>hashtag 1</code>?\n",
    "4. What are the top trending sounds and hashtags for all users in <code>country 1</code> who follow <code>influencer account 1</code>?\n",
    "<br /><br />\n",
    "\n",
    "\n",
    "#### Use cases:\n",
    "\n",
    "* You're following a lot of international accounts and want to double check that the trends you're using are relevant for your reach level.\n",
    "* You want to isolate tiktok trends in both your industry/niche AND your country, to fine tune content for the *accessible* part of your target audience.\n",
    "* You want to cross reference TikTok trends from multiple countries at once in order to increase views in all of them.\n",
    "* You need a very quick source of info on TikTok trends in a different country.\n",
    "\n",
    "*This project was created with #DataTok and Australia in mind, so prototype app will prioritize delivering stats for these two categories.*\n",
    "<br /><br />\n",
    "\n",
    "\n",
    "#### *Bonus Research Questions*\n",
    "\n",
    "The location based limits were put in place in order to ensure that users would see content that was relevant and understandable to them. There are many cases where it's detrimental, and keeps users from seeing content that's a good fit for their interests and culture. For example - content being uploaded by Toronto-based creators is probably relevant, relatable, and understandable to users living in northern Michigan.\n",
    "\n",
    "<font color=blue>If there's time, I'll explore alternative clustering models to create clusters of users, without using their country as a defining characteristic.</font>\n",
    "<br /><br />\n",
    "\n",
    "\n",
    "#### Risks & assumptions:\n",
    "\n",
    "* Since primary use of this app will be for analysis, there are not as many risks or assumptions made.\n",
    "* However, TikTok changes their algorithms often - so usefulness/relevancy of this information may decrease over time.\n",
    "* Risks and assumptions will be discussed separately for modeling section.\n",
    "\n"
   ]
  },
  {
   "cell_type": "markdown",
   "id": "4262fa05-edc1-4e18-bbb5-09ee40c1109b",
   "metadata": {},
   "source": [
    "<font color=white>.</font>"
   ]
  },
  {
   "cell_type": "markdown",
   "id": "31c96be0-ea64-4255-8e36-5b2a87752e10",
   "metadata": {},
   "source": [
    "<font color=seagreen><h2>temporary resource section</h2></font>\n",
    "\n",
    "\n",
    "    \n",
    "<h3><font color=seagreen> Location barrier </h3></font><font color=seagreen>\n",
    "\n",
    "* Can't remember the orig source that i sent for this with # followers needed for global reach. Check instagram message history 2-4/2022\n",
    "* https://www.reddit.com/r/Tiktokhelp/comments/k8auog/is_there_a_way_for_my_tiktok_videos_to_show_up_in/\n",
    "* https://www.quora.com/How-does-Tik-Tok-know-your-location-even-when-using-a-VPN\n",
    "* https://www.reddit.com/r/Tiktokhelp/comments/j8ztmj/anyone_here_who_uses_the_sim_card_trick_to_send/\n",
    "\n",
    "<h4><font color=seagreen> TikTok Algorithm updates 2022  </h4></font><font color=seagreen>\n",
    "* https://blog.hootsuite.com/tiktok-algorithm/\n",
    "* https://blog.contentstudio.io/tiktok-algorithm/\n",
    "* https://www.cruxfinder.com/how-tiktok-algorithm-works/\n",
    "https://later.com/blog/tiktok-algorithm/\n",
    "* https://www.music-tomorrow.com/blog/a-complete-guide-tiktok-for-you-algorithm-for-musicians (Has this good chart for alg, int behind loc rules, source NYT)\n",
    "\n",
    "<img src='../images/alg.jpeg' height=500 width=700><br />\n",
    "*orig source https://www.nytimes.com/2021/12/05/business/media/tiktok-algorithm.html*\n",
    "\n",
    "\n",
    "<h4><font color=seagreen> API/scraping  </h4></font><font color=seagreen>\n",
    "    \n",
    "* thing i sent to derry/comparison of api wrappers https://data-ox.com/tips-tricks-for-tiktok-data-scraping/\n",
    "* msg david as sos\n",
    "<br />\n",
    "\n",
    "<h4><font color=seagreen> Modeling  </h4></font><font color=seagreen>\n",
    "    \n",
    "* ben says this is a good example of unsupervised learning https://www.pewresearch.org/religion/2018/08/29/the-religious-typology/\n",
    "\n",
    "<h4><font color=seagreen> needed stuff </h4></font><font color=seagreen>\n",
    "    \n",
    "* estimate video views\n",
    "* est video likes\n",
    "* video id\n",
    "* creator id --> then scrape creator id profile info for location.\n",
    "* popular creator tag\n",
    "* comments #, maybe\n",
    "* post metadata: song --> may be able to scrape song info pretty directly\n",
    "* post metadata: decrip --> parse out hashtags. then can scrape info on hashtag itself, needs sep function i think\n",
    "\n",
    "<h4><font color=seagreen> unsure </h4></font><font color=seagreen>   \n",
    "    \n",
    "* user bio. do ppl ever use these seriously?\n",
    "* *followers/following would be interesting for network analysis* later\n",
    "\n",
    "</font>"
   ]
  },
  {
   "cell_type": "markdown",
   "id": "c5d5e282-73c9-4872-a772-c793b991b685",
   "metadata": {},
   "source": [
    "weird dependency tracker\n",
    "\n",
    "pip install nest_asyncio to fix \"this event loop is already running\" error \n",
    "\n",
    "pip install playwright https://playwright.dev/python/docs/intro #then playwright install in term\n",
    "\n"
   ]
  },
  {
   "cell_type": "markdown",
   "id": "000a82bf-691a-40a7-960d-2af02cdeb472",
   "metadata": {},
   "source": [
    "<font color=white>.</font>"
   ]
  },
  {
   "cell_type": "markdown",
   "id": "daf95221-38d3-4e54-8159-12ab78cb6cc1",
   "metadata": {},
   "source": [
    "# Data Collection"
   ]
  },
  {
   "cell_type": "markdown",
   "id": "fa57f258-3d07-4ab3-b10c-ce20baf49916",
   "metadata": {},
   "source": [
    "#### Imports"
   ]
  },
  {
   "cell_type": "markdown",
   "id": "0030378b-4ce1-4457-ac10-8b510e4f8305",
   "metadata": {},
   "source": [
    "<font color=white>.</font>"
   ]
  },
  {
   "cell_type": "code",
   "execution_count": 5,
   "id": "664bd2f4",
   "metadata": {},
   "outputs": [
    {
     "ename": "ModuleNotFoundError",
     "evalue": "No module named 'PyTikTokAPI'",
     "output_type": "error",
     "traceback": [
      "\u001b[0;31m---------------------------------------------------------------------------\u001b[0m",
      "\u001b[0;31mModuleNotFoundError\u001b[0m                       Traceback (most recent call last)",
      "\u001b[0;32m/var/folders/zd/6jtvs5r55vvdpnl2c2q7kv0m0000gn/T/ipykernel_6816/3135490000.py\u001b[0m in \u001b[0;36m<module>\u001b[0;34m\u001b[0m\n\u001b[1;32m      8\u001b[0m \u001b[0;31m#from PyTikTokAPI import TikTokAPI\u001b[0m\u001b[0;34m\u001b[0m\u001b[0;34m\u001b[0m\u001b[0m\n\u001b[1;32m      9\u001b[0m \u001b[0;31m#from TikTokAPI import TikTokAPI\u001b[0m\u001b[0;34m\u001b[0m\u001b[0;34m\u001b[0m\u001b[0m\n\u001b[0;32m---> 10\u001b[0;31m \u001b[0;32mimport\u001b[0m \u001b[0mPyTikTokAPI\u001b[0m\u001b[0;34m\u001b[0m\u001b[0;34m\u001b[0m\u001b[0m\n\u001b[0m\u001b[1;32m     11\u001b[0m \u001b[0;34m\u001b[0m\u001b[0m\n\u001b[1;32m     12\u001b[0m \u001b[0;34m\u001b[0m\u001b[0m\n",
      "\u001b[0;31mModuleNotFoundError\u001b[0m: No module named 'PyTikTokAPI'"
     ]
    }
   ],
   "source": [
    "import requests\n",
    "import pandas as pd\n",
    "import json\n",
    "import csv\n",
    "import time\n",
    "import datetime\n",
    "#import TikTokAPI \n",
    "#from PyTikTokAPI import TikTokAPI\n",
    "#from TikTokAPI import TikTokAPI\n",
    "#import PyTikTokAPI #bruh\n",
    "\n",
    "\n",
    "import nest_asyncio  # This was used for TTAPI, PTTAPI, and TTApi, to fix jup issue. \n",
    "nest_asyncio.apply()"
   ]
  },
  {
   "cell_type": "markdown",
   "id": "f263203b-11d8-4231-abba-22baedb61cad",
   "metadata": {},
   "source": [
    "<font color=white>.</font>"
   ]
  },
  {
   "cell_type": "markdown",
   "id": "bbcae8c8-f14a-4b02-9995-9d28d55039e2",
   "metadata": {},
   "source": [
    "#### Testing API options"
   ]
  },
  {
   "cell_type": "markdown",
   "id": "31eef2d1-3a09-465a-a6fa-9bae56105468",
   "metadata": {},
   "source": [
    "Tiktok's base API: limited to mobile app developers only? I applied with some fake app info, haven't heard back\n",
    "\n",
    "I have read that tiktok is notoriously difficult to scrape without rotating proxies so I may need to figure out another API situation"
   ]
  },
  {
   "cell_type": "code",
   "execution_count": null,
   "id": "dd43916a-cb7a-4f17-ae99-171ae6573517",
   "metadata": {
    "tags": []
   },
   "outputs": [],
   "source": [
    "# This was used for TTAPI, PTTAPI, and TTApi. I don't want to look it up again so I'm keeping it here just in case I need\n",
    "\n",
    "cookie = {\n",
    "  \"s_v_web_id\": \"verify_l3i9rnkc_yKd8JM44_0Cok_4R0r_Aqp0_D5D7yXVYsgIy\",\n",
    "  \"tt_webid\": \"1%7Cxi1cBCWLg93Epr417z4hrR0PNB71EdHOZfEpjveR6MI%7C1653282654%7C3091c2df8064e7373676e3f5c66b3dd52fb674deca890e72bb37ec99bfcfed72\" #ttwid\n",
    "}"
   ]
  },
  {
   "cell_type": "code",
   "execution_count": 28,
   "id": "bc7469c7-6629-4527-8c7e-13b1bc766b85",
   "metadata": {},
   "outputs": [],
   "source": [
    "from TikTokApi import TikTokApi\n",
    "nest_asyncio.apply()\n",
    "\n",
    "with TikTokApi() as api:\n",
    "    for trending_video in api.trending.videos(count=2):\n",
    "        # Prints the author's username of the trending video.\n",
    "        print(trending_video.author.username)"
   ]
  },
  {
   "cell_type": "code",
   "execution_count": null,
   "id": "c0b5dba5-115a-4f82-b481-c37bda514bc9",
   "metadata": {},
   "outputs": [],
   "source": [
    "for trending_video in api.trending.videos(count=3):\n",
    "    user_stats = trending_video.author.info_full['stats'] \n",
    "    \n",
    "    \"\"\"\"Crazy slow. This code block has been running for hours.\"\"\"\"\""
   ]
  },
  {
   "cell_type": "code",
   "execution_count": null,
   "id": "3feda253-a973-4b49-8fa3-a940903228e1",
   "metadata": {},
   "outputs": [],
   "source": [
    "user_stats"
   ]
  },
  {
   "cell_type": "markdown",
   "id": "0f7500ab-7c71-4a19-b29c-65fdbdc37bfa",
   "metadata": {},
   "source": [
    "<font color=white>.</font>"
   ]
  },
  {
   "cell_type": "markdown",
   "id": "da235d7f-85bd-422e-b4b6-7f5203ee1eb3",
   "metadata": {},
   "source": [
    "\"TikTok has only one HTTP endpoint, which it makes available to developers. It enables users to obtain the embedded code for various videos. Visit TikTok's Developers page to get access to this official API and instructions on how to embed it. However, because the API is limited, it's advisable to explore alternatives to research TikTok posts and comments.\n",
    "\n",
    "Unofficial APIs may become one of these alternatives because they allow consumers to access more data and have fewer restrictions.\""
   ]
  },
  {
   "cell_type": "markdown",
   "id": "846aae22-2dec-40e1-9022-586a34d5ae5f",
   "metadata": {},
   "source": [
    "<font color=white>.</font>"
   ]
  },
  {
   "cell_type": "code",
   "execution_count": null,
   "id": "bce2755e-1ef7-496d-b543-c37249b310d8",
   "metadata": {},
   "outputs": [],
   "source": [
    "# base api - no access\n",
    "# orig TikTokApi - VERY SLOW\n",
    "# TikTokAPI , PyTikTokAPI - supposedly faster, they download fine but then refuse to import\n",
    "# tiktok-scraper - downloads videos only, no metadata\n",
    "\n",
    "# requests + selenium + beautifulsoup -  I think this may end up being a capstone project in and of itself\n"
   ]
  },
  {
   "cell_type": "markdown",
   "id": "106766e3-cf69-4932-bacd-075247c8deec",
   "metadata": {},
   "source": [
    "http://webcache.googleusercontent.com/search?q=cache:o1CFsRJ-eMEJ:https://towardsdatascience.com/in-10-minutes-web-scraping-with-beautiful-soup-and-selenium-for-data-professionals-8de169d36319&client=safari&hl=en&gl=us&strip=1&vwsrc=0"
   ]
  },
  {
   "cell_type": "markdown",
   "id": "257f36ba-f921-416c-ac0a-833de355e94f",
   "metadata": {},
   "source": [
    "<font color=white>.</font>"
   ]
  },
  {
   "cell_type": "markdown",
   "id": "abe32a16-d89e-4a5a-854f-787bd6023023",
   "metadata": {},
   "source": [
    "Due to official unofficial API being extremely slow and official API being limited, may end up using a paid API for project until I have time for better solution"
   ]
  },
  {
   "cell_type": "code",
   "execution_count": null,
   "id": "9ada588b-9f34-4ab3-a1f6-ec55a656b5bd",
   "metadata": {},
   "outputs": [],
   "source": [
    "# JUST IN CASE - options\n",
    "\n",
    "\"\"\"\"\"\"\"\"\"\"\"\"\"\"\"\"\"\"\"\"\"\"\"\"\"\"\"\"\"\"\"\"\"\"\"\"\"\"\"\"\"\"\"\"\"\"\"\"\"\"\"\"\"\"\"\"\"\"\"\"\"\"\"\"\"\"\"\"\"\"\"\"\"\"\"\"\"\"\"\"\"\"\"\"\"\"\"\"\"\"\"\"\"\"\"\"\"\"\"\"\"\"\"\"\"\"\"\"\"\"\"\"\"\"\"\"\"\"\"\"\"\"\"\"\"\"\"\"\"\"\"\"\n",
    "\n",
    "\n",
    "\"\"\" This one is similar but has trending videos by region as an endpoint already V HELPFUL!!! \"\"\"\n",
    "\"\"\"Pro\n",
    "$4.99 / mo, 2000 RQ, 100RQPM\"\"\"\n",
    "# https://rapidapi.com/ponds4552/api/tiktok-best-experience/\n",
    "\n",
    "\n",
    "import requests\n",
    "\n",
    "url = \"https://tiktok-best-experience.p.rapidapi.com/trending/US\"\n",
    "querystring = {\"custom_cursor\":\"7018021176124818950\"}\n",
    "headers = {\n",
    "\"X-RapidAPI-Host\": \"tiktok-best-experience.p.rapidapi.com\",\n",
    "\"X-RapidAPI-Key\": \"SIGN-UP-FOR-KEY\"\n",
    "}\n",
    "response = requests.request(\"GET\", url, headers=headers, params=querystring)\n",
    "print(response.text)\n",
    "\n",
    "\n",
    "\n",
    "\"\"\"\"\"\"\"\"\"\"\"\"\"\"\"\"\"\"\"\"\"\"\"\"\"\"\"\"\"\"\"\"\"\"\"\"\"\"\"\"\"\"\"\"\"\"\"\"\"\"\"\"\"\"\"\"\"\"\"\"\"\"\"\"\"\"\"\"\"\"\"\"\"\"\"\"\"\"\"\"\"\"\"\"\"\"\"\"\"\"\"\"\"\"\"\"\"\"\"\"\"\"\"\"\"\"\"\"\"\"\"\"\"\"\"\"\"\"\"\"\"\"\"\"\"\"\"\"\"\"\"\"\n",
    "\n",
    "\n",
    "\n",
    "\"\"\"Built for large scale crawling, low latency high availibility.\n",
    "Get TikTok user data, feed, trends, hashtags, music and even generate signature all in one API.  $15/mo for 200,000 / month, 60 RQPM\"\"\"\n",
    "#  https://rapidapi.com/premium-apis-premium-apis-default/api/tiktok33/ \n",
    "\n",
    "import requests\n",
    "\n",
    "headers = {\n",
    "\"X-RapidAPI-Host\": \"tiktok33.p.rapidapi.com\",\n",
    "\"X-RapidAPI-Key\": \"SIGN-UP-FOR-KEY\"\n",
    "}\n",
    "\n",
    "# TRENDING\n",
    "url = \"https://tiktok33.p.rapidapi.com/trending/feed\"\n",
    "response = requests.request(\"GET\", url, headers=headers)\n",
    "print(response.text)\n",
    "\n",
    "# VIDEO INFO\n",
    "url = \"https://tiktok33.p.rapidapi.com/video/info\"\n",
    "\n",
    "#As you might already know, certain TikTok endpoints needs a signature to work, you can sign your requests with this API.\n",
    "url = \"https://tiktok33.p.rapidapi.com/sign/https://www.tiktok.com/music/Savage-6800996740322297858\"\n",
    "querystring = {\"lang\":\"en\"}\n",
    "response = requests.request(\"GET\", url, headers=headers, params=querystring)\n",
    "print(response.text)\n",
    "\n",
    "\n",
    "\n",
    "Bonus: 20rq/day on this for free v: https://rapidapi.com/songstats-app-songstats-app-default/api/songstats/\n",
    "only free option for getting comments that I know of: https://github.com/cubernetes/TikTokCommentScraper"
   ]
  },
  {
   "cell_type": "markdown",
   "id": "916119fb-4b47-4ecb-8c1e-3b79be4c0847",
   "metadata": {},
   "source": [
    "<font color=white>.</font>"
   ]
  },
  {
   "cell_type": "markdown",
   "id": "42a69cb6-b092-4785-b839-01a7b6b332e7",
   "metadata": {},
   "source": [
    "****** The rest of this notebook is copy/pasted from my reddit project and will be edited later. ******"
   ]
  },
  {
   "cell_type": "markdown",
   "id": "58a94477-3df4-4fb7-b1be-7b87543f516a",
   "metadata": {},
   "source": [
    "****** The rest of this notebook is copy/pasted from my reddit project and will be edited later. ******"
   ]
  },
  {
   "cell_type": "markdown",
   "id": "2535d1f8-4939-4e71-9746-5cdba3d45d64",
   "metadata": {},
   "source": [
    "****** The rest of this notebook is copy/pasted from my reddit project and will be edited later. ******"
   ]
  },
  {
   "cell_type": "markdown",
   "id": "aa7682b0-1239-4e80-bdf6-7b64061ea6ed",
   "metadata": {},
   "source": [
    "****** The rest of this notebook is copy/pasted from my reddit project and will be edited later. ******"
   ]
  },
  {
   "cell_type": "markdown",
   "id": "72f72e23-b516-44c6-8f59-645efcb69cff",
   "metadata": {},
   "source": [
    "****** The rest of this notebook is copy/pasted from my reddit project and will be edited later. ******"
   ]
  },
  {
   "cell_type": "markdown",
   "id": "09909cc8-ad6a-43ec-b9dd-e310fa709693",
   "metadata": {},
   "source": [
    "****** The rest of this notebook is copy/pasted from my reddit project and will be edited later. ******"
   ]
  },
  {
   "cell_type": "markdown",
   "id": "ba5baf56-a251-47d9-b032-bb0946f4fafe",
   "metadata": {},
   "source": [
    "****** The rest of this notebook is copy/pasted from my reddit project and will be edited later. ******"
   ]
  },
  {
   "cell_type": "markdown",
   "id": "2986e73f-e35a-4c71-b6fa-85cbaeafe952",
   "metadata": {},
   "source": [
    "****** The rest of this notebook is copy/pasted from my reddit project and will be edited later. ******"
   ]
  },
  {
   "cell_type": "markdown",
   "id": "c3321fa2-1315-4c8f-a810-5fba7c275492",
   "metadata": {},
   "source": [
    "****** The rest of this notebook is copy/pasted from my reddit project and will be edited later. ******"
   ]
  },
  {
   "cell_type": "markdown",
   "id": "ce6574ae-b471-4358-9602-a18b503bdfa6",
   "metadata": {},
   "source": [
    "<font color=white>.</font>"
   ]
  },
  {
   "cell_type": "markdown",
   "id": "11324c09-b9bd-4445-8ad1-de7dd5df8bb0",
   "metadata": {
    "jp-MarkdownHeadingCollapsed": true,
    "tags": []
   },
   "source": [
    "Here is all the data that the Reddit API makes available to us:"
   ]
  },
  {
   "cell_type": "code",
   "execution_count": 25,
   "id": "5e725d60",
   "metadata": {},
   "outputs": [
    {
     "data": {
      "text/plain": [
       "Index(['all_awardings', 'allow_live_comments', 'author',\n",
       "       'author_flair_css_class', 'author_flair_richtext', 'author_flair_text',\n",
       "       'author_flair_type', 'author_fullname', 'author_is_blocked',\n",
       "       'author_patreon_flair', 'author_premium', 'awarders', 'can_mod_post',\n",
       "       'contest_mode', 'created_utc', 'domain', 'full_link', 'gildings', 'id',\n",
       "       'is_created_from_ads_ui', 'is_crosspostable', 'is_meta',\n",
       "       'is_original_content', 'is_reddit_media_domain', 'is_robot_indexable',\n",
       "       'is_self', 'is_video', 'link_flair_background_color',\n",
       "       'link_flair_richtext', 'link_flair_text_color', 'link_flair_type',\n",
       "       'locked', 'media_only', 'no_follow', 'num_comments', 'num_crossposts',\n",
       "       'over_18', 'parent_whitelist_status', 'permalink', 'pinned', 'pwls',\n",
       "       'retrieved_on', 'score', 'selftext', 'send_replies', 'spoiler',\n",
       "       'stickied', 'subreddit', 'subreddit_id', 'subreddit_subscribers',\n",
       "       'subreddit_type', 'thumbnail', 'title', 'total_awards_received',\n",
       "       'treatment_tags', 'upvote_ratio', 'url', 'whitelist_status', 'wls',\n",
       "       'link_flair_template_id', 'link_flair_text', 'link_flair_css_class',\n",
       "       'media', 'media_embed', 'post_hint', 'preview', 'secure_media',\n",
       "       'secure_media_embed', 'thumbnail_height', 'thumbnail_width',\n",
       "       'url_overridden_by_dest', 'removed_by_category', 'crosspost_parent',\n",
       "       'crosspost_parent_list', 'gallery_data', 'is_gallery', 'media_metadata',\n",
       "       'author_flair_template_id', 'author_flair_text_color',\n",
       "       'author_flair_background_color', 'suggested_sort'],\n",
       "      dtype='object')"
      ]
     },
     "execution_count": 25,
     "metadata": {},
     "output_type": "execute_result"
    }
   ],
   "source": [
    "df.columns"
   ]
  },
  {
   "cell_type": "markdown",
   "id": "d32b5536-3cc0-44ef-9888-44c04e822d15",
   "metadata": {},
   "source": [
    "<font color=white>.</font>"
   ]
  },
  {
   "cell_type": "markdown",
   "id": "e223fc45-2df7-4ade-9392-1588b2d5e9f7",
   "metadata": {},
   "source": [
    "Looking at the 'subreddit', 'selftext', and 'title' categories of the data I pulled."
   ]
  },
  {
   "cell_type": "code",
   "execution_count": 26,
   "id": "2e147686",
   "metadata": {},
   "outputs": [
    {
     "data": {
      "text/html": [
       "<div>\n",
       "<style scoped>\n",
       "    .dataframe tbody tr th:only-of-type {\n",
       "        vertical-align: middle;\n",
       "    }\n",
       "\n",
       "    .dataframe tbody tr th {\n",
       "        vertical-align: top;\n",
       "    }\n",
       "\n",
       "    .dataframe thead th {\n",
       "        text-align: right;\n",
       "    }\n",
       "</style>\n",
       "<table border=\"1\" class=\"dataframe\">\n",
       "  <thead>\n",
       "    <tr style=\"text-align: right;\">\n",
       "      <th></th>\n",
       "      <th>subreddit</th>\n",
       "      <th>selftext</th>\n",
       "      <th>title</th>\n",
       "    </tr>\n",
       "  </thead>\n",
       "  <tbody>\n",
       "    <tr>\n",
       "      <th>0</th>\n",
       "      <td>boardgames</td>\n",
       "      <td>As a young, 19 year old woman, I felt down upo...</td>\n",
       "      <td>The board game community saved my life</td>\n",
       "    </tr>\n",
       "    <tr>\n",
       "      <th>1</th>\n",
       "      <td>boardgames</td>\n",
       "      <td>I am looking at getting my partner a game mat ...</td>\n",
       "      <td>Suggestion: Tabletop Board Game Mat</td>\n",
       "    </tr>\n",
       "    <tr>\n",
       "      <th>2</th>\n",
       "      <td>boardgames</td>\n",
       "      <td>So I'm on the hunt, no pun intended, for a rea...</td>\n",
       "      <td>Best murder mystery co-op games (not board games)</td>\n",
       "    </tr>\n",
       "    <tr>\n",
       "      <th>3</th>\n",
       "      <td>boardgames</td>\n",
       "      <td></td>\n",
       "      <td>I bought a retro chess computer! Enterprise S ...</td>\n",
       "    </tr>\n",
       "    <tr>\n",
       "      <th>4</th>\n",
       "      <td>boardgames</td>\n",
       "      <td></td>\n",
       "      <td>You play r/Ark_Nova? Prove it, you zoo-buildin...</td>\n",
       "    </tr>\n",
       "  </tbody>\n",
       "</table>\n",
       "</div>"
      ],
      "text/plain": [
       "    subreddit                                           selftext  \\\n",
       "0  boardgames  As a young, 19 year old woman, I felt down upo...   \n",
       "1  boardgames  I am looking at getting my partner a game mat ...   \n",
       "2  boardgames  So I'm on the hunt, no pun intended, for a rea...   \n",
       "3  boardgames                                                      \n",
       "4  boardgames                                                      \n",
       "\n",
       "                                               title  \n",
       "0             The board game community saved my life  \n",
       "1                Suggestion: Tabletop Board Game Mat  \n",
       "2  Best murder mystery co-op games (not board games)  \n",
       "3  I bought a retro chess computer! Enterprise S ...  \n",
       "4  You play r/Ark_Nova? Prove it, you zoo-buildin...  "
      ]
     },
     "execution_count": 26,
     "metadata": {},
     "output_type": "execute_result"
    }
   ],
   "source": [
    "df[['subreddit', 'selftext', 'title']].head()"
   ]
  },
  {
   "cell_type": "markdown",
   "id": "ccca32f3-bae2-4ffe-9f46-8a1a59ad1001",
   "metadata": {},
   "source": [
    "<font color=white>.</font>"
   ]
  },
  {
   "cell_type": "markdown",
   "id": "a92c74a5-6af9-4da2-9c3f-b353e255dd7a",
   "metadata": {},
   "source": [
    "## Data Collection"
   ]
  },
  {
   "cell_type": "markdown",
   "id": "c115c80a-239d-45e2-98f9-5b4f9c83364f",
   "metadata": {},
   "source": [
    "The reddit API only allows you to pull 100 rows of data per request. In order to pull more without ending up with duplicate data, you need a function that specifies 'before' and 'after' dates for the date of each post.\n",
    "\n",
    "To avoid converting timestamps and adding dates, I calculated the 'before' and 'after' parameters based off UTC time. It doesn't really matter that these are exact. These subreddits are active, so I found that a one-month span for around 100 posts worked well even if it didn't capture every post."
   ]
  },
  {
   "cell_type": "code",
   "execution_count": 45,
   "id": "c219e9a6-585e-4833-bcdb-a8c76be335bb",
   "metadata": {
    "tags": []
   },
   "outputs": [
    {
     "name": "stdout",
     "output_type": "stream",
     "text": [
      "1651443724.311495\n"
     ]
    }
   ],
   "source": [
    "# Get today's date in UTC timestamp\n",
    "# UTC datetime is calculated in \"seconds elapsed\", usually seconds elapsed since a specific date in 1970. \n",
    "# One year is about 31,536,000 seconds, one month is 2,628,288.\n",
    "\n",
    "from datetime import timezone\n",
    "dt = datetime.datetime.now(timezone.utc)\n",
    "utc_time = dt.replace(tzinfo=timezone.utc)\n",
    "today = utc_time.timestamp()\n",
    "\n",
    "print(today)    "
   ]
  },
  {
   "cell_type": "markdown",
   "id": "9e9cf86f-4670-44df-a8ca-30dc223e4007",
   "metadata": {},
   "source": [
    "<font color=white>.</font>"
   ]
  },
  {
   "cell_type": "markdown",
   "id": "620a9ec0-7a6a-46ca-9068-f35809dce8cf",
   "metadata": {},
   "source": [
    "I wrote a function that generates a dictionary of before:after timestamp ranges to pass into my api function."
   ]
  },
  {
   "cell_type": "code",
   "execution_count": 36,
   "id": "ffb24510-f6e7-4525-b5c7-60a75a717a46",
   "metadata": {
    "tags": []
   },
   "outputs": [
    {
     "name": "stdout",
     "output_type": "stream",
     "text": [
      "1651442009.675046\n"
     ]
    },
    {
     "data": {
      "text/plain": [
       "{1651442010: 1648822010, 1648822010: 1646202010, 1646202010: 1643582010}"
      ]
     },
     "execution_count": 36,
     "metadata": {},
     "output_type": "execute_result"
    }
   ],
   "source": [
    "def range_generator(num_months):\n",
    "    rangelist={}\n",
    "    onemonth = 2620000\n",
    "    for i in range (0, num_months):\n",
    "        after = int(round(today - (onemonth*(i+1)),0)) \n",
    "        before = int(round(today - (onemonth*i), 0)) #When i is 0, \"before\" is set to today.\n",
    "        rangelist[before]=after\n",
    "    return(rangelist)\n",
    "\n",
    "range_generator(3)"
   ]
  },
  {
   "cell_type": "markdown",
   "id": "4582cc2f-b431-4d3a-9799-fc0900c65b1c",
   "metadata": {},
   "source": [
    "<font color=white>.</font>"
   ]
  },
  {
   "cell_type": "markdown",
   "id": "ce2850c0-c61c-437f-a076-fe9de9c73884",
   "metadata": {},
   "source": [
    "Next I chose the fields I wanted to pull from the API, and wrote a function to automate api requests."
   ]
  },
  {
   "cell_type": "code",
   "execution_count": 37,
   "id": "2f229224-a566-4a00-938d-4507beb18157",
   "metadata": {},
   "outputs": [
    {
     "data": {
      "text/html": [
       "<div>\n",
       "<style scoped>\n",
       "    .dataframe tbody tr th:only-of-type {\n",
       "        vertical-align: middle;\n",
       "    }\n",
       "\n",
       "    .dataframe tbody tr th {\n",
       "        vertical-align: top;\n",
       "    }\n",
       "\n",
       "    .dataframe thead th {\n",
       "        text-align: right;\n",
       "    }\n",
       "</style>\n",
       "<table border=\"1\" class=\"dataframe\">\n",
       "  <thead>\n",
       "    <tr style=\"text-align: right;\">\n",
       "      <th></th>\n",
       "      <th>author</th>\n",
       "      <th>created_utc</th>\n",
       "      <th>id</th>\n",
       "      <th>is_created_from_ads_ui</th>\n",
       "      <th>num_comments</th>\n",
       "      <th>score</th>\n",
       "      <th>selftext</th>\n",
       "      <th>subreddit</th>\n",
       "      <th>title</th>\n",
       "      <th>total_awards_received</th>\n",
       "      <th>upvote_ratio</th>\n",
       "      <th>url</th>\n",
       "    </tr>\n",
       "  </thead>\n",
       "  <tbody>\n",
       "    <tr>\n",
       "      <th>0</th>\n",
       "      <td>unit111</td>\n",
       "      <td>1648482436</td>\n",
       "      <td>tqc9ff</td>\n",
       "      <td>False</td>\n",
       "      <td>0</td>\n",
       "      <td>1</td>\n",
       "      <td>Basically title. I am trying to figure out if ...</td>\n",
       "      <td>learnpython</td>\n",
       "      <td>Has anybody used Playwright with Behave</td>\n",
       "      <td>0</td>\n",
       "      <td>1.0</td>\n",
       "      <td>https://www.reddit.com/r/learnpython/comments/...</td>\n",
       "    </tr>\n",
       "  </tbody>\n",
       "</table>\n",
       "</div>"
      ],
      "text/plain": [
       "    author  created_utc      id  is_created_from_ads_ui  num_comments  score  \\\n",
       "0  unit111   1648482436  tqc9ff                   False             0      1   \n",
       "\n",
       "                                            selftext    subreddit  \\\n",
       "0  Basically title. I am trying to figure out if ...  learnpython   \n",
       "\n",
       "                                     title  total_awards_received  \\\n",
       "0  Has anybody used Playwright with Behave                      0   \n",
       "\n",
       "   upvote_ratio                                                url  \n",
       "0           1.0  https://www.reddit.com/r/learnpython/comments/...  "
      ]
     },
     "execution_count": 37,
     "metadata": {},
     "output_type": "execute_result"
    }
   ],
   "source": [
    "# Choosing the fields I want to pull from the API\n",
    "fields = ['id', 'created_utc', 'title', 'selftext', 'author', 'upvote_ratio', 'score', 'num_comments', 'subreddit', 'total_awards_received', 'is_created_from_ads_ui', 'url']\n",
    "\n",
    "def query(subreddit, num, before, after):   \n",
    "    params = {\n",
    "    'subreddit': subreddit,\n",
    "    'size':num,\n",
    "    'before':before,\n",
    "    'after':after,\n",
    "    'fields':fields}    # defined above\n",
    "    url = 'https://api.pushshift.io/reddit/search/submission/?'\n",
    "    res = requests.get(url, params)\n",
    "\n",
    "    data = res.json()\n",
    "    test = pd.DataFrame(data['data'])\n",
    "    return(test)\n",
    "\n",
    "# Testing my function\n",
    "query('learnpython', 1, 1651108665, 1648480377)"
   ]
  },
  {
   "cell_type": "markdown",
   "id": "bb87ac48-267e-4ff5-a685-567ba7f20249",
   "metadata": {},
   "source": [
    "<font color=white>.</font>"
   ]
  },
  {
   "cell_type": "markdown",
   "id": "a4e9fd4c-0cc5-4c5f-ab81-0c8cbf169e0c",
   "metadata": {},
   "source": [
    "I then iterated over my before:after dictionary and passed key:value pairs into the api function to set my time range.  \n",
    "\n",
    "Due to differences in each subreddit's activity, I had to set my range of time to much longer for r/learnsql in order to avoid having unbalanced data. I chose to do this in a loop instead of a list comprehension so I could add sleep time and avoid overwhelming the API."
   ]
  },
  {
   "cell_type": "code",
   "execution_count": 46,
   "id": "bad1064f-4f2d-400d-a939-28bc65a46611",
   "metadata": {
    "collapsed": true,
    "jupyter": {
     "outputs_hidden": true
    },
    "tags": []
   },
   "outputs": [
    {
     "name": "stdout",
     "output_type": "stream",
     "text": [
      "pulled 100 rows\n",
      "pulled 100 rows\n",
      "pulled 100 rows\n",
      "pulled 100 rows\n",
      "pulled 100 rows\n",
      "pulled 100 rows\n",
      "pulled 100 rows\n",
      "pulled 100 rows\n",
      "pulled 100 rows\n",
      "pulled 100 rows\n",
      "pulled 100 rows\n",
      "pulled 100 rows\n",
      "pulled 100 rows\n",
      "pulled 100 rows\n",
      "pulled 100 rows\n",
      "pulled 100 rows\n",
      "pulled 100 rows\n",
      "pulled 100 rows\n",
      "pulled 100 rows\n",
      "pulled 100 rows\n",
      "pulled 100 rows\n",
      "pulled 100 rows\n",
      "pulled 100 rows\n",
      "pulled 100 rows\n",
      "pulled 100 rows\n",
      "pulled 100 rows\n",
      "pulled 100 rows\n",
      "pulled 100 rows\n",
      "pulled 100 rows\n",
      "pulled 100 rows\n",
      "pulled 100 rows\n",
      "pulled 100 rows\n",
      "pulled 100 rows\n",
      "pulled 100 rows\n",
      "<class 'pandas.core.frame.DataFrame'>\n",
      "Int64Index: 3396 entries, 0 to 98\n",
      "Data columns (total 12 columns):\n",
      " #   Column                  Non-Null Count  Dtype  \n",
      "---  ------                  --------------  -----  \n",
      " 0   author                  3396 non-null   object \n",
      " 1   created_utc             3396 non-null   int64  \n",
      " 2   id                      3396 non-null   object \n",
      " 3   is_created_from_ads_ui  1098 non-null   object \n",
      " 4   num_comments            3396 non-null   int64  \n",
      " 5   score                   3396 non-null   int64  \n",
      " 6   selftext                3388 non-null   object \n",
      " 7   subreddit               3396 non-null   object \n",
      " 8   title                   3396 non-null   object \n",
      " 9   total_awards_received   3396 non-null   int64  \n",
      " 10  upvote_ratio            2398 non-null   float64\n",
      " 11  url                     3396 non-null   object \n",
      "dtypes: float64(1), int64(4), object(7)\n",
      "memory usage: 344.9+ KB\n"
     ]
    }
   ],
   "source": [
    "# Pull and make dataframe for learnpython sub\n",
    "\n",
    "# List comp version sometimes works and sometimes doesn't, possibly because I can't add sleep time. I've commented it out for now\n",
    "# listdfs=[query('learnpython', 100, key, val) for key, val in rangelist.items()]\n",
    "\n",
    "listdfs=[]\n",
    "for key, val in range_generator(34).items():\n",
    "    i = query('learnpython', 100, key, val) \n",
    "    print('pulled 100 rows')\n",
    "    listdfs.append(i)\n",
    "    time.sleep(10)\n",
    "\n",
    "learnpython=pd.concat(listdfs)\n",
    "learnpython.info()"
   ]
  },
  {
   "cell_type": "code",
   "execution_count": 50,
   "id": "b1b349f8-3fe6-4cc1-ada2-212141bb34a0",
   "metadata": {},
   "outputs": [
    {
     "name": "stdout",
     "output_type": "stream",
     "text": [
      "<class 'pandas.core.frame.DataFrame'>\n",
      "Int64Index: 3396 entries, 0 to 98\n",
      "Data columns (total 12 columns):\n",
      " #   Column                  Non-Null Count  Dtype  \n",
      "---  ------                  --------------  -----  \n",
      " 0   author                  3396 non-null   object \n",
      " 1   created_utc             3396 non-null   int64  \n",
      " 2   id                      3396 non-null   object \n",
      " 3   is_created_from_ads_ui  1098 non-null   object \n",
      " 4   num_comments            3396 non-null   int64  \n",
      " 5   score                   3396 non-null   int64  \n",
      " 6   selftext                3388 non-null   object \n",
      " 7   subreddit               3396 non-null   object \n",
      " 8   title                   3396 non-null   object \n",
      " 9   total_awards_received   3396 non-null   int64  \n",
      " 10  upvote_ratio            2398 non-null   float64\n",
      " 11  url                     3396 non-null   object \n",
      "dtypes: float64(1), int64(4), object(7)\n",
      "memory usage: 344.9+ KB\n"
     ]
    }
   ],
   "source": [
    "learnpython.info()"
   ]
  },
  {
   "cell_type": "markdown",
   "id": "7452f1be-4771-4c4d-952f-5af62e7a8744",
   "metadata": {},
   "source": [
    "<font color=white>.</font>"
   ]
  },
  {
   "cell_type": "code",
   "execution_count": 44,
   "id": "3f1b2eed-8e5b-4934-8772-3a64418dd09c",
   "metadata": {
    "collapsed": true,
    "jupyter": {
     "outputs_hidden": true
    },
    "tags": []
   },
   "outputs": [
    {
     "name": "stdout",
     "output_type": "stream",
     "text": [
      "pulled 100 rows\n",
      "pulled 100 rows\n",
      "pulled 100 rows\n",
      "pulled 100 rows\n",
      "pulled 100 rows\n",
      "pulled 100 rows\n",
      "pulled 100 rows\n",
      "pulled 100 rows\n",
      "pulled 100 rows\n",
      "pulled 100 rows\n",
      "pulled 100 rows\n",
      "pulled 100 rows\n",
      "pulled 100 rows\n",
      "pulled 100 rows\n",
      "pulled 100 rows\n",
      "pulled 100 rows\n",
      "pulled 100 rows\n",
      "pulled 100 rows\n",
      "pulled 100 rows\n",
      "pulled 100 rows\n",
      "pulled 100 rows\n",
      "pulled 100 rows\n",
      "pulled 100 rows\n",
      "pulled 100 rows\n",
      "pulled 100 rows\n",
      "pulled 100 rows\n",
      "pulled 100 rows\n",
      "pulled 100 rows\n",
      "pulled 100 rows\n",
      "pulled 100 rows\n",
      "pulled 100 rows\n",
      "pulled 100 rows\n",
      "pulled 100 rows\n",
      "pulled 100 rows\n",
      "pulled 100 rows\n",
      "pulled 100 rows\n",
      "pulled 100 rows\n",
      "pulled 100 rows\n",
      "pulled 100 rows\n",
      "pulled 100 rows\n",
      "pulled 100 rows\n",
      "pulled 100 rows\n",
      "pulled 100 rows\n",
      "pulled 100 rows\n",
      "pulled 100 rows\n",
      "pulled 100 rows\n",
      "pulled 100 rows\n",
      "pulled 100 rows\n",
      "pulled 100 rows\n",
      "pulled 100 rows\n",
      "pulled 100 rows\n",
      "pulled 100 rows\n",
      "pulled 100 rows\n",
      "pulled 100 rows\n",
      "pulled 100 rows\n",
      "pulled 100 rows\n",
      "pulled 100 rows\n",
      "pulled 100 rows\n",
      "pulled 100 rows\n",
      "pulled 100 rows\n",
      "pulled 100 rows\n",
      "pulled 100 rows\n",
      "pulled 100 rows\n",
      "pulled 100 rows\n",
      "pulled 100 rows\n",
      "pulled 100 rows\n",
      "pulled 100 rows\n",
      "pulled 100 rows\n",
      "pulled 100 rows\n",
      "pulled 100 rows\n",
      "pulled 100 rows\n",
      "pulled 100 rows\n",
      "pulled 100 rows\n",
      "pulled 100 rows\n",
      "pulled 100 rows\n",
      "pulled 100 rows\n",
      "pulled 100 rows\n",
      "pulled 100 rows\n",
      "pulled 100 rows\n",
      "pulled 100 rows\n",
      "<class 'pandas.core.frame.DataFrame'>\n",
      "Int64Index: 3407 entries, 0 to 10\n",
      "Data columns (total 12 columns):\n",
      " #   Column                  Non-Null Count  Dtype  \n",
      "---  ------                  --------------  -----  \n",
      " 0   author                  3407 non-null   object \n",
      " 1   created_utc             3407 non-null   int64  \n",
      " 2   id                      3407 non-null   object \n",
      " 3   is_created_from_ads_ui  1030 non-null   object \n",
      " 4   num_comments            3407 non-null   int64  \n",
      " 5   score                   3407 non-null   int64  \n",
      " 6   selftext                3407 non-null   object \n",
      " 7   subreddit               3407 non-null   object \n",
      " 8   title                   3407 non-null   object \n",
      " 9   total_awards_received   2580 non-null   float64\n",
      " 10  upvote_ratio            1999 non-null   float64\n",
      " 11  url                     3407 non-null   object \n",
      "dtypes: float64(2), int64(3), object(7)\n",
      "memory usage: 346.0+ KB\n"
     ]
    }
   ],
   "source": [
    "# Pull and make dataframe for learnsql sub\n",
    "# List comp version sometimes works and sometimes doesn't, possibly because I can't add sleep time. I've commented it out for now\n",
    "# listdfs=[query('learnsql', 100, key, val) for key, val in rangelist.items()]\n",
    "\n",
    "listdfs=[]\n",
    "for key, val in range_generator(80).items():\n",
    "    i = query('learnsql', 100, key, val) \n",
    "    print('pulled 100 rows')\n",
    "    listdfs.append(i)\n",
    "    time.sleep(10)\n",
    "\n",
    "learnsql=pd.concat(listdfs)\n",
    "learnsql.info()"
   ]
  },
  {
   "cell_type": "code",
   "execution_count": 51,
   "id": "e5c0c4e1-9eb6-4a42-878b-5e05fe93d14b",
   "metadata": {},
   "outputs": [
    {
     "name": "stdout",
     "output_type": "stream",
     "text": [
      "<class 'pandas.core.frame.DataFrame'>\n",
      "Int64Index: 3407 entries, 0 to 10\n",
      "Data columns (total 12 columns):\n",
      " #   Column                  Non-Null Count  Dtype  \n",
      "---  ------                  --------------  -----  \n",
      " 0   author                  3407 non-null   object \n",
      " 1   created_utc             3407 non-null   int64  \n",
      " 2   id                      3407 non-null   object \n",
      " 3   is_created_from_ads_ui  1030 non-null   object \n",
      " 4   num_comments            3407 non-null   int64  \n",
      " 5   score                   3407 non-null   int64  \n",
      " 6   selftext                3407 non-null   object \n",
      " 7   subreddit               3407 non-null   object \n",
      " 8   title                   3407 non-null   object \n",
      " 9   total_awards_received   2580 non-null   float64\n",
      " 10  upvote_ratio            1999 non-null   float64\n",
      " 11  url                     3407 non-null   object \n",
      "dtypes: float64(2), int64(3), object(7)\n",
      "memory usage: 346.0+ KB\n"
     ]
    }
   ],
   "source": [
    "learnsql.info()"
   ]
  },
  {
   "cell_type": "markdown",
   "id": "739b1f08-be2f-426a-a8c1-fa2020f45358",
   "metadata": {},
   "source": [
    "<font color=white>.</font>"
   ]
  },
  {
   "cell_type": "markdown",
   "id": "be522af9-b8f3-4abf-aa2a-3a36af4cdd6b",
   "metadata": {},
   "source": [
    "#### Export dataframes"
   ]
  },
  {
   "cell_type": "code",
   "execution_count": 52,
   "id": "832db427",
   "metadata": {},
   "outputs": [],
   "source": [
    "# export df\n",
    "learnpython.to_csv('./data/learnpython2.csv')"
   ]
  },
  {
   "cell_type": "code",
   "execution_count": 53,
   "id": "b6c5055a-bdd2-4d7e-83ce-a483a47a8bb0",
   "metadata": {},
   "outputs": [],
   "source": [
    "learnsql.to_csv('./data/learnsql2.csv')"
   ]
  }
 ],
 "metadata": {
  "kernelspec": {
   "display_name": "Python 3 (ipykernel)",
   "language": "python",
   "name": "python3"
  },
  "language_info": {
   "codemirror_mode": {
    "name": "ipython",
    "version": 3
   },
   "file_extension": ".py",
   "mimetype": "text/x-python",
   "name": "python",
   "nbconvert_exporter": "python",
   "pygments_lexer": "ipython3",
   "version": "3.9.7"
  }
 },
 "nbformat": 4,
 "nbformat_minor": 5
}
