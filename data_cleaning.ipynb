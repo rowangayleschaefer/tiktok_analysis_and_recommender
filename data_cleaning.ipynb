{
 "cells": [
  {
   "cell_type": "markdown",
   "id": "2fecdbc4-1d35-425e-baa2-21cca98f59f2",
   "metadata": {},
   "source": [
    "<center><h1>     tiktok </h1></center>"
   ]
  },
  {
   "cell_type": "markdown",
   "id": "2f949c1d-17d0-4cce-9a32-d728b090b875",
   "metadata": {},
   "source": [
    "<center><img src=\"https://yt3.ggpht.com/ytc/AKedOLRcwXL5heetbKNzpLCY3LOgml-72EcmpALhcvry5g=s900-c-k-c0x00ffffff-no-rj\" alt=\"Logo\" width=\"80\" height=\"80\"></center>"
   ]
  },
  {
   "cell_type": "markdown",
   "id": "e3302ff0-6444-4e34-b957-378519a29f63",
   "metadata": {},
   "source": [
    "<center><h3> Part II: Data Cleaning/Preprocessing I </h3></center>"
   ]
  },
  {
   "cell_type": "markdown",
   "id": "a15ab9b3-31d6-44a2-b13f-50d59291a5ad",
   "metadata": {},
   "source": [
    "```diff\n",
    "- TO DO:\n",
    "\n",
    "- 1. steal preprocessing steps from modeling notebook\n",
    "\n",
    "- 1. Additional info in markdown for each step.\n",
    "\n",
    "- 2. Copy/paste background info from data collec file.\n",
    "\n",
    "\n",
    "@ TO DO: EVENTUALLY\n",
    "\n",
    "@ 1. Move all this to a script.\n",
    "\n",
    "@ 2. Move second requests pull here and add to data collection process.\n",
    "\n",
    "@ 3. Elim other columns earlier on if not needed.\n",
    "\n",
    "\n",
    "+ QUESTIONS\n",
    "\n",
    "+ think CV might be stripping emojis even though strip_accents = false\n",
    "\n",
    "+ CV question = ?\n",
    "\n",
    "\n",
    "```"
   ]
  },
  {
   "cell_type": "markdown",
   "id": "19c31ac4-2048-43fb-984a-e5d64ccb5f46",
   "metadata": {},
   "source": [
    "#### Background"
   ]
  },
  {
   "cell_type": "code",
   "execution_count": null,
   "id": "70bc3e11-13ca-4fc2-bf0e-dab266e9bc43",
   "metadata": {},
   "outputs": [],
   "source": [
    "# Copy/Paste some markdown from other file."
   ]
  },
  {
   "cell_type": "markdown",
   "id": "1c980455-c375-4400-8b9b-0f92ea9df632",
   "metadata": {},
   "source": [
    "."
   ]
  },
  {
   "cell_type": "markdown",
   "id": "35d4d159-0f2a-4591-a72e-d88dcf3f4af7",
   "metadata": {},
   "source": [
    "#### Imports"
   ]
  },
  {
   "cell_type": "code",
   "execution_count": 1,
   "id": "f8c0b9c3",
   "metadata": {
    "lines_to_next_cell": 2
   },
   "outputs": [],
   "source": [
    "import numpy as np\n",
    "import pandas as pd\n",
    "import requests\n",
    "import urllib\n",
    "import os\n",
    "from sklearn.feature_extraction.text import TfidfVectorizer, CountVectorizer\n",
    "pd.set_option('display.max_columns', None)\n",
    "pd.set_option('display.max_rows', None)"
   ]
  },
  {
   "cell_type": "markdown",
   "id": "5293dbcf-f179-4aae-963d-5ffd3cd26a57",
   "metadata": {},
   "source": [
    "."
   ]
  },
  {
   "cell_type": "markdown",
   "id": "9da9bf55-05a0-4d2d-9a59-1c2c8d2de33d",
   "metadata": {},
   "source": [
    "### Data Cleaning - Single Country"
   ]
  },
  {
   "cell_type": "markdown",
   "id": "0e827fb1",
   "metadata": {},
   "source": [
    "Data Cleaning process for a single country first."
   ]
  },
  {
   "cell_type": "code",
   "execution_count": 2,
   "id": "9aa643ed",
   "metadata": {},
   "outputs": [],
   "source": [
    "bz = pd.read_csv('./data/originals/tiktok_BZ.csv', index_col=[0])"
   ]
  },
  {
   "cell_type": "code",
   "execution_count": 3,
   "id": "80b90c19",
   "metadata": {},
   "outputs": [
    {
     "name": "stdout",
     "output_type": "stream",
     "text": [
      "<class 'pandas.core.frame.DataFrame'>\n",
      "Int64Index: 640 entries, 0 to 7\n",
      "Data columns (total 37 columns):\n",
      " #   Column                                Non-Null Count  Dtype  \n",
      "---  ------                                --------------  -----  \n",
      " 0   region                                639 non-null    object \n",
      " 1   aweme_id                              640 non-null    int64  \n",
      " 2   create_time                           640 non-null    int64  \n",
      " 3   desc                                  562 non-null    object \n",
      " 4   author.uid                            640 non-null    int64  \n",
      " 5   author.nickname                       640 non-null    object \n",
      " 6   author.signature                      599 non-null    object \n",
      " 7   author.custom_verify                  83 non-null     object \n",
      " 8   author.commerce_user_level            640 non-null    int64  \n",
      " 9   is_ads                                640 non-null    bool   \n",
      " 10  share_url                             640 non-null    object \n",
      " 11  statistics.play_count                 640 non-null    int64  \n",
      " 12  statistics.comment_count              640 non-null    int64  \n",
      " 13  statistics.share_count                640 non-null    int64  \n",
      " 14  statistics.download_count             640 non-null    int64  \n",
      " 15  statistics.digg_count                 640 non-null    int64  \n",
      " 16  music.id                              640 non-null    int64  \n",
      " 17  music.mid                             640 non-null    int64  \n",
      " 18  music.source_platform                 640 non-null    int64  \n",
      " 19  music.id_str                          640 non-null    int64  \n",
      " 20  music.title                           640 non-null    object \n",
      " 21  music.author                          640 non-null    object \n",
      " 22  music.owner_id                        438 non-null    float64\n",
      " 23  music.owner_nickname                  438 non-null    object \n",
      " 24  music.is_original                     640 non-null    bool   \n",
      " 25  music.is_commerce_music               640 non-null    bool   \n",
      " 26  music.play_url.uri                    636 non-null    object \n",
      " 27  music.strong_beat_url.uri             480 non-null    object \n",
      " 28  music.is_author_artist                640 non-null    bool   \n",
      " 29  music.is_pgc                          640 non-null    bool   \n",
      " 30  music.matched_pgc_sound.author        125 non-null    object \n",
      " 31  music.matched_pgc_sound.title         125 non-null    object \n",
      " 32  music.matched_pgc_sound.mixed_title   125 non-null    object \n",
      " 33  music.matched_pgc_sound.mixed_author  125 non-null    object \n",
      " 34  music.external_song_info              640 non-null    object \n",
      " 35  music.binded_challenge_id             640 non-null    int64  \n",
      " 36  bodydance_score                       640 non-null    int64  \n",
      "dtypes: bool(5), float64(1), int64(15), object(16)\n",
      "memory usage: 168.1+ KB\n"
     ]
    }
   ],
   "source": [
    "bz.info()"
   ]
  },
  {
   "cell_type": "markdown",
   "id": "94b9e8ef",
   "metadata": {},
   "source": [
    "."
   ]
  },
  {
   "cell_type": "code",
   "execution_count": 4,
   "id": "cc2a0548",
   "metadata": {},
   "outputs": [
    {
     "data": {
      "text/html": [
       "<div>\n",
       "<style scoped>\n",
       "    .dataframe tbody tr th:only-of-type {\n",
       "        vertical-align: middle;\n",
       "    }\n",
       "\n",
       "    .dataframe tbody tr th {\n",
       "        vertical-align: top;\n",
       "    }\n",
       "\n",
       "    .dataframe thead th {\n",
       "        text-align: right;\n",
       "    }\n",
       "</style>\n",
       "<table border=\"1\" class=\"dataframe\">\n",
       "  <thead>\n",
       "    <tr style=\"text-align: right;\">\n",
       "      <th></th>\n",
       "      <th>region</th>\n",
       "      <th>aweme_id</th>\n",
       "      <th>create_time</th>\n",
       "      <th>desc</th>\n",
       "      <th>author.uid</th>\n",
       "      <th>author.nickname</th>\n",
       "      <th>author.signature</th>\n",
       "      <th>author.custom_verify</th>\n",
       "      <th>author.commerce_user_level</th>\n",
       "      <th>is_ads</th>\n",
       "      <th>share_url</th>\n",
       "      <th>statistics.play_count</th>\n",
       "      <th>statistics.comment_count</th>\n",
       "      <th>statistics.share_count</th>\n",
       "      <th>statistics.download_count</th>\n",
       "      <th>statistics.digg_count</th>\n",
       "      <th>music.id</th>\n",
       "      <th>music.mid</th>\n",
       "      <th>music.source_platform</th>\n",
       "      <th>music.id_str</th>\n",
       "      <th>music.title</th>\n",
       "      <th>music.author</th>\n",
       "      <th>music.owner_id</th>\n",
       "      <th>music.owner_nickname</th>\n",
       "      <th>music.is_original</th>\n",
       "      <th>music.is_commerce_music</th>\n",
       "      <th>music.play_url.uri</th>\n",
       "      <th>music.strong_beat_url.uri</th>\n",
       "      <th>music.is_author_artist</th>\n",
       "      <th>music.is_pgc</th>\n",
       "      <th>music.matched_pgc_sound.author</th>\n",
       "      <th>music.matched_pgc_sound.title</th>\n",
       "      <th>music.matched_pgc_sound.mixed_title</th>\n",
       "      <th>music.matched_pgc_sound.mixed_author</th>\n",
       "      <th>music.external_song_info</th>\n",
       "      <th>music.binded_challenge_id</th>\n",
       "      <th>bodydance_score</th>\n",
       "    </tr>\n",
       "  </thead>\n",
       "  <tbody>\n",
       "    <tr>\n",
       "      <th>0</th>\n",
       "      <td>BZ</td>\n",
       "      <td>7100638003651005701</td>\n",
       "      <td>1653246119</td>\n",
       "      <td>#fypシ @phoxxlee7  🥺</td>\n",
       "      <td>6773988713171354630</td>\n",
       "      <td>Jamie here</td>\n",
       "      <td>thank you all for 36k🇧🇿+501 feel free to ask a...</td>\n",
       "      <td>NaN</td>\n",
       "      <td>0</td>\n",
       "      <td>False</td>\n",
       "      <td>https://m.tiktok.com/v/7100638003651005701.htm...</td>\n",
       "      <td>50721</td>\n",
       "      <td>41</td>\n",
       "      <td>25</td>\n",
       "      <td>7</td>\n",
       "      <td>4554</td>\n",
       "      <td>7084947474011540229</td>\n",
       "      <td>7084947474011540229</td>\n",
       "      <td>72</td>\n",
       "      <td>7084947474011540229</td>\n",
       "      <td>original sound - d1vine.0</td>\n",
       "      <td>★</td>\n",
       "      <td>6.917312e+18</td>\n",
       "      <td>★</td>\n",
       "      <td>False</td>\n",
       "      <td>True</td>\n",
       "      <td>https://sf16-ies-music-va.tiktokcdn.com/obj/mu...</td>\n",
       "      <td>https://sf16-ies-music-sg.tiktokcdn.com/obj/ti...</td>\n",
       "      <td>False</td>\n",
       "      <td>False</td>\n",
       "      <td>NaN</td>\n",
       "      <td>NaN</td>\n",
       "      <td>NaN</td>\n",
       "      <td>NaN</td>\n",
       "      <td>[]</td>\n",
       "      <td>0</td>\n",
       "      <td>0</td>\n",
       "    </tr>\n",
       "    <tr>\n",
       "      <th>1</th>\n",
       "      <td>BZ</td>\n",
       "      <td>7100977991836159237</td>\n",
       "      <td>1653325278</td>\n",
       "      <td>#fyp</td>\n",
       "      <td>7045711188025508869</td>\n",
       "      <td>shamarie lamb 🇧🇿</td>\n",
       "      <td>Starting Over</td>\n",
       "      <td>NaN</td>\n",
       "      <td>0</td>\n",
       "      <td>False</td>\n",
       "      <td>https://m.tiktok.com/v/7100977991836159237.htm...</td>\n",
       "      <td>66085</td>\n",
       "      <td>38</td>\n",
       "      <td>103</td>\n",
       "      <td>213</td>\n",
       "      <td>4421</td>\n",
       "      <td>7091124261821205254</td>\n",
       "      <td>7091124261821205254</td>\n",
       "      <td>72</td>\n",
       "      <td>7091124261821205254</td>\n",
       "      <td>BIG MOOD</td>\n",
       "      <td>💀</td>\n",
       "      <td>7.077681e+18</td>\n",
       "      <td>💀</td>\n",
       "      <td>False</td>\n",
       "      <td>True</td>\n",
       "      <td>https://sf16-ies-music-va.tiktokcdn.com/obj/mu...</td>\n",
       "      <td>https://sf16-ies-music-sg.tiktokcdn.com/obj/ti...</td>\n",
       "      <td>False</td>\n",
       "      <td>False</td>\n",
       "      <td>NaN</td>\n",
       "      <td>NaN</td>\n",
       "      <td>NaN</td>\n",
       "      <td>NaN</td>\n",
       "      <td>[]</td>\n",
       "      <td>0</td>\n",
       "      <td>0</td>\n",
       "    </tr>\n",
       "    <tr>\n",
       "      <th>2</th>\n",
       "      <td>US</td>\n",
       "      <td>7086872101478583594</td>\n",
       "      <td>1650040994</td>\n",
       "      <td>#fyp</td>\n",
       "      <td>7010481384334656517</td>\n",
       "      <td>KAyyLee 🥰🥴</td>\n",
       "      <td>$kayylee66</td>\n",
       "      <td>NaN</td>\n",
       "      <td>0</td>\n",
       "      <td>False</td>\n",
       "      <td>https://m.tiktok.com/v/7086872101478583594.htm...</td>\n",
       "      <td>16671095</td>\n",
       "      <td>12374</td>\n",
       "      <td>51670</td>\n",
       "      <td>2299</td>\n",
       "      <td>748394</td>\n",
       "      <td>7086872064967232302</td>\n",
       "      <td>7086872064967232302</td>\n",
       "      <td>72</td>\n",
       "      <td>7086872064967232302</td>\n",
       "      <td>original sound - kayleehaynes970</td>\n",
       "      <td>KAyyLee 🥰🥴</td>\n",
       "      <td>7.010481e+18</td>\n",
       "      <td>KAyyLee 🥰🥴</td>\n",
       "      <td>False</td>\n",
       "      <td>True</td>\n",
       "      <td>https://sf16-ies-music-va.tiktokcdn.com/obj/ie...</td>\n",
       "      <td>NaN</td>\n",
       "      <td>False</td>\n",
       "      <td>False</td>\n",
       "      <td>NaN</td>\n",
       "      <td>NaN</td>\n",
       "      <td>NaN</td>\n",
       "      <td>NaN</td>\n",
       "      <td>[]</td>\n",
       "      <td>0</td>\n",
       "      <td>0</td>\n",
       "    </tr>\n",
       "    <tr>\n",
       "      <th>3</th>\n",
       "      <td>FR</td>\n",
       "      <td>7081327470636453126</td>\n",
       "      <td>1648750034</td>\n",
       "      <td>I tried, it worked 👟</td>\n",
       "      <td>6752451240984511494</td>\n",
       "      <td>Saafiir</td>\n",
       "      <td>Surprise on my Instagram \\n🇩🇿🇪🇬\\nSaafiirmanage...</td>\n",
       "      <td>NaN</td>\n",
       "      <td>0</td>\n",
       "      <td>False</td>\n",
       "      <td>https://m.tiktok.com/v/7081327470636453126.htm...</td>\n",
       "      <td>139811743</td>\n",
       "      <td>84590</td>\n",
       "      <td>112368</td>\n",
       "      <td>7252</td>\n",
       "      <td>12863104</td>\n",
       "      <td>6543230635689907200</td>\n",
       "      <td>6543230635689907200</td>\n",
       "      <td>72</td>\n",
       "      <td>6543230635689907200</td>\n",
       "      <td>original sound - taytay6737</td>\n",
       "      <td>Tay</td>\n",
       "      <td>6.542248e+18</td>\n",
       "      <td>Tay</td>\n",
       "      <td>False</td>\n",
       "      <td>True</td>\n",
       "      <td>https://sf16-ies-music-va.tiktokcdn.com/obj/mu...</td>\n",
       "      <td>https://sf16-ies-music-sg.tiktokcdn.com/obj/ti...</td>\n",
       "      <td>False</td>\n",
       "      <td>False</td>\n",
       "      <td>Justin Bieber</td>\n",
       "      <td>Baby</td>\n",
       "      <td>original sound - taytay6737 (Contains music fr...</td>\n",
       "      <td>Contains music from: \"Baby\"</td>\n",
       "      <td>[]</td>\n",
       "      <td>0</td>\n",
       "      <td>0</td>\n",
       "    </tr>\n",
       "    <tr>\n",
       "      <th>4</th>\n",
       "      <td>CA</td>\n",
       "      <td>7091691923114642694</td>\n",
       "      <td>1651163197</td>\n",
       "      <td>“Peace. Too much fighting” — 🥺❤️ (Donation L1N...</td>\n",
       "      <td>6740960667346404357</td>\n",
       "      <td>Zachery Dereniowski</td>\n",
       "      <td>📧 zachery@onefluent.com\\nEverything You Need ⬇️</td>\n",
       "      <td>Verified account</td>\n",
       "      <td>0</td>\n",
       "      <td>False</td>\n",
       "      <td>https://m.tiktok.com/v/7091691923114642694.htm...</td>\n",
       "      <td>23651468</td>\n",
       "      <td>15809</td>\n",
       "      <td>13280</td>\n",
       "      <td>25560</td>\n",
       "      <td>2353768</td>\n",
       "      <td>7091691909663542022</td>\n",
       "      <td>7091691909663542022</td>\n",
       "      <td>72</td>\n",
       "      <td>7091691909663542022</td>\n",
       "      <td>original sound - mdmotivator</td>\n",
       "      <td>Zachery Dereniowski</td>\n",
       "      <td>6.740961e+18</td>\n",
       "      <td>Zachery Dereniowski</td>\n",
       "      <td>False</td>\n",
       "      <td>True</td>\n",
       "      <td>https://sf16-ies-music-va.tiktokcdn.com/obj/mu...</td>\n",
       "      <td>https://sf16-ies-music-sg.tiktokcdn.com/obj/ti...</td>\n",
       "      <td>False</td>\n",
       "      <td>False</td>\n",
       "      <td>NaN</td>\n",
       "      <td>NaN</td>\n",
       "      <td>NaN</td>\n",
       "      <td>NaN</td>\n",
       "      <td>[]</td>\n",
       "      <td>0</td>\n",
       "      <td>0</td>\n",
       "    </tr>\n",
       "  </tbody>\n",
       "</table>\n",
       "</div>"
      ],
      "text/plain": [
       "  region             aweme_id  create_time  \\\n",
       "0     BZ  7100638003651005701   1653246119   \n",
       "1     BZ  7100977991836159237   1653325278   \n",
       "2     US  7086872101478583594   1650040994   \n",
       "3     FR  7081327470636453126   1648750034   \n",
       "4     CA  7091691923114642694   1651163197   \n",
       "\n",
       "                                                desc           author.uid  \\\n",
       "0                                #fypシ @phoxxlee7  🥺  6773988713171354630   \n",
       "1                                               #fyp  7045711188025508869   \n",
       "2                                               #fyp  7010481384334656517   \n",
       "3                               I tried, it worked 👟  6752451240984511494   \n",
       "4  “Peace. Too much fighting” — 🥺❤️ (Donation L1N...  6740960667346404357   \n",
       "\n",
       "       author.nickname                                   author.signature  \\\n",
       "0           Jamie here  thank you all for 36k🇧🇿+501 feel free to ask a...   \n",
       "1     shamarie lamb 🇧🇿                                      Starting Over   \n",
       "2           KAyyLee 🥰🥴                                         $kayylee66   \n",
       "3              Saafiir  Surprise on my Instagram \\n🇩🇿🇪🇬\\nSaafiirmanage...   \n",
       "4  Zachery Dereniowski    📧 zachery@onefluent.com\\nEverything You Need ⬇️   \n",
       "\n",
       "  author.custom_verify  author.commerce_user_level  is_ads  \\\n",
       "0                  NaN                           0   False   \n",
       "1                  NaN                           0   False   \n",
       "2                  NaN                           0   False   \n",
       "3                  NaN                           0   False   \n",
       "4     Verified account                           0   False   \n",
       "\n",
       "                                           share_url  statistics.play_count  \\\n",
       "0  https://m.tiktok.com/v/7100638003651005701.htm...                  50721   \n",
       "1  https://m.tiktok.com/v/7100977991836159237.htm...                  66085   \n",
       "2  https://m.tiktok.com/v/7086872101478583594.htm...               16671095   \n",
       "3  https://m.tiktok.com/v/7081327470636453126.htm...              139811743   \n",
       "4  https://m.tiktok.com/v/7091691923114642694.htm...               23651468   \n",
       "\n",
       "   statistics.comment_count  statistics.share_count  \\\n",
       "0                        41                      25   \n",
       "1                        38                     103   \n",
       "2                     12374                   51670   \n",
       "3                     84590                  112368   \n",
       "4                     15809                   13280   \n",
       "\n",
       "   statistics.download_count  statistics.digg_count             music.id  \\\n",
       "0                          7                   4554  7084947474011540229   \n",
       "1                        213                   4421  7091124261821205254   \n",
       "2                       2299                 748394  7086872064967232302   \n",
       "3                       7252               12863104  6543230635689907200   \n",
       "4                      25560                2353768  7091691909663542022   \n",
       "\n",
       "             music.mid  music.source_platform         music.id_str  \\\n",
       "0  7084947474011540229                     72  7084947474011540229   \n",
       "1  7091124261821205254                     72  7091124261821205254   \n",
       "2  7086872064967232302                     72  7086872064967232302   \n",
       "3  6543230635689907200                     72  6543230635689907200   \n",
       "4  7091691909663542022                     72  7091691909663542022   \n",
       "\n",
       "                        music.title         music.author  music.owner_id  \\\n",
       "0         original sound - d1vine.0                    ★    6.917312e+18   \n",
       "1                          BIG MOOD                    💀    7.077681e+18   \n",
       "2  original sound - kayleehaynes970           KAyyLee 🥰🥴    7.010481e+18   \n",
       "3       original sound - taytay6737                  Tay    6.542248e+18   \n",
       "4      original sound - mdmotivator  Zachery Dereniowski    6.740961e+18   \n",
       "\n",
       "  music.owner_nickname  music.is_original  music.is_commerce_music  \\\n",
       "0                    ★              False                     True   \n",
       "1                    💀              False                     True   \n",
       "2           KAyyLee 🥰🥴              False                     True   \n",
       "3                  Tay              False                     True   \n",
       "4  Zachery Dereniowski              False                     True   \n",
       "\n",
       "                                  music.play_url.uri  \\\n",
       "0  https://sf16-ies-music-va.tiktokcdn.com/obj/mu...   \n",
       "1  https://sf16-ies-music-va.tiktokcdn.com/obj/mu...   \n",
       "2  https://sf16-ies-music-va.tiktokcdn.com/obj/ie...   \n",
       "3  https://sf16-ies-music-va.tiktokcdn.com/obj/mu...   \n",
       "4  https://sf16-ies-music-va.tiktokcdn.com/obj/mu...   \n",
       "\n",
       "                           music.strong_beat_url.uri  music.is_author_artist  \\\n",
       "0  https://sf16-ies-music-sg.tiktokcdn.com/obj/ti...                   False   \n",
       "1  https://sf16-ies-music-sg.tiktokcdn.com/obj/ti...                   False   \n",
       "2                                                NaN                   False   \n",
       "3  https://sf16-ies-music-sg.tiktokcdn.com/obj/ti...                   False   \n",
       "4  https://sf16-ies-music-sg.tiktokcdn.com/obj/ti...                   False   \n",
       "\n",
       "   music.is_pgc music.matched_pgc_sound.author music.matched_pgc_sound.title  \\\n",
       "0         False                            NaN                           NaN   \n",
       "1         False                            NaN                           NaN   \n",
       "2         False                            NaN                           NaN   \n",
       "3         False                  Justin Bieber                          Baby   \n",
       "4         False                            NaN                           NaN   \n",
       "\n",
       "                 music.matched_pgc_sound.mixed_title  \\\n",
       "0                                                NaN   \n",
       "1                                                NaN   \n",
       "2                                                NaN   \n",
       "3  original sound - taytay6737 (Contains music fr...   \n",
       "4                                                NaN   \n",
       "\n",
       "  music.matched_pgc_sound.mixed_author music.external_song_info  \\\n",
       "0                                  NaN                       []   \n",
       "1                                  NaN                       []   \n",
       "2                                  NaN                       []   \n",
       "3          Contains music from: \"Baby\"                       []   \n",
       "4                                  NaN                       []   \n",
       "\n",
       "   music.binded_challenge_id  bodydance_score  \n",
       "0                          0                0  \n",
       "1                          0                0  \n",
       "2                          0                0  \n",
       "3                          0                0  \n",
       "4                          0                0  "
      ]
     },
     "execution_count": 4,
     "metadata": {},
     "output_type": "execute_result"
    }
   ],
   "source": [
    "bz.head(5)"
   ]
  },
  {
   "cell_type": "markdown",
   "id": "166d7397-1635-47da-a36e-af1a2a586c3b",
   "metadata": {},
   "source": [
    "."
   ]
  },
  {
   "cell_type": "markdown",
   "id": "e42576c7-c0bb-4b3a-a735-47e99a32c6a0",
   "metadata": {},
   "source": [
    "Filling NaNs in description field with a space so the hashtags can be countvectorized correctly later."
   ]
  },
  {
   "cell_type": "code",
   "execution_count": 244,
   "id": "4a75380b-a9ea-4dd4-9579-f6f90910f3cf",
   "metadata": {},
   "outputs": [],
   "source": [
    "bz['desc'] = np.where(bz['desc'].isnull(), \" \", bz['desc'])"
   ]
  },
  {
   "cell_type": "markdown",
   "id": "48a8821e-13e2-4909-8426-96f0ac4703df",
   "metadata": {},
   "source": [
    "."
   ]
  },
  {
   "cell_type": "markdown",
   "id": "bc244f73-b289-4e0b-a5dc-1b4f08e0df00",
   "metadata": {},
   "source": [
    "Importing country dictionary for names/country codes."
   ]
  },
  {
   "cell_type": "code",
   "execution_count": 9,
   "id": "06fd72bb-ff26-4116-bb42-1adddfcc6e9b",
   "metadata": {},
   "outputs": [
    {
     "data": {
      "text/plain": [
       "'Name'"
      ]
     },
     "execution_count": 9,
     "metadata": {},
     "output_type": "execute_result"
    }
   ],
   "source": [
    "import csv\n",
    "\n",
    "codes = {}\n",
    "with open(\"./data/codes.csv\", mode='r') as inp:\n",
    "    reader = csv.reader(inp)\n",
    "    codes = {rows[1]:rows[0] for rows in reader}\n",
    "    \n",
    "codes.pop('Code')"
   ]
  },
  {
   "cell_type": "code",
   "execution_count": 10,
   "id": "a33b9af3-e5a9-4310-b6c7-d692f612d7b8",
   "metadata": {},
   "outputs": [
    {
     "data": {
      "text/plain": [
       "'Belize'"
      ]
     },
     "execution_count": 10,
     "metadata": {},
     "output_type": "execute_result"
    }
   ],
   "source": [
    "codes['BZ']"
   ]
  },
  {
   "cell_type": "markdown",
   "id": "ad9412f5-9f22-4874-8e22-ff702ffe8461",
   "metadata": {},
   "source": [
    "."
   ]
  },
  {
   "cell_type": "markdown",
   "id": "047aca1d-b981-42fe-b870-eaeb4370584d",
   "metadata": {},
   "source": [
    "Adding a location column, since the \"Country\" column is country of tiktok origin rather than FYP country."
   ]
  },
  {
   "cell_type": "code",
   "execution_count": 247,
   "id": "0e811d9b-d49d-432c-bd7f-f87aca86f067",
   "metadata": {},
   "outputs": [],
   "source": [
    "bz['fyp_location']=codes['BZ']"
   ]
  },
  {
   "cell_type": "markdown",
   "id": "510a352b-f103-41df-91a1-345b7d6b5e03",
   "metadata": {},
   "source": [
    "."
   ]
  },
  {
   "cell_type": "markdown",
   "id": "49751571-2cb1-4dcb-9c59-d94be0dd6e6c",
   "metadata": {},
   "source": [
    "Fill nulls in description with empty string so it can be countvectorized."
   ]
  },
  {
   "cell_type": "code",
   "execution_count": 248,
   "id": "2977a19f-a81e-4d73-ba79-b33c4803cc8f",
   "metadata": {},
   "outputs": [],
   "source": [
    "bz['desc'] = np.where(bz['desc'].isnull(), \" \", bz['desc'])"
   ]
  },
  {
   "cell_type": "markdown",
   "id": "b65f140c-c7af-4f90-a4cd-c86959fea83e",
   "metadata": {},
   "source": [
    "."
   ]
  },
  {
   "cell_type": "markdown",
   "id": "4f058267-ea04-4746-b20b-42c2fb6173ae",
   "metadata": {},
   "source": [
    "Drop nulls for origin region. I don't want videos if I don't know where they're from"
   ]
  },
  {
   "cell_type": "code",
   "execution_count": 249,
   "id": "28424d12-4dde-47cf-8162-9416b03d79d1",
   "metadata": {},
   "outputs": [],
   "source": [
    "bz = bz.dropna(subset=['region'], axis=0)"
   ]
  },
  {
   "cell_type": "markdown",
   "id": "5dfa51d0-edca-45bf-9d79-a36b2e8a4855",
   "metadata": {},
   "source": [
    "."
   ]
  },
  {
   "cell_type": "markdown",
   "id": "33944792-363a-4cb7-b86e-256cf01a30ae",
   "metadata": {},
   "source": [
    "Drop a column that isn't as helpful as I expected."
   ]
  },
  {
   "cell_type": "code",
   "execution_count": 250,
   "id": "6ee9162d-7227-43c4-981f-8fc416d1a4b2",
   "metadata": {},
   "outputs": [],
   "source": [
    "bz = bz.drop(columns='author.custom_verify')"
   ]
  },
  {
   "cell_type": "markdown",
   "id": "40a9b20e-b4c9-46f3-8fcc-36ecaf361212",
   "metadata": {},
   "source": [
    "."
   ]
  },
  {
   "cell_type": "markdown",
   "id": "33cd2c0c-3e8a-43d3-9588-6104e4a91dfb",
   "metadata": {},
   "source": [
    "Checking date range for FYP videos "
   ]
  },
  {
   "cell_type": "code",
   "execution_count": 251,
   "id": "8c22da60",
   "metadata": {
    "lines_to_end_of_cell_marker": 2
   },
   "outputs": [
    {
     "name": "stdout",
     "output_type": "stream",
     "text": [
      "Oldest video: 3.3 months old\n",
      "Newest video: 0.4 months old\n"
     ]
    }
   ],
   "source": [
    "import time\n",
    "onemonth = 2592000 #approx; close enough\n",
    "\n",
    "noww = time.time()\n",
    "print(f\"Oldest video: {np.round((noww - bz['create_time'].min()) /onemonth, 1)} months old\")\n",
    "print(f\"Newest video: {np.round((noww - bz['create_time'].max())/onemonth, 1)} months old\")"
   ]
  },
  {
   "cell_type": "markdown",
   "id": "f6f60feb-bdcf-4498-849d-6265bf45f084",
   "metadata": {},
   "source": [
    "1 march 2022, 30 may 2022.\n",
    "\n",
    "* Reasonable range for amount of data pulled, but only have trends over 3 month span.\n",
    "* Pulling trends for longer will take a LOT more data."
   ]
  },
  {
   "cell_type": "markdown",
   "id": "8f6034fe-7986-4d94-9f59-f10e6d5c3d56",
   "metadata": {},
   "source": [
    "."
   ]
  },
  {
   "cell_type": "markdown",
   "id": "2607dda9-9d11-4d62-9c5e-a21b777ac988",
   "metadata": {},
   "source": [
    "For music where users have used a popular singer's song and reuploaded under their own name, I am changing the \"title\" and \"Artist\" to \"mixed title\" and \"mixed artist\"."
   ]
  },
  {
   "cell_type": "code",
   "execution_count": 252,
   "id": "b8662ade",
   "metadata": {},
   "outputs": [],
   "source": [
    "bz['music.title'] = np.where(bz['music.matched_pgc_sound.mixed_title'].notnull(\n",
    "), bz['music.matched_pgc_sound.mixed_title'], bz['music.title'])"
   ]
  },
  {
   "cell_type": "code",
   "execution_count": 253,
   "id": "eab61eda",
   "metadata": {},
   "outputs": [
    {
     "data": {
      "text/plain": [
       "(125, 125)"
      ]
     },
     "execution_count": 253,
     "metadata": {},
     "output_type": "execute_result"
    }
   ],
   "source": [
    "# checking work\n",
    "len(bz[bz['music.matched_pgc_sound.mixed_title'] == bz['music.title']]), len(\n",
    "    bz[bz['music.matched_pgc_sound.mixed_title'].notnull()])"
   ]
  },
  {
   "cell_type": "markdown",
   "id": "45075001-dfa9-4327-85d7-e00d3ef58ab8",
   "metadata": {},
   "source": [
    "."
   ]
  },
  {
   "cell_type": "code",
   "execution_count": 254,
   "id": "797722a0",
   "metadata": {},
   "outputs": [],
   "source": [
    "bz['music.author'] = np.where(bz['music.matched_pgc_sound.mixed_author'].notnull(\n",
    "), bz['music.matched_pgc_sound.mixed_author'], bz['music.author'])"
   ]
  },
  {
   "cell_type": "code",
   "execution_count": 255,
   "id": "a0a61762",
   "metadata": {},
   "outputs": [
    {
     "data": {
      "text/plain": [
       "(125, 125)"
      ]
     },
     "execution_count": 255,
     "metadata": {},
     "output_type": "execute_result"
    }
   ],
   "source": [
    "# checking work\n",
    "len(bz[bz['music.matched_pgc_sound.mixed_author'] == bz['music.author']]), len(\n",
    "    bz[bz['music.matched_pgc_sound.mixed_author'].notnull()])"
   ]
  },
  {
   "cell_type": "markdown",
   "id": "405b95da-5c9b-4006-812b-08ea284cfc01",
   "metadata": {},
   "source": [
    "."
   ]
  },
  {
   "cell_type": "markdown",
   "id": "90aeadd1-3469-49d9-b927-eea86eee149c",
   "metadata": {},
   "source": [
    "Extracting hashtags and putting them in their own column."
   ]
  },
  {
   "cell_type": "code",
   "execution_count": 256,
   "id": "59bc8170",
   "metadata": {},
   "outputs": [],
   "source": [
    "# Extract hashtags\n",
    "\n",
    "bz['hashtags'] = bz.desc.str.findall(r'#.*?(?=\\s|$)').str.join(\" \")"
   ]
  },
  {
   "cell_type": "markdown",
   "id": "c31d1600-0343-435f-b55c-65bc8fc6d80d",
   "metadata": {},
   "source": [
    "."
   ]
  },
  {
   "cell_type": "markdown",
   "id": "b8c1c322-efee-42a2-a4c1-fabaa16eac2d",
   "metadata": {},
   "source": [
    "Only keeping the top 10 hashtags for each country."
   ]
  },
  {
   "cell_type": "code",
   "execution_count": 257,
   "id": "d3fc2931",
   "metadata": {},
   "outputs": [],
   "source": [
    "cv = CountVectorizer(max_features=10, strip_accents=False)"
   ]
  },
  {
   "cell_type": "markdown",
   "id": "b805127d-a234-4fc9-a041-bc6adba86a87",
   "metadata": {},
   "source": [
    "."
   ]
  },
  {
   "cell_type": "markdown",
   "id": "3bfd8631-cb7d-4d45-9838-1c46aec4c556",
   "metadata": {},
   "source": [
    "Countvectorizing hashtags."
   ]
  },
  {
   "cell_type": "code",
   "execution_count": 258,
   "id": "d151adb9",
   "metadata": {},
   "outputs": [],
   "source": [
    "X = bz['hashtags']\n",
    "X_cv = pd.DataFrame(cv.fit_transform(X).A,  columns=['hash_'+x for x in cv.get_feature_names_out()], index=bz.index)\n",
    "    \n",
    "for column in X_cv.columns:\n",
    "    bz[column]=X_cv[column]"
   ]
  },
  {
   "cell_type": "markdown",
   "id": "e3956007-a503-4236-b5be-b241b22300e1",
   "metadata": {},
   "source": [
    "."
   ]
  },
  {
   "cell_type": "markdown",
   "id": "103e2d12-a3ef-4c2f-9518-44f20b9651d8",
   "metadata": {},
   "source": [
    "Checking work. Scroll all the way to the right to see the hashtags columns."
   ]
  },
  {
   "cell_type": "code",
   "execution_count": 259,
   "id": "7fccc199-7d7f-4616-bb58-41de80b93fa7",
   "metadata": {},
   "outputs": [
    {
     "data": {
      "text/html": [
       "<div>\n",
       "<style scoped>\n",
       "    .dataframe tbody tr th:only-of-type {\n",
       "        vertical-align: middle;\n",
       "    }\n",
       "\n",
       "    .dataframe tbody tr th {\n",
       "        vertical-align: top;\n",
       "    }\n",
       "\n",
       "    .dataframe thead th {\n",
       "        text-align: right;\n",
       "    }\n",
       "</style>\n",
       "<table border=\"1\" class=\"dataframe\">\n",
       "  <thead>\n",
       "    <tr style=\"text-align: right;\">\n",
       "      <th></th>\n",
       "      <th>region</th>\n",
       "      <th>aweme_id</th>\n",
       "      <th>create_time</th>\n",
       "      <th>desc</th>\n",
       "      <th>author.uid</th>\n",
       "      <th>author.nickname</th>\n",
       "      <th>author.signature</th>\n",
       "      <th>author.commerce_user_level</th>\n",
       "      <th>is_ads</th>\n",
       "      <th>share_url</th>\n",
       "      <th>statistics.play_count</th>\n",
       "      <th>statistics.comment_count</th>\n",
       "      <th>statistics.share_count</th>\n",
       "      <th>statistics.download_count</th>\n",
       "      <th>statistics.digg_count</th>\n",
       "      <th>music.id</th>\n",
       "      <th>music.mid</th>\n",
       "      <th>music.source_platform</th>\n",
       "      <th>music.id_str</th>\n",
       "      <th>music.title</th>\n",
       "      <th>music.author</th>\n",
       "      <th>music.owner_id</th>\n",
       "      <th>music.owner_nickname</th>\n",
       "      <th>music.is_original</th>\n",
       "      <th>music.is_commerce_music</th>\n",
       "      <th>music.play_url.uri</th>\n",
       "      <th>music.strong_beat_url.uri</th>\n",
       "      <th>music.is_author_artist</th>\n",
       "      <th>music.is_pgc</th>\n",
       "      <th>music.matched_pgc_sound.author</th>\n",
       "      <th>music.matched_pgc_sound.title</th>\n",
       "      <th>music.matched_pgc_sound.mixed_title</th>\n",
       "      <th>music.matched_pgc_sound.mixed_author</th>\n",
       "      <th>music.external_song_info</th>\n",
       "      <th>music.binded_challenge_id</th>\n",
       "      <th>bodydance_score</th>\n",
       "      <th>fyp_location</th>\n",
       "      <th>hashtags</th>\n",
       "      <th>hash_belize</th>\n",
       "      <th>hash_belizean</th>\n",
       "      <th>hash_belizeantiktokers</th>\n",
       "      <th>hash_foryou</th>\n",
       "      <th>hash_foryoupage</th>\n",
       "      <th>hash_funny</th>\n",
       "      <th>hash_fyp</th>\n",
       "      <th>hash_fypシ</th>\n",
       "      <th>hash_trending</th>\n",
       "      <th>hash_viral</th>\n",
       "    </tr>\n",
       "  </thead>\n",
       "  <tbody>\n",
       "    <tr>\n",
       "      <th>0</th>\n",
       "      <td>BZ</td>\n",
       "      <td>7100638003651005701</td>\n",
       "      <td>1653246119</td>\n",
       "      <td>#fypシ @phoxxlee7  🥺</td>\n",
       "      <td>6773988713171354630</td>\n",
       "      <td>Jamie here</td>\n",
       "      <td>thank you all for 36k🇧🇿+501 feel free to ask a...</td>\n",
       "      <td>0</td>\n",
       "      <td>False</td>\n",
       "      <td>https://m.tiktok.com/v/7100638003651005701.htm...</td>\n",
       "      <td>50721</td>\n",
       "      <td>41</td>\n",
       "      <td>25</td>\n",
       "      <td>7</td>\n",
       "      <td>4554</td>\n",
       "      <td>7084947474011540229</td>\n",
       "      <td>7084947474011540229</td>\n",
       "      <td>72</td>\n",
       "      <td>7084947474011540229</td>\n",
       "      <td>original sound - d1vine.0</td>\n",
       "      <td>★</td>\n",
       "      <td>6.917312e+18</td>\n",
       "      <td>★</td>\n",
       "      <td>False</td>\n",
       "      <td>True</td>\n",
       "      <td>https://sf16-ies-music-va.tiktokcdn.com/obj/mu...</td>\n",
       "      <td>https://sf16-ies-music-sg.tiktokcdn.com/obj/ti...</td>\n",
       "      <td>False</td>\n",
       "      <td>False</td>\n",
       "      <td>NaN</td>\n",
       "      <td>NaN</td>\n",
       "      <td>NaN</td>\n",
       "      <td>NaN</td>\n",
       "      <td>[]</td>\n",
       "      <td>0</td>\n",
       "      <td>0</td>\n",
       "      <td>Belize</td>\n",
       "      <td>#fypシ</td>\n",
       "      <td>0</td>\n",
       "      <td>0</td>\n",
       "      <td>0</td>\n",
       "      <td>0</td>\n",
       "      <td>0</td>\n",
       "      <td>0</td>\n",
       "      <td>0</td>\n",
       "      <td>1</td>\n",
       "      <td>0</td>\n",
       "      <td>0</td>\n",
       "    </tr>\n",
       "    <tr>\n",
       "      <th>1</th>\n",
       "      <td>BZ</td>\n",
       "      <td>7100977991836159237</td>\n",
       "      <td>1653325278</td>\n",
       "      <td>#fyp</td>\n",
       "      <td>7045711188025508869</td>\n",
       "      <td>shamarie lamb 🇧🇿</td>\n",
       "      <td>Starting Over</td>\n",
       "      <td>0</td>\n",
       "      <td>False</td>\n",
       "      <td>https://m.tiktok.com/v/7100977991836159237.htm...</td>\n",
       "      <td>66085</td>\n",
       "      <td>38</td>\n",
       "      <td>103</td>\n",
       "      <td>213</td>\n",
       "      <td>4421</td>\n",
       "      <td>7091124261821205254</td>\n",
       "      <td>7091124261821205254</td>\n",
       "      <td>72</td>\n",
       "      <td>7091124261821205254</td>\n",
       "      <td>BIG MOOD</td>\n",
       "      <td>💀</td>\n",
       "      <td>7.077681e+18</td>\n",
       "      <td>💀</td>\n",
       "      <td>False</td>\n",
       "      <td>True</td>\n",
       "      <td>https://sf16-ies-music-va.tiktokcdn.com/obj/mu...</td>\n",
       "      <td>https://sf16-ies-music-sg.tiktokcdn.com/obj/ti...</td>\n",
       "      <td>False</td>\n",
       "      <td>False</td>\n",
       "      <td>NaN</td>\n",
       "      <td>NaN</td>\n",
       "      <td>NaN</td>\n",
       "      <td>NaN</td>\n",
       "      <td>[]</td>\n",
       "      <td>0</td>\n",
       "      <td>0</td>\n",
       "      <td>Belize</td>\n",
       "      <td>#fyp</td>\n",
       "      <td>0</td>\n",
       "      <td>0</td>\n",
       "      <td>0</td>\n",
       "      <td>0</td>\n",
       "      <td>0</td>\n",
       "      <td>0</td>\n",
       "      <td>1</td>\n",
       "      <td>0</td>\n",
       "      <td>0</td>\n",
       "      <td>0</td>\n",
       "    </tr>\n",
       "    <tr>\n",
       "      <th>2</th>\n",
       "      <td>US</td>\n",
       "      <td>7086872101478583594</td>\n",
       "      <td>1650040994</td>\n",
       "      <td>#fyp</td>\n",
       "      <td>7010481384334656517</td>\n",
       "      <td>KAyyLee 🥰🥴</td>\n",
       "      <td>$kayylee66</td>\n",
       "      <td>0</td>\n",
       "      <td>False</td>\n",
       "      <td>https://m.tiktok.com/v/7086872101478583594.htm...</td>\n",
       "      <td>16671095</td>\n",
       "      <td>12374</td>\n",
       "      <td>51670</td>\n",
       "      <td>2299</td>\n",
       "      <td>748394</td>\n",
       "      <td>7086872064967232302</td>\n",
       "      <td>7086872064967232302</td>\n",
       "      <td>72</td>\n",
       "      <td>7086872064967232302</td>\n",
       "      <td>original sound - kayleehaynes970</td>\n",
       "      <td>KAyyLee 🥰🥴</td>\n",
       "      <td>7.010481e+18</td>\n",
       "      <td>KAyyLee 🥰🥴</td>\n",
       "      <td>False</td>\n",
       "      <td>True</td>\n",
       "      <td>https://sf16-ies-music-va.tiktokcdn.com/obj/ie...</td>\n",
       "      <td>NaN</td>\n",
       "      <td>False</td>\n",
       "      <td>False</td>\n",
       "      <td>NaN</td>\n",
       "      <td>NaN</td>\n",
       "      <td>NaN</td>\n",
       "      <td>NaN</td>\n",
       "      <td>[]</td>\n",
       "      <td>0</td>\n",
       "      <td>0</td>\n",
       "      <td>Belize</td>\n",
       "      <td>#fyp</td>\n",
       "      <td>0</td>\n",
       "      <td>0</td>\n",
       "      <td>0</td>\n",
       "      <td>0</td>\n",
       "      <td>0</td>\n",
       "      <td>0</td>\n",
       "      <td>1</td>\n",
       "      <td>0</td>\n",
       "      <td>0</td>\n",
       "      <td>0</td>\n",
       "    </tr>\n",
       "    <tr>\n",
       "      <th>3</th>\n",
       "      <td>FR</td>\n",
       "      <td>7081327470636453126</td>\n",
       "      <td>1648750034</td>\n",
       "      <td>I tried, it worked 👟</td>\n",
       "      <td>6752451240984511494</td>\n",
       "      <td>Saafiir</td>\n",
       "      <td>Surprise on my Instagram \\n🇩🇿🇪🇬\\nSaafiirmanage...</td>\n",
       "      <td>0</td>\n",
       "      <td>False</td>\n",
       "      <td>https://m.tiktok.com/v/7081327470636453126.htm...</td>\n",
       "      <td>139811743</td>\n",
       "      <td>84590</td>\n",
       "      <td>112368</td>\n",
       "      <td>7252</td>\n",
       "      <td>12863104</td>\n",
       "      <td>6543230635689907200</td>\n",
       "      <td>6543230635689907200</td>\n",
       "      <td>72</td>\n",
       "      <td>6543230635689907200</td>\n",
       "      <td>original sound - taytay6737 (Contains music fr...</td>\n",
       "      <td>Contains music from: \"Baby\"</td>\n",
       "      <td>6.542248e+18</td>\n",
       "      <td>Tay</td>\n",
       "      <td>False</td>\n",
       "      <td>True</td>\n",
       "      <td>https://sf16-ies-music-va.tiktokcdn.com/obj/mu...</td>\n",
       "      <td>https://sf16-ies-music-sg.tiktokcdn.com/obj/ti...</td>\n",
       "      <td>False</td>\n",
       "      <td>False</td>\n",
       "      <td>Justin Bieber</td>\n",
       "      <td>Baby</td>\n",
       "      <td>original sound - taytay6737 (Contains music fr...</td>\n",
       "      <td>Contains music from: \"Baby\"</td>\n",
       "      <td>[]</td>\n",
       "      <td>0</td>\n",
       "      <td>0</td>\n",
       "      <td>Belize</td>\n",
       "      <td></td>\n",
       "      <td>0</td>\n",
       "      <td>0</td>\n",
       "      <td>0</td>\n",
       "      <td>0</td>\n",
       "      <td>0</td>\n",
       "      <td>0</td>\n",
       "      <td>0</td>\n",
       "      <td>0</td>\n",
       "      <td>0</td>\n",
       "      <td>0</td>\n",
       "    </tr>\n",
       "  </tbody>\n",
       "</table>\n",
       "</div>"
      ],
      "text/plain": [
       "  region             aweme_id  create_time                  desc  \\\n",
       "0     BZ  7100638003651005701   1653246119   #fypシ @phoxxlee7  🥺   \n",
       "1     BZ  7100977991836159237   1653325278                  #fyp   \n",
       "2     US  7086872101478583594   1650040994                  #fyp   \n",
       "3     FR  7081327470636453126   1648750034  I tried, it worked 👟   \n",
       "\n",
       "            author.uid   author.nickname  \\\n",
       "0  6773988713171354630        Jamie here   \n",
       "1  7045711188025508869  shamarie lamb 🇧🇿   \n",
       "2  7010481384334656517        KAyyLee 🥰🥴   \n",
       "3  6752451240984511494           Saafiir   \n",
       "\n",
       "                                    author.signature  \\\n",
       "0  thank you all for 36k🇧🇿+501 feel free to ask a...   \n",
       "1                                      Starting Over   \n",
       "2                                         $kayylee66   \n",
       "3  Surprise on my Instagram \\n🇩🇿🇪🇬\\nSaafiirmanage...   \n",
       "\n",
       "   author.commerce_user_level  is_ads  \\\n",
       "0                           0   False   \n",
       "1                           0   False   \n",
       "2                           0   False   \n",
       "3                           0   False   \n",
       "\n",
       "                                           share_url  statistics.play_count  \\\n",
       "0  https://m.tiktok.com/v/7100638003651005701.htm...                  50721   \n",
       "1  https://m.tiktok.com/v/7100977991836159237.htm...                  66085   \n",
       "2  https://m.tiktok.com/v/7086872101478583594.htm...               16671095   \n",
       "3  https://m.tiktok.com/v/7081327470636453126.htm...              139811743   \n",
       "\n",
       "   statistics.comment_count  statistics.share_count  \\\n",
       "0                        41                      25   \n",
       "1                        38                     103   \n",
       "2                     12374                   51670   \n",
       "3                     84590                  112368   \n",
       "\n",
       "   statistics.download_count  statistics.digg_count             music.id  \\\n",
       "0                          7                   4554  7084947474011540229   \n",
       "1                        213                   4421  7091124261821205254   \n",
       "2                       2299                 748394  7086872064967232302   \n",
       "3                       7252               12863104  6543230635689907200   \n",
       "\n",
       "             music.mid  music.source_platform         music.id_str  \\\n",
       "0  7084947474011540229                     72  7084947474011540229   \n",
       "1  7091124261821205254                     72  7091124261821205254   \n",
       "2  7086872064967232302                     72  7086872064967232302   \n",
       "3  6543230635689907200                     72  6543230635689907200   \n",
       "\n",
       "                                         music.title  \\\n",
       "0                          original sound - d1vine.0   \n",
       "1                                           BIG MOOD   \n",
       "2                   original sound - kayleehaynes970   \n",
       "3  original sound - taytay6737 (Contains music fr...   \n",
       "\n",
       "                  music.author  music.owner_id music.owner_nickname  \\\n",
       "0                            ★    6.917312e+18                    ★   \n",
       "1                            💀    7.077681e+18                    💀   \n",
       "2                   KAyyLee 🥰🥴    7.010481e+18           KAyyLee 🥰🥴   \n",
       "3  Contains music from: \"Baby\"    6.542248e+18                  Tay   \n",
       "\n",
       "   music.is_original  music.is_commerce_music  \\\n",
       "0              False                     True   \n",
       "1              False                     True   \n",
       "2              False                     True   \n",
       "3              False                     True   \n",
       "\n",
       "                                  music.play_url.uri  \\\n",
       "0  https://sf16-ies-music-va.tiktokcdn.com/obj/mu...   \n",
       "1  https://sf16-ies-music-va.tiktokcdn.com/obj/mu...   \n",
       "2  https://sf16-ies-music-va.tiktokcdn.com/obj/ie...   \n",
       "3  https://sf16-ies-music-va.tiktokcdn.com/obj/mu...   \n",
       "\n",
       "                           music.strong_beat_url.uri  music.is_author_artist  \\\n",
       "0  https://sf16-ies-music-sg.tiktokcdn.com/obj/ti...                   False   \n",
       "1  https://sf16-ies-music-sg.tiktokcdn.com/obj/ti...                   False   \n",
       "2                                                NaN                   False   \n",
       "3  https://sf16-ies-music-sg.tiktokcdn.com/obj/ti...                   False   \n",
       "\n",
       "   music.is_pgc music.matched_pgc_sound.author music.matched_pgc_sound.title  \\\n",
       "0         False                            NaN                           NaN   \n",
       "1         False                            NaN                           NaN   \n",
       "2         False                            NaN                           NaN   \n",
       "3         False                  Justin Bieber                          Baby   \n",
       "\n",
       "                 music.matched_pgc_sound.mixed_title  \\\n",
       "0                                                NaN   \n",
       "1                                                NaN   \n",
       "2                                                NaN   \n",
       "3  original sound - taytay6737 (Contains music fr...   \n",
       "\n",
       "  music.matched_pgc_sound.mixed_author music.external_song_info  \\\n",
       "0                                  NaN                       []   \n",
       "1                                  NaN                       []   \n",
       "2                                  NaN                       []   \n",
       "3          Contains music from: \"Baby\"                       []   \n",
       "\n",
       "   music.binded_challenge_id  bodydance_score fyp_location hashtags  \\\n",
       "0                          0                0       Belize    #fypシ   \n",
       "1                          0                0       Belize     #fyp   \n",
       "2                          0                0       Belize     #fyp   \n",
       "3                          0                0       Belize            \n",
       "\n",
       "   hash_belize  hash_belizean  hash_belizeantiktokers  hash_foryou  \\\n",
       "0            0              0                       0            0   \n",
       "1            0              0                       0            0   \n",
       "2            0              0                       0            0   \n",
       "3            0              0                       0            0   \n",
       "\n",
       "   hash_foryoupage  hash_funny  hash_fyp  hash_fypシ  hash_trending  hash_viral  \n",
       "0                0           0         0          1              0           0  \n",
       "1                0           0         1          0              0           0  \n",
       "2                0           0         1          0              0           0  \n",
       "3                0           0         0          0              0           0  "
      ]
     },
     "execution_count": 259,
     "metadata": {},
     "output_type": "execute_result"
    }
   ],
   "source": [
    "bz.head(4)"
   ]
  },
  {
   "cell_type": "markdown",
   "id": "98fa5379-a658-4dfc-a1a6-44c179e4b2b3",
   "metadata": {},
   "source": [
    "."
   ]
  },
  {
   "cell_type": "code",
   "execution_count": 260,
   "id": "1c7847c4-8193-40b6-8b5c-d5e7f7629ec9",
   "metadata": {},
   "outputs": [
    {
     "data": {
      "text/plain": [
       "region                                    0\n",
       "aweme_id                                  0\n",
       "create_time                               0\n",
       "desc                                      0\n",
       "author.uid                                0\n",
       "author.nickname                           0\n",
       "author.signature                         41\n",
       "author.commerce_user_level                0\n",
       "is_ads                                    0\n",
       "share_url                                 0\n",
       "statistics.play_count                     0\n",
       "statistics.comment_count                  0\n",
       "statistics.share_count                    0\n",
       "statistics.download_count                 0\n",
       "statistics.digg_count                     0\n",
       "music.id                                  0\n",
       "music.mid                                 0\n",
       "music.source_platform                     0\n",
       "music.id_str                              0\n",
       "music.title                               0\n",
       "music.author                              0\n",
       "music.owner_id                          202\n",
       "music.owner_nickname                    202\n",
       "music.is_original                         0\n",
       "music.is_commerce_music                   0\n",
       "music.play_url.uri                        4\n",
       "music.strong_beat_url.uri               160\n",
       "music.is_author_artist                    0\n",
       "music.is_pgc                              0\n",
       "music.matched_pgc_sound.author          514\n",
       "music.matched_pgc_sound.title           514\n",
       "music.matched_pgc_sound.mixed_title     514\n",
       "music.matched_pgc_sound.mixed_author    514\n",
       "music.external_song_info                  0\n",
       "music.binded_challenge_id                 0\n",
       "bodydance_score                           0\n",
       "fyp_location                              0\n",
       "hashtags                                  0\n",
       "hash_belize                               0\n",
       "hash_belizean                             0\n",
       "hash_belizeantiktokers                    0\n",
       "hash_foryou                               0\n",
       "hash_foryoupage                           0\n",
       "hash_funny                                0\n",
       "hash_fyp                                  0\n",
       "hash_fypシ                                 0\n",
       "hash_trending                             0\n",
       "hash_viral                                0\n",
       "dtype: int64"
      ]
     },
     "execution_count": 260,
     "metadata": {},
     "output_type": "execute_result"
    }
   ],
   "source": [
    "bz.isnull().sum()"
   ]
  },
  {
   "cell_type": "markdown",
   "id": "8065f031-6846-4ed5-9a99-18fb71824352",
   "metadata": {},
   "source": [
    "The rest of the nulls are not particularly worrying. I am keeping most of these columns for their value in double checking analysis.\n",
    "\n",
    "It wasn't possible to find clear cut descriptions of all these fields, so some inference was made based on json structure and surrounding fields.\n",
    "\n",
    "These columns will be dropped before modeling."
   ]
  },
  {
   "cell_type": "markdown",
   "id": "4a105163-2478-44ca-b801-09fd8cbeb24a",
   "metadata": {},
   "source": [
    "."
   ]
  },
  {
   "cell_type": "code",
   "execution_count": 5,
   "id": "d5ea1e47-3291-429e-9083-035972999976",
   "metadata": {},
   "outputs": [
    {
     "name": "stdout",
     "output_type": "stream",
     "text": [
      "326\n"
     ]
    }
   ],
   "source": [
    "import spacy\n",
    "en = spacy.load('en_core_web_sm')\n",
    "stopwords = en.Defaults.stop_words\n",
    "\n",
    "extra_words = ['fy', 'fyp', 'foryoupage', 'fypage', 'foryou', 'fypシ', 'viral', 'trending',\n",
    "                                                              'trendingvideo', 'viralvideo', 'tiktok', 'like', 'don',\n",
    "                            'lol', 'follow', 'time', 'day', 'replay', 'video', 'stop', 'want', 'got', 'best', 'love',\n",
    "                            'stitch', 'reply', 'wait', 'come', 'bio', 'let', 'right', 'left', 'guy', 'guys', 'fun', 'things', 'end',\n",
    "                            'going', 'year', 'know', 'good', 'new', 'll', 'need', 'happy', 'way', 'tho', 'help', 'today', 'days',\n",
    "                            'live', 'feel', 'me', 'link', 'tho', 'nah', 'fyppppppppppppppppppppppp', 'fypp', 'find',  'gone',\n",
    "                            'gotta', 'gonna', 'goviral', 'aint', 'yall', 'hi', 'heart', 'hear', 'hours', 'join', 'late', 'post', 'pls',\n",
    "                            'st', 'tok', 'oh', 'ok', 'okay', 'said', 'sad', 'rip', 'yes', 'no', 'ya', 'yeah', 'yea', 'weeks', 'viraltiktok',\n",
    "                            'tell', 'thank', 'ur', 'your', 'im', 'dis', 'idk', 'og', 'ib', 'ig', 'ob', 'iykyk', 'lmao', 'lmfao',\n",
    "                            'link', 'likes', 'quick', 'seen', 'sure', 'tag', 've', 'm', 'plz', 'soon', 'isn', 'went', 'go', 'vs',\n",
    "                            'have', 'having', 'happen', 'happened', 'go', 'goes', 'com', 'bit', 'bc', 'ad', 'ai', 'far', 'fave',\n",
    "                             'fav', 'friend', 'great', 'guess', 'hard', 'held', 'hit', 'hold', 'leg', 'later', 'leave', 'left', 'life', \n",
    "                             'lot', 'little', 'look', 'long', 'lil', 'meet', 'miss', 'nice', 'nd', 'old', 'page', 'point', 'possible', 'pt',\n",
    "                             'ready', 'real', 'set', 'st', 'start', 'stop', 'small', 'big', 'thing', 'think', 'tik', 'till', 'tip', 'talk',\n",
    "                             'true', 'tt', 'try', 'turn', 'right', 'wrong', 'ago', 'bestie', 'bro', 'damn', 'vid', 'man', 'foryourpage',\n",
    "                               'edit', 'xyzbca', 'zyxcba', 'zyzz', 'a', 'ab', 'abc', 'check', 'podcast', 'podcasts', 'share', 'walk', 'walks',\n",
    "                               'walked'\n",
    "                            ]\n",
    "\n",
    "extra_hash = ['#'+i for i in extra_words]\n",
    "\n",
    "\n",
    "print(len(stopwords))\n",
    "stopwords = stopwords.union(extra_words).union(extra_hash)"
   ]
  },
  {
   "cell_type": "markdown",
   "id": "3064797c-ad3d-44bf-a4b3-1a24734bc46d",
   "metadata": {
    "tags": []
   },
   "source": [
    "#### Data Cleaning - All Countries"
   ]
  },
  {
   "cell_type": "markdown",
   "id": "9bbfa8a3-837b-4a9a-b105-1b3dfd1ef541",
   "metadata": {},
   "source": [
    "Since I have a lot of csvs to work with, I wrote a function to repeat the above data cleaning and preprocessing steps for all countries."
   ]
  },
  {
   "cell_type": "code",
   "execution_count": 6,
   "id": "fd70349e-411e-48d5-ae03-729666224a5d",
   "metadata": {},
   "outputs": [],
   "source": [
    "def dataclean(csv):\n",
    "    \"\"\" change this to a docstring instead of comments every line \"\"\"\n",
    "    \n",
    "    # Get country codes\n",
    "    countrycode = csv[7:9]\n",
    "    \n",
    "    filename_to_read = (f'./data/originals/{csv}')\n",
    "    \n",
    "    filename_to_write = (f'./data/clean/c_{csv}')\n",
    "    \n",
    "    df = pd.read_csv(filename_to_read, index_col=[0])\n",
    "    \n",
    "    #add location\n",
    "    df['fyp_location']=codes[countrycode]\n",
    "    \n",
    "    # fill nulls in description with empty string\n",
    "    df['desc'] = np.where(df['desc'].isnull(), \" \", df['desc'])\n",
    "    \n",
    "    # drop nulls for origin region\n",
    "    df = df.dropna(subset=['region'], axis=0)\n",
    "    \n",
    "    # drop cols \n",
    "    df = df.drop(columns='author.custom_verify')\n",
    "\n",
    "    # check dates\n",
    "    # import time\n",
    "    # onemonth = 2592000\n",
    "\n",
    "    #noww = time.time()\n",
    "    #print(f\"Oldest video: {np.round( (noww - bz['create_time'].min()) /onemonth, 1)} months old\")\n",
    "    #print(f\"Newest video: {np.round( (noww - bz['create_time'].max())/onemonth, 1)} months old\")\n",
    "    \n",
    "    # Fix mix artists\n",
    "    df['music.title'] = np.where(df['music.matched_pgc_sound.mixed_title'].notnull(\n",
    "    ), df['music.matched_pgc_sound.mixed_title'], df['music.title'])\n",
    "    \n",
    "    df['music.author'] = np.where(df['music.matched_pgc_sound.mixed_author'].notnull(\n",
    "    ), df['music.matched_pgc_sound.mixed_author'], df['music.author'])\n",
    "    \n",
    "    # get hastags\n",
    "    df['hashtags'] = df.desc.str.findall(r'#.*?(?=\\s|$)').str.join(\" \")\n",
    "\n",
    "    cv = CountVectorizer(max_features=10, strip_accents=False)\n",
    "    X = df['hashtags']\n",
    "    X_cv = pd.DataFrame(cv.fit_transform(X).A,  columns=['hash_'+x for x in cv.get_feature_names_out()], index=df.index)\n",
    "    #scikit learn transformer returns numpy array, loses index. Reassign\n",
    "    \n",
    "    for column in X_cv.columns:\n",
    "        df[column]=X_cv[column]\n",
    "    \n",
    "    df.to_csv(filename_to_write)\n",
    "    print(f'exported{filename_to_write}')"
   ]
  },
  {
   "cell_type": "code",
   "execution_count": 7,
   "id": "292364d9-3683-4e18-8ad7-834fda42a825",
   "metadata": {},
   "outputs": [],
   "source": [
    "files = [i for i in os.listdir('./data/originals') if not i.startswith('.')]"
   ]
  },
  {
   "cell_type": "code",
   "execution_count": 11,
   "id": "67e3bd26-9970-43c5-97ad-1570fb61e758",
   "metadata": {},
   "outputs": [
    {
     "name": "stdout",
     "output_type": "stream",
     "text": [
      "exported./data/clean/c_tiktok_KI.csv\n",
      "exported./data/clean/c_tiktok_HR.csv\n",
      "exported./data/clean/c_tiktok_JM.csv\n",
      "exported./data/clean/c_tiktok_FO.csv\n",
      "exported./data/clean/c_tiktok_ET.csv\n",
      "exported./data/clean/c_tiktok_EC.csv\n",
      "exported./data/clean/c_tiktok_KH.csv\n",
      "exported./data/clean/c_tiktok_DE.csv\n",
      "exported./data/clean/c_tiktok_GI.csv\n",
      "exported./data/clean/c_tiktok_GH.csv\n",
      "exported./data/clean/c_tiktok_IT.csv\n",
      "exported./data/clean/c_tiktok_JO.csv\n",
      "exported./data/clean/c_tiktok_HT.csv\n",
      "exported./data/clean/c_tiktok_GL.csv\n",
      "exported./data/clean/c_tiktok_EE.csv\n",
      "exported./data/clean/c_tiktok_GM.csv\n",
      "exported./data/clean/c_tiktok_FI.csv\n",
      "exported./data/clean/c_tiktok_ER.csv\n",
      "exported./data/clean/c_tiktok_KY.csv\n",
      "exported./data/clean/c_tiktok_HU.csv\n",
      "exported./data/clean/c_tiktok_IQ.csv\n",
      "exported./data/clean/c_tiktok_PF.csv\n",
      "exported./data/clean/c_tiktok_IS.csv\n",
      "exported./data/clean/c_tiktok_ID.csv\n",
      "exported./data/clean/c_tiktok_FK.csv\n",
      "exported./data/clean/c_tiktok_EG.csv\n",
      "exported./data/clean/c_tiktok_GY.csv\n",
      "exported./data/clean/c_tiktok_FJ.csv\n",
      "exported./data/clean/c_tiktok_GN.csv\n",
      "exported./data/clean/c_tiktok_IE.csv\n",
      "exported./data/clean/c_tiktok_KZ.csv\n",
      "exported./data/clean/c_tiktok_KM.csv\n",
      "exported./data/clean/c_tiktok_BE.csv\n",
      "exported./data/clean/c_tiktok_CA.csv\n",
      "exported./data/clean/c_tiktok_BR.csv\n",
      "exported./data/clean/c_tiktok_AI.csv\n",
      "exported./data/clean/c_tiktok_CV.csv\n",
      "exported./data/clean/c_tiktok_CW.csv\n",
      "exported./data/clean/c_tiktok_BS.csv\n",
      "exported./data/clean/c_tiktok_BD.csv\n",
      "exported./data/clean/c_tiktok_VA.csv\n",
      "exported./data/clean/c_tiktok_BF.csv\n",
      "exported./data/clean/c_tiktok_BQ.csv\n",
      "exported./data/clean/c_tiktok_BG.csv\n",
      "exported./data/clean/c_tiktok_CC.csv\n",
      "exported./data/clean/c_tiktok_BT.csv\n",
      "exported./data/clean/c_tiktok_AO.csv\n",
      "exported./data/clean/c_tiktok_CG.csv\n",
      "exported./data/clean/c_tiktok_AX.csv\n",
      "exported./data/clean/c_tiktok_BB.csv\n",
      "exported./data/clean/c_tiktok_CF.csv\n",
      "exported./data/clean/c_tiktok_BW.csv\n",
      "exported./data/clean/c_tiktok_AL.csv\n",
      "exported./data/clean/c_tiktok_CD.csv\n",
      "exported./data/clean/c_tiktok_BA.csv\n",
      "exported./data/clean/c_tiktok_AZ.csv\n",
      "exported./data/clean/c_tiktok_CR.csv\n",
      "exported./data/clean/c_tiktok_AM.csv\n",
      "exported./data/clean/c_tiktok_BV.csv\n",
      "exported./data/clean/c_tiktok_AW.csv\n",
      "exported./data/clean/c_tiktok_BM.csv\n",
      "exported./data/clean/c_tiktok_CI.csv\n",
      "exported./data/clean/c_tiktok_BZ.csv\n",
      "exported./data/clean/c_tiktok_US.csv\n",
      "exported./data/clean/c_tiktok_LS.csv\n",
      "exported./data/clean/c_tiktok_AT.csv\n",
      "exported./data/clean/c_tiktok_BO.csv\n",
      "exported./data/clean/c_tiktok_CK.csv\n",
      "exported./data/clean/c_tiktok_BN.csv\n",
      "exported./data/clean/c_tiktok_AU.csv\n",
      "exported./data/clean/c_tiktok_BY.csv\n",
      "exported./data/clean/c_tiktok_AQ.csv\n",
      "exported./data/clean/c_tiktok_BJ.csv\n",
      "exported./data/clean/c_tiktok_AF.csv\n",
      "exported./data/clean/c_tiktok_CY.csv\n",
      "exported./data/clean/c_tiktok_CX.csv\n",
      "exported./data/clean/c_tiktok_AG.csv\n",
      "exported./data/clean/c_tiktok_CO.csv\n",
      "exported./data/clean/c_tiktok_TF.csv\n",
      "exported./data/clean/c_tiktok_TD.csv\n",
      "exported./data/clean/c_tiktok_CM.csv\n",
      "exported./data/clean/c_tiktok_AR.csv\n",
      "exported./data/clean/c_tiktok_BI.csv\n",
      "exported./data/clean/c_tiktok_CZ.csv\n",
      "exported./data/clean/c_tiktok_AD.csv\n",
      "exported./data/clean/c_tiktok_BH.csv\n",
      "exported./data/clean/c_tiktok_AS.csv\n",
      "exported./data/clean/c_tiktok_CL.csv\n",
      "exported./data/clean/c_tiktok_MG.csv\n",
      "exported./data/clean/c_tiktok_KW.csv\n",
      "exported./data/clean/c_tiktok_GT.csv\n",
      "exported./data/clean/c_tiktok_DO.csv\n",
      "exported./data/clean/c_tiktok_GU.csv\n",
      "exported./data/clean/c_tiktok_HM.csv\n",
      "exported./data/clean/c_tiktok_JE.csv\n",
      "exported./data/clean/c_tiktok_JP.csv\n",
      "exported./data/clean/c_tiktok_GW.csv\n",
      "exported./data/clean/c_tiktok_FR.csv\n",
      "exported./data/clean/c_tiktok_DM.csv\n",
      "exported./data/clean/c_tiktok_GA.csv\n",
      "exported./data/clean/c_tiktok_DZ.csv\n",
      "exported./data/clean/c_tiktok_HN.csv\n",
      "exported./data/clean/c_tiktok_GR.csv\n",
      "exported./data/clean/c_tiktok_GE.csv\n",
      "exported./data/clean/c_tiktok_GD.csv\n",
      "exported./data/clean/c_tiktok_KG.csv\n",
      "exported./data/clean/c_tiktok_IO.csv\n",
      "exported./data/clean/c_tiktok_SV.csv\n",
      "exported./data/clean/c_tiktok_IM.csv\n",
      "exported./data/clean/c_tiktok_KR.csv\n",
      "exported./data/clean/c_tiktok_KE.csv\n",
      "exported./data/clean/c_tiktok_GQ.csv\n",
      "exported./data/clean/c_tiktok_DJ.csv\n",
      "exported./data/clean/c_tiktok_GF.csv\n",
      "exported./data/clean/c_tiktok_GG.csv\n",
      "exported./data/clean/c_tiktok_DK.csv\n",
      "exported./data/clean/c_tiktok_GP.csv\n",
      "exported./data/clean/c_tiktok_IL.csv\n"
     ]
    }
   ],
   "source": [
    "for file in files:\n",
    "     dataclean(file)"
   ]
  },
  {
   "cell_type": "markdown",
   "id": "7ec13622-2e5f-482e-8c0e-bafd8c250087",
   "metadata": {},
   "source": [
    "."
   ]
  },
  {
   "cell_type": "markdown",
   "id": "9a34c76b-37ed-4720-934c-a51694a26033",
   "metadata": {},
   "source": [
    "."
   ]
  },
  {
   "cell_type": "markdown",
   "id": "30a4e999-6fce-4830-b3d4-c86320acb0d9",
   "metadata": {},
   "source": [
    "."
   ]
  },
  {
   "cell_type": "markdown",
   "id": "622572b9-a19c-4a25-a583-30bc247c26d4",
   "metadata": {},
   "source": [
    "."
   ]
  },
  {
   "cell_type": "markdown",
   "id": "2620780b-515c-481b-8e52-80ff4f6bfc2d",
   "metadata": {},
   "source": [
    "."
   ]
  },
  {
   "cell_type": "markdown",
   "id": "18c09a8d-7b38-417c-9730-e9ffb0367575",
   "metadata": {},
   "source": [
    "."
   ]
  },
  {
   "cell_type": "markdown",
   "id": "b8518918-6cd0-48ef-9c97-06bcf9dd577c",
   "metadata": {},
   "source": [
    "."
   ]
  },
  {
   "cell_type": "markdown",
   "id": "9e5b8624-24eb-41cd-b239-5e9880f51716",
   "metadata": {},
   "source": [
    "."
   ]
  },
  {
   "cell_type": "code",
   "execution_count": 268,
   "id": "00364e87-e374-41b0-a34e-d68e67bc7ba9",
   "metadata": {},
   "outputs": [],
   "source": [
    "# pattern matching for pgc_sounds could be done with timeseries function - forget what it's called. diff or lapse ?\n",
    "\n",
    "\n",
    "# one lapse col for all pitches, concat all prev pitches\n",
    "\n",
    "# one lapse col for all beats, concat all prev beats\n",
    "\n",
    "# or just put in neural net probably makes more sense. predict if pgc match is found for sound "
   ]
  },
  {
   "cell_type": "markdown",
   "id": "d15b2e90",
   "metadata": {},
   "source": [
    "Additional data collection \n",
    "\n",
    "USA only?"
   ]
  },
  {
   "cell_type": "code",
   "execution_count": null,
   "id": "72e52b74",
   "metadata": {},
   "outputs": [],
   "source": [
    "pitch_li = []\n",
    "for x in bz['music.strong_beat_url.uri']:\n",
    "    try:\n",
    "        df = pd.json_normalize(json.load(urllib.request.urlopen(x)),\n",
    "                               record_path='pitchs').T\n",
    "\n",
    "        df['url'] = x\n",
    "\n",
    "        df.columns = [str(i) + '_pitch' for i in df.columns]\n",
    "\n",
    "        pitch_li.append(df)\n",
    "    except:\n",
    "        pass\n",
    "\n",
    "pitches = pd.concat(pitch_li)\n",
    "pitches.head(4)\n",
    "\n",
    "#\n",
    "\n",
    "bz = pd.merge(left=bz, right=pitches, how='left',\n",
    "              left_on='music.strong_beat_url.uri', right_on='url_pitch')\n",
    "\n",
    "# Due to insane number of beats collected for some songs I will do this analysis for US only.\n",
    "\n",
    "\n",
    "\n",
    "onset_li = []\n",
    "for x in bz['music.strong_beat_url.uri']:\n",
    "    try:\n",
    "        df = pd.json_normalize(json.load(urllib.request.urlopen(x)),\n",
    "                               record_path='onsets').T\n",
    "\n",
    "        df['url'] = x\n",
    "\n",
    "        df.columns = [str(i) + '_onset' for i in df.columns]\n",
    "\n",
    "        onset_li.append(df)\n",
    "    except:\n",
    "        pass\n",
    "\n",
    "onsets = pd.concat(onset_li)\n",
    "bz = pd.merge(left=bz, right=onsets, how='left',\n",
    "              left_on='music.strong_beat_url.uri', right_on='url_onset')\n",
    "\n",
    "\n",
    "\n",
    "duration_li = []\n",
    "for x in bz['music.strong_beat_url.uri']:\n",
    "    try:\n",
    "        df = pd.json_normalize(json.load(urllib.request.urlopen(x)),\n",
    "                               record_path='durations').T\n",
    "\n",
    "        df['url'] = x\n",
    "\n",
    "        df.columns = [str(i) + '_duration' for i in df.columns]\n",
    "\n",
    "        duration_li.append(df)\n",
    "    except:\n",
    "        pass\n",
    "\n",
    "durations = pd.concat(duration_li)\n",
    "bz = pd.merge(left=bz, right=durations, how='left',\n",
    "              left_on='music.strong_beat_url.uri', right_on='url_duration')\n",
    "\n",
    "# Due to insane number of beats collected for some songs I will do this analysis for US only.\n",
    "\n",
    "# Due to insane number of beats collected for some songs I will do this analysis for US only.\n",
    "\n"
   ]
  },
  {
   "cell_type": "code",
   "execution_count": null,
   "id": "209d5917",
   "metadata": {},
   "outputs": [],
   "source": [
    "bz = pd.merge(left=bz, right=pitches, how='left',\n",
    "              left_on='music.strong_beat_url.uri', right_on='url_pitch')"
   ]
  },
  {
   "cell_type": "code",
   "execution_count": null,
   "id": "23c159ca",
   "metadata": {},
   "outputs": [],
   "source": [
    "onset_li = []\n",
    "for x in bz['music.strong_beat_url.uri']:\n",
    "    try:\n",
    "        df = pd.json_normalize(json.load(urllib.request.urlopen(x)),\n",
    "                               record_path='onsets').T\n",
    "\n",
    "        df['url'] = x\n",
    "\n",
    "        df.columns = [str(i) + '_onset' for i in df.columns]\n",
    "\n",
    "        onset_li.append(df)\n",
    "    except:\n",
    "        pass\n",
    "\n",
    "onsets = pd.concat(onset_li)\n",
    "bz = pd.merge(left=bz, right=onsets, how='left',\n",
    "              left_on='music.strong_beat_url.uri', right_on='url_onset')\n",
    "\n",
    "# Due to insane number of beats collected for some songs I will do this analysis for US only."
   ]
  },
  {
   "cell_type": "code",
   "execution_count": null,
   "id": "7512687a",
   "metadata": {},
   "outputs": [],
   "source": [
    "duration_li = []\n",
    "for x in bz['music.strong_beat_url.uri']:\n",
    "    try:\n",
    "        df = pd.json_normalize(json.load(urllib.request.urlopen(x)),\n",
    "                               record_path='durations').T\n",
    "\n",
    "        df['url'] = x\n",
    "\n",
    "        df.columns = [str(i) + '_duration' for i in df.columns]\n",
    "\n",
    "        duration_li.append(df)\n",
    "    except:\n",
    "        pass\n",
    "\n",
    "durations = pd.concat(duration_li)\n",
    "bz = pd.merge(left=bz, right=durations, how='left',\n",
    "              left_on='music.strong_beat_url.uri', right_on='url_duration')\n",
    "\n",
    "# Due to insane number of beats collected for some songs I will do this analysis for US only."
   ]
  },
  {
   "cell_type": "code",
   "execution_count": null,
   "id": "bf54a681",
   "metadata": {},
   "outputs": [],
   "source": [
    "# was trying to pull out strong beat info, may be too hard."
   ]
  },
  {
   "cell_type": "code",
   "execution_count": null,
   "id": "0eef2388",
   "metadata": {
    "lines_to_end_of_cell_marker": 2
   },
   "outputs": [],
   "source": [
    "\n",
    "# pd.json_normalize(data, record_path='durations').T\n",
    "# pd.json_normalize(data, record_path='onsets').T\n",
    "# pd.json_normalize(data, record_path='pitchs').T"
   ]
  },
  {
   "cell_type": "code",
   "execution_count": null,
   "id": "2e2f26c5",
   "metadata": {},
   "outputs": [],
   "source": [
    "bz['music.strong_beat_url.uri'].isna().sum()"
   ]
  },
  {
   "cell_type": "code",
   "execution_count": null,
   "id": "f43714d1",
   "metadata": {},
   "outputs": [],
   "source": [
    "# change json url to actual json. should have done in data acq step but i am not going back."
   ]
  },
  {
   "cell_type": "code",
   "execution_count": null,
   "id": "f8051a23",
   "metadata": {},
   "outputs": [],
   "source": [
    "for x in bz['music.strong_beat_url.uri']:\n",
    "    try:\n",
    "        bz['music.strong_beat_analysis'] = json.load(urllib.request.urlopen(x))\n",
    "    except:\n",
    "        pass"
   ]
  },
  {
   "cell_type": "code",
   "execution_count": null,
   "id": "dfb22cde",
   "metadata": {},
   "outputs": [],
   "source": [
    "bz.head(5)"
   ]
  },
  {
   "cell_type": "code",
   "execution_count": null,
   "id": "ab35847c",
   "metadata": {},
   "outputs": [],
   "source": [
    "request = json.load(urllib.request.urlopen(bz['music.strong_beat_url.uri']))\n",
    "data = json.load(request)\n",
    "pd.json_normalize(data, record_path='durations').T\n",
    "\n",
    "\n",
    "# new_cols = ['column_new_1', 'column_new_2', 'column_new_3']\n",
    "# new_vals = [np.nan, 'dogs', 3]\n",
    "# df = df.reindex(columns=df.columns.tolist() + new_cols)   # add empty cols\n",
    "# df[new_cols] = new_vals  # multi-column assignment works for existing cols"
   ]
  },
  {
   "cell_type": "code",
   "execution_count": 106,
   "id": "d2ca5231-ba0d-4967-b13d-ce7746989590",
   "metadata": {},
   "outputs": [
    {
     "data": {
      "text/plain": [
       "'Name'"
      ]
     },
     "execution_count": 106,
     "metadata": {},
     "output_type": "execute_result"
    }
   ],
   "source": [
    "import csv\n",
    "\n",
    "codes = {}\n",
    "with open(\"./data/codes.csv\", mode='r') as inp:\n",
    "    reader = csv.reader(inp)\n",
    "    codes = {rows[1]:rows[0] for rows in reader}\n",
    "    \n",
    "codes.pop('Code')"
   ]
  },
  {
   "cell_type": "code",
   "execution_count": null,
   "id": "21b77a30-20a4-433e-b40b-c2d3144b468c",
   "metadata": {},
   "outputs": [],
   "source": []
  }
 ],
 "metadata": {
  "kernelspec": {
   "display_name": "Python 3 (ipykernel)",
   "language": "python",
   "name": "python3"
  },
  "language_info": {
   "codemirror_mode": {
    "name": "ipython",
    "version": 3
   },
   "file_extension": ".py",
   "mimetype": "text/x-python",
   "name": "python",
   "nbconvert_exporter": "python",
   "pygments_lexer": "ipython3",
   "version": "3.9.7"
  }
 },
 "nbformat": 4,
 "nbformat_minor": 5
}
