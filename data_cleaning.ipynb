{
 "cells": [
  {
   "cell_type": "code",
   "execution_count": 1,
   "id": "96d00aee-32f9-4bf2-b5fc-2d999eda30e9",
   "metadata": {},
   "outputs": [],
   "source": [
    "import pandas as pd"
   ]
  },
  {
   "cell_type": "markdown",
   "id": "eb839473-b859-4ba1-a411-ad4ef6bbc6ea",
   "metadata": {},
   "source": [
    "Looking at a single country"
   ]
  },
  {
   "cell_type": "code",
   "execution_count": 3,
   "id": "7c48a6d4-5082-4d97-b1ff-d3e506db4f75",
   "metadata": {},
   "outputs": [],
   "source": [
    "bz = pd.read_csv('./data/tiktok_BZ.csv')"
   ]
  },
  {
   "cell_type": "code",
   "execution_count": 4,
   "id": "184ede8c-e428-4340-b5a8-34560a6cf799",
   "metadata": {},
   "outputs": [
    {
     "name": "stdout",
     "output_type": "stream",
     "text": [
      "<class 'pandas.core.frame.DataFrame'>\n",
      "RangeIndex: 640 entries, 0 to 639\n",
      "Data columns (total 38 columns):\n",
      " #   Column                                Non-Null Count  Dtype  \n",
      "---  ------                                --------------  -----  \n",
      " 0   Unnamed: 0                            640 non-null    int64  \n",
      " 1   region                                639 non-null    object \n",
      " 2   aweme_id                              640 non-null    int64  \n",
      " 3   create_time                           640 non-null    int64  \n",
      " 4   desc                                  562 non-null    object \n",
      " 5   author.uid                            640 non-null    int64  \n",
      " 6   author.nickname                       640 non-null    object \n",
      " 7   author.signature                      599 non-null    object \n",
      " 8   author.custom_verify                  83 non-null     object \n",
      " 9   author.commerce_user_level            640 non-null    int64  \n",
      " 10  is_ads                                640 non-null    bool   \n",
      " 11  share_url                             640 non-null    object \n",
      " 12  statistics.play_count                 640 non-null    int64  \n",
      " 13  statistics.comment_count              640 non-null    int64  \n",
      " 14  statistics.share_count                640 non-null    int64  \n",
      " 15  statistics.download_count             640 non-null    int64  \n",
      " 16  statistics.digg_count                 640 non-null    int64  \n",
      " 17  music.id                              640 non-null    int64  \n",
      " 18  music.mid                             640 non-null    int64  \n",
      " 19  music.source_platform                 640 non-null    int64  \n",
      " 20  music.id_str                          640 non-null    int64  \n",
      " 21  music.title                           640 non-null    object \n",
      " 22  music.author                          640 non-null    object \n",
      " 23  music.owner_id                        438 non-null    float64\n",
      " 24  music.owner_nickname                  438 non-null    object \n",
      " 25  music.is_original                     640 non-null    bool   \n",
      " 26  music.is_commerce_music               640 non-null    bool   \n",
      " 27  music.play_url.uri                    636 non-null    object \n",
      " 28  music.strong_beat_url.uri             480 non-null    object \n",
      " 29  music.is_author_artist                640 non-null    bool   \n",
      " 30  music.is_pgc                          640 non-null    bool   \n",
      " 31  music.matched_pgc_sound.author        125 non-null    object \n",
      " 32  music.matched_pgc_sound.title         125 non-null    object \n",
      " 33  music.matched_pgc_sound.mixed_title   125 non-null    object \n",
      " 34  music.matched_pgc_sound.mixed_author  125 non-null    object \n",
      " 35  music.external_song_info              640 non-null    object \n",
      " 36  music.binded_challenge_id             640 non-null    int64  \n",
      " 37  bodydance_score                       640 non-null    int64  \n",
      "dtypes: bool(5), float64(1), int64(16), object(16)\n",
      "memory usage: 168.2+ KB\n"
     ]
    }
   ],
   "source": [
    "bz.info()"
   ]
  },
  {
   "cell_type": "markdown",
   "id": "241dfa64-eb7f-4ea2-b5a2-a8520c79ab54",
   "metadata": {},
   "source": [
    "## Data cleaning steps that will need to be done for each table\n",
    "\n",
    "* Since origin countries differ from fyp countries, will need to add column for FYP countries \n",
    "* Fill nulls in \"desc\" with \"\" or \" \"\n",
    "* drop nulls for region\n",
    "* maybe drop whole custom verify col\n",
    "* check dates for these? date range from today?\n",
    "\n",
    "\n",
    "MUSIC\n",
    "* Need some prelim sorting to see if mixed sounds have any popularity of their own at all, or if I should just replace with matched_pgc.\n",
    "* Maybe drop rows where music source isn't tiktok (72). \n",
    "* look more and figure out what else messes it up.\n",
    "* pulled enough data that I can drop a good amount of null cols\n",
    "\n",
    "\n",
    "* Either concetenate all dataframes or figure out something else bc I dont wanna deal with this many dataframes and variables.\n",
    "* hardest part of this isnt nulls bc those are really straightforward. it's dealing with 600 of these... \n",
    "\n",
    "* **was there a better way to pull this data? :/**\n",
    "\n",
    "\n",
    "Preprocessing\n",
    "* filter out hashtags ONLY from desc with regex then countvectorize hashtags \n"
   ]
  },
  {
   "cell_type": "markdown",
   "id": "6f805bbc-989e-4db1-a9ef-f2913e2b91c8",
   "metadata": {},
   "source": [
    "* ! build mvp before the rest of the data is pulled.  do the rest later."
   ]
  },
  {
   "cell_type": "code",
   "execution_count": null,
   "id": "3ca53d83-d4a9-4693-a046-d817c566f343",
   "metadata": {},
   "outputs": [],
   "source": []
  }
 ],
 "metadata": {
  "kernelspec": {
   "display_name": "Python 3 (ipykernel)",
   "language": "python",
   "name": "python3"
  },
  "language_info": {
   "codemirror_mode": {
    "name": "ipython",
    "version": 3
   },
   "file_extension": ".py",
   "mimetype": "text/x-python",
   "name": "python",
   "nbconvert_exporter": "python",
   "pygments_lexer": "ipython3",
   "version": "3.9.7"
  }
 },
 "nbformat": 4,
 "nbformat_minor": 5
}
