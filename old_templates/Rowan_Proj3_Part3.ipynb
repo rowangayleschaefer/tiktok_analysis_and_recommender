{
 "cells": [
  {
   "cell_type": "markdown",
   "id": "4278fbb9-4df8-45ab-8aef-d25664a656b4",
   "metadata": {},
   "source": [
    "# Reddit NLP Classification Project"
   ]
  },
  {
   "cell_type": "markdown",
   "id": "a191298b-6354-4732-b7a7-096a3c5ba4d8",
   "metadata": {},
   "source": [
    "## Part III: Preprocessing, Modeling, & Interpretation"
   ]
  },
  {
   "cell_type": "markdown",
   "id": "7e72cf4a-0d56-45a0-83fe-8f09d1abc927",
   "metadata": {},
   "source": [
    "<img src='./images/pysql.png'>"
   ]
  },
  {
   "cell_type": "markdown",
   "id": "d55a39d7-83ba-4195-905a-2292bf473ddc",
   "metadata": {},
   "source": [
    "<font color=white>.</font>"
   ]
  },
  {
   "cell_type": "markdown",
   "id": "9c8e4963-ec2c-489f-8ac9-e723446af206",
   "metadata": {},
   "source": [
    "run me! ↓"
   ]
  },
  {
   "cell_type": "code",
   "execution_count": 1,
   "id": "79401922-d9f7-4171-960e-9736fb478dbf",
   "metadata": {},
   "outputs": [
    {
     "data": {
      "text/html": [
       "<style>\n",
       "\n",
       "#notebook-container{\n",
       "    box-shadow: none !important;\n",
       "}\n",
       "\n",
       ".container {\n",
       "    width: 80% !important;\n",
       "}\n",
       "\n",
       ".notebook_app {\n",
       "    background: #fff !important;\n",
       "}\n",
       "\n",
       "body > #header {\n",
       "    background:  #f57b00;\n",
       "}\n",
       "\n",
       ".navbar-default {\n",
       "    background: none;\n",
       "    border: none;\n",
       "}\n",
       "\n",
       ".navbar-default .navbar-nav > li > a, #kernel_indicator {\n",
       "    color: rgba(255, 255, 255, 0.25);\n",
       "    border-bottom: 2px solid #f57b00;\n",
       "    transition: all 0.25s;\n",
       "}\n",
       "\n",
       ".navbar-default .navbar-nav > li > a:hover, #kernel_indicator:hover {\n",
       "    border-bottom: 2px solid #fff;\n",
       "    color: rgba(255, 255, 255, 1);\n",
       "}\n",
       "\n",
       "div.input_area {\n",
       "    border: none;\n",
       "    border-radius: 0;\n",
       "    background: #f7f7f7;\n",
       "    line-height: 1.5em;\n",
       "    margin: 0.5em 0;\n",
       "    padding: 0;\n",
       "}\n",
       "\n",
       "div.cell {\n",
       "    transition: all 0.25s;\n",
       "    border: none;\n",
       "    position: relative;\n",
       "    top: 0;\n",
       "}\n",
       "\n",
       "div.cell.selected, div.cell.selected.jupyter-soft-selected {\n",
       "    border: none;\n",
       "    background: transparent;\n",
       "    box-shadow: 0 6px 18px #aaa;\n",
       "    z-index: 10;\n",
       "    top: -10px;\n",
       "}\n",
       "\n",
       "\n",
       "div#pager {\n",
       "    opacity: 0.85;\n",
       "    z-index: 9999;\n",
       "}\n",
       "\n",
       ".navbar-default .navbar-nav > .open > a, .navbar-default .navbar-nav > .open > a:hover, .navbar-default .navbar-nav > .open > a:focus {\n",
       "    color: #fff;\n",
       "    background-color: transparent;\n",
       "    border-bottom: 2px solid #fff;\n",
       "}\n",
       "\n",
       ".dropdown-menu {\n",
       "    z-index: 999999 !important;\n",
       "    background-color: #f57b00;\n",
       "    opacity: 0.95;\n",
       "}\n",
       "\n",
       ".dropdown-menu > li > a {\n",
       "    color: #fff;\n",
       "}\n",
       "\n",
       ".dropdown-menu > .disabled > a, .dropdown-menu > .disabled > a:hover, .dropdown-menu > .disabled > a:focus {\n",
       "    color: rgba(255, 255, 255, 0.25);\n",
       "}\n",
       "\n",
       ".navbar-nav > li > .dropdown-menu {\n",
       "    border: none;\n",
       "    box-shadow: none;\n",
       "}\n",
       "\n",
       "div.output_wrapper {\n",
       "    background: #eee;\n",
       "}\n",
       "\n",
       "div.cell.unselected div.output_area{\n",
       "    margin-top: 12em;\n",
       "    box-shadow: inset 0 0 25px #aaa;\n",
       "    padding: 1em 0;\n",
       "    overflow-x: auto;\n",
       "    transition: all 0.25s;\n",
       "}\n",
       "\n",
       "div.cell.selected .output_area {\n",
       "    margin-top: 12em;\n",
       "    box-shadow: inset 0 0 5px #aaa;\n",
       "    padding: 0.5em 0;\n",
       "    overflow-x: auto;\n",
       "}\n",
       "\n",
       "div.cell.selected .div.output_scroll {\n",
       "    box-shadow: none;\n",
       "}\n",
       "\n",
       "div.output_wrapper {\n",
       "    margin: 0 0 1em;\n",
       "    transition: all 0.25s;\n",
       "}\n",
       "\n",
       "div.cell.selected .output_wrapper {\n",
       "    margin-bottom: 20em;\n",
       "}\n",
       "\n",
       "\n",
       ".dataframe {\n",
       "    background: #fff;\n",
       "    box-shadow: 0px 1px 2px #bbb;\n",
       "}\n",
       "\n",
       ".dataframe thead th, .dataframe tbody td {\n",
       "    text-align: right;\n",
       "    padding: 1em;\n",
       "}\n",
       "\n",
       ".output, div.output_scroll {\n",
       "    box-shadow: none;\n",
       "} \n",
       "\n",
       "\n",
       ".rendered_html pre code {\n",
       "    background: #f4f4f4;\n",
       "    border: 1px solid #ddd;\n",
       "    border-left: 3px solid #2a7bbd;\n",
       "    color: #444;\n",
       "    page-break-inside: avoid;\n",
       "    font-family: monospace;\n",
       "    font-size: 15px;\n",
       "    line-height: 1.6;\n",
       "    margin-bottom: 1.6em;\n",
       "    max-width: 100%;\n",
       "    overflow: auto;\n",
       "    padding: 1em 1.5em;\n",
       "    display: block;\n",
       "    word-wrap: break-word;\n",
       "}\n",
       "\n",
       "h1, .h1 {\n",
       "    font-size: 33px;\n",
       "    font-family: \"Trebuchet MS\";\n",
       "    font-size: 2.5em !important;\n",
       "    color: #2a7bbd;\n",
       "\n",
       "}\n",
       "\n",
       "h2, .h2 {\n",
       "    font-size: 20px;\n",
       "    font-family: \"Trebuchet MS\";\n",
       "    font-size: 2.5em !important;\n",
       "    color: #2a7bbd;\n",
       "    margin-top: 50em;\n",
       "\n",
       "}\n",
       "\n",
       "h3, .h3 {\n",
       "    font-size: 11px;\n",
       "    font-size: 1.5em !important;\n",
       "    color: black;\n",
       "    margin-top: 50em;\n",
       "}\n",
       "\n",
       "h4, .h4 {\n",
       "    font-size: 9px;\n",
       "    font-size: 1.2em !important;\n",
       "    color: black;\n",
       "    margin-top: 50em;\n",
       "}\n",
       "\n",
       "</style>"
      ],
      "text/plain": [
       "<IPython.core.display.HTML object>"
      ]
     },
     "execution_count": 1,
     "metadata": {},
     "output_type": "execute_result"
    }
   ],
   "source": [
    "# css notebook\n",
    "from IPython.core.display import HTML\n",
    "def css_styling():\n",
    "    styles = open(\"../styles/custom.css\", \"r\").read()\n",
    "    return HTML(styles)\n",
    "css_styling()"
   ]
  },
  {
   "cell_type": "markdown",
   "id": "81ccccc8-3073-4c6b-8fd1-ad4bc20d8c83",
   "metadata": {},
   "source": [
    "<font color=white>.</font>"
   ]
  },
  {
   "cell_type": "markdown",
   "id": "7b1f0f3f-f363-48a4-9059-449e3ab96aa2",
   "metadata": {},
   "source": [
    "#### Executive summary"
   ]
  },
  {
   "cell_type": "markdown",
   "id": "982d038d-f745-4bbe-9d22-7daef2bcc40d",
   "metadata": {},
   "source": [
    "The goal of this analysis is to classify text posts as either belonging to one subreddit or another, using NLP. \n",
    "\n",
    "Success will be evaluated using the model's accuracy score in correctly classifying the posts, with a second goal of trying many models to obtain the highest accuracy score possible."
   ]
  },
  {
   "cell_type": "markdown",
   "id": "d2732c00-b8e2-48df-9927-5887d90f7b1a",
   "metadata": {},
   "source": [
    "#### Research Questions"
   ]
  },
  {
   "cell_type": "markdown",
   "id": "eb3408c6-dcad-4cc3-a00f-bc82df634e13",
   "metadata": {},
   "source": [
    "* What preprocessing steps are best for creating a classification model with high accuracy?\n",
    "* Which classification models and hyperparameters lead to the highest accuracy score?"
   ]
  },
  {
   "cell_type": "markdown",
   "id": "f0a563c2-9667-42bc-ac16-bc1f220981d6",
   "metadata": {},
   "source": [
    "*Note: Charts generated in plotly have been added as image files in order to support preview rendering in github. Code for these charts can be found in the appendix of this notebook.*"
   ]
  },
  {
   "cell_type": "markdown",
   "id": "9e01a75b-078e-4fad-9bee-66bbab95bdf1",
   "metadata": {},
   "source": [
    "<font color=white>.</font>"
   ]
  },
  {
   "cell_type": "markdown",
   "id": "1caf323c-0bae-418a-911e-daba32c88277",
   "metadata": {},
   "source": [
    "## Preprocessing"
   ]
  },
  {
   "cell_type": "markdown",
   "id": "ef32cf5a-2f38-4694-9b86-93af9d5e74cd",
   "metadata": {},
   "source": [
    "#### Imports"
   ]
  },
  {
   "cell_type": "code",
   "execution_count": 2,
   "id": "82bda2ad",
   "metadata": {},
   "outputs": [],
   "source": [
    "import pandas as pd\n",
    "import numpy as np\n",
    "import matplotlib.pyplot as plt\n",
    "import seaborn as sns\n",
    "from sklearn.model_selection import train_test_split\n",
    "from sklearn.feature_extraction.text import CountVectorizer, TfidfVectorizer\n",
    "from sklearn.pipeline import Pipeline\n",
    "from nltk.stem import WordNetLemmatizer\n",
    "from nltk.tokenize import WhitespaceTokenizer\n",
    "from sklearn.metrics import precision_score, accuracy_score, balanced_accuracy_score, confusion_matrix, ConfusionMatrixDisplay"
   ]
  },
  {
   "cell_type": "code",
   "execution_count": 3,
   "id": "6387e7db",
   "metadata": {},
   "outputs": [],
   "source": [
    "learnsql = pd.read_csv('./data/learnsql_clean.csv') #3375 entries\n",
    "learnpy = pd.read_csv('./data/learnpython_clean.csv') #3396 entries"
   ]
  },
  {
   "cell_type": "markdown",
   "id": "7d0231d4-02cb-4bde-871f-abb486d8e083",
   "metadata": {},
   "source": [
    "<font color=white>.</font>"
   ]
  },
  {
   "cell_type": "markdown",
   "id": "0e9a8f99-26a0-42b3-abc1-e8db761188ea",
   "metadata": {
    "tags": []
   },
   "source": [
    "#### Append Datasets, create combined text column"
   ]
  },
  {
   "cell_type": "code",
   "execution_count": 4,
   "id": "0b6d7eaf-65f0-4edc-87ed-02fdd064d4c3",
   "metadata": {},
   "outputs": [],
   "source": [
    "learnboth = learnsql.append(learnpy)\n",
    "learnboth['combinedtext'] = learnboth['title'] + ' '  + learnboth['selftext']"
   ]
  },
  {
   "cell_type": "markdown",
   "id": "4edf7f4d-0ef2-4973-82b2-ee30e007d463",
   "metadata": {},
   "source": [
    "<font color=white>.</font>"
   ]
  },
  {
   "cell_type": "markdown",
   "id": "8f50f3d5-1bf3-4928-9691-9508db6b51b6",
   "metadata": {},
   "source": [
    "#### Text filters"
   ]
  },
  {
   "cell_type": "markdown",
   "id": "be4669de-a426-4224-b746-ed00069165bc",
   "metadata": {},
   "source": [
    "Filtered out numbers, and converted all text to lowercase"
   ]
  },
  {
   "cell_type": "code",
   "execution_count": 5,
   "id": "5e4f3189-a428-425e-942e-e6f3799090aa",
   "metadata": {},
   "outputs": [],
   "source": [
    "learnboth['combinedtext'] = learnboth['combinedtext'].str.lower().replace('\\d+', ' ', regex=True)#.replace('_', '')"
   ]
  },
  {
   "cell_type": "markdown",
   "id": "ab68b284-bdcc-43a7-9c70-ca096998b396",
   "metadata": {},
   "source": [
    "Next I used regex to filter out words, from a list of \"giveaway\" words that I thought would make the class too easy to predict. I went back and added this section, because my models performed a little too well on the first try."
   ]
  },
  {
   "cell_type": "code",
   "execution_count": 6,
   "id": "85f2242a-0316-47cf-a443-c039457e0052",
   "metadata": {},
   "outputs": [],
   "source": [
    "giveaways = ['mysql', 'sql', 'postgres', 'snowflake', 'oracle', 'python', 'anaconda', 'pip install', 'sklearn', 'pandas', 'numpy']\n",
    "regx = r'({})'.format('|'.join(giveaways))\n",
    "learnboth['combinedtext'] = learnboth['combinedtext'].str.replace(regx, \" \", regex=True).fillna(learnboth['combinedtext'])"
   ]
  },
  {
   "cell_type": "markdown",
   "id": "45be0fb8-be70-4f47-baa5-e4a668686e76",
   "metadata": {},
   "source": [
    "<font color=white>.</font>"
   ]
  },
  {
   "cell_type": "markdown",
   "id": "f4d29706-7f1e-42c4-897a-5ea7839f9fb6",
   "metadata": {},
   "source": [
    "#### Dummify target column"
   ]
  },
  {
   "cell_type": "code",
   "execution_count": 7,
   "id": "d9f7ee82-7d7d-4af6-9007-5e598acee853",
   "metadata": {},
   "outputs": [],
   "source": [
    "learnboth['subreddit'] = np.where(learnboth['subreddit']=='learnpython', 1, 0)"
   ]
  },
  {
   "cell_type": "code",
   "execution_count": 8,
   "id": "21f7f0d0-0378-482b-9337-8ab8a99f7a37",
   "metadata": {},
   "outputs": [
    {
     "data": {
      "text/html": [
       "<div>\n",
       "<style scoped>\n",
       "    .dataframe tbody tr th:only-of-type {\n",
       "        vertical-align: middle;\n",
       "    }\n",
       "\n",
       "    .dataframe tbody tr th {\n",
       "        vertical-align: top;\n",
       "    }\n",
       "\n",
       "    .dataframe thead th {\n",
       "        text-align: right;\n",
       "    }\n",
       "</style>\n",
       "<table border=\"1\" class=\"dataframe\">\n",
       "  <thead>\n",
       "    <tr style=\"text-align: right;\">\n",
       "      <th></th>\n",
       "      <th>Unnamed: 0</th>\n",
       "      <th>author</th>\n",
       "      <th>created_utc</th>\n",
       "      <th>id</th>\n",
       "      <th>num_comments</th>\n",
       "      <th>score</th>\n",
       "      <th>selftext</th>\n",
       "      <th>subreddit</th>\n",
       "      <th>title</th>\n",
       "      <th>upvote_ratio</th>\n",
       "      <th>url</th>\n",
       "      <th>combinedtext</th>\n",
       "    </tr>\n",
       "  </thead>\n",
       "  <tbody>\n",
       "    <tr>\n",
       "      <th>0</th>\n",
       "      <td>0</td>\n",
       "      <td>RedishPelican</td>\n",
       "      <td>1648853543</td>\n",
       "      <td>tu3xq6</td>\n",
       "      <td>0</td>\n",
       "      <td>1</td>\n",
       "      <td>MariaDB \\[sitename\\]&amp;gt; CREATE TABLE users(\\n...</td>\n",
       "      <td>0</td>\n",
       "      <td>MYSQL help, i am trying to create a password c...</td>\n",
       "      <td>1.0</td>\n",
       "      <td>https://www.reddit.com/r/learnSQL/comments/tu3...</td>\n",
       "      <td>help, i am trying to create a password colum...</td>\n",
       "    </tr>\n",
       "    <tr>\n",
       "      <th>1</th>\n",
       "      <td>1</td>\n",
       "      <td>FreyReddit</td>\n",
       "      <td>1648901466</td>\n",
       "      <td>tuhg74</td>\n",
       "      <td>0</td>\n",
       "      <td>1</td>\n",
       "      <td>How would I find a number of subjects currentl...</td>\n",
       "      <td>0</td>\n",
       "      <td>Test : MySQL</td>\n",
       "      <td>1.0</td>\n",
       "      <td>https://www.reddit.com/r/learnSQL/comments/tuh...</td>\n",
       "      <td>test :   how would i find a number of subjects...</td>\n",
       "    </tr>\n",
       "    <tr>\n",
       "      <th>2</th>\n",
       "      <td>2</td>\n",
       "      <td>PowerOfTheShell</td>\n",
       "      <td>1648959367</td>\n",
       "      <td>tv0on0</td>\n",
       "      <td>0</td>\n",
       "      <td>1</td>\n",
       "      <td>Hey guys,\\n\\nTrying to work out why my SQL que...</td>\n",
       "      <td>0</td>\n",
       "      <td>Query not showing NULL with Left Outer Join</td>\n",
       "      <td>1.0</td>\n",
       "      <td>https://www.reddit.com/r/learnSQL/comments/tv0...</td>\n",
       "      <td>query not showing null with left outer join he...</td>\n",
       "    </tr>\n",
       "  </tbody>\n",
       "</table>\n",
       "</div>"
      ],
      "text/plain": [
       "   Unnamed: 0           author  created_utc      id  num_comments  score  \\\n",
       "0           0    RedishPelican   1648853543  tu3xq6             0      1   \n",
       "1           1       FreyReddit   1648901466  tuhg74             0      1   \n",
       "2           2  PowerOfTheShell   1648959367  tv0on0             0      1   \n",
       "\n",
       "                                            selftext  subreddit  \\\n",
       "0  MariaDB \\[sitename\\]&gt; CREATE TABLE users(\\n...          0   \n",
       "1  How would I find a number of subjects currentl...          0   \n",
       "2  Hey guys,\\n\\nTrying to work out why my SQL que...          0   \n",
       "\n",
       "                                               title  upvote_ratio  \\\n",
       "0  MYSQL help, i am trying to create a password c...           1.0   \n",
       "1                                       Test : MySQL           1.0   \n",
       "2        Query not showing NULL with Left Outer Join           1.0   \n",
       "\n",
       "                                                 url  \\\n",
       "0  https://www.reddit.com/r/learnSQL/comments/tu3...   \n",
       "1  https://www.reddit.com/r/learnSQL/comments/tuh...   \n",
       "2  https://www.reddit.com/r/learnSQL/comments/tv0...   \n",
       "\n",
       "                                        combinedtext  \n",
       "0    help, i am trying to create a password colum...  \n",
       "1  test :   how would i find a number of subjects...  \n",
       "2  query not showing null with left outer join he...  "
      ]
     },
     "execution_count": 8,
     "metadata": {},
     "output_type": "execute_result"
    }
   ],
   "source": [
    "learnboth.head(3)"
   ]
  },
  {
   "cell_type": "markdown",
   "id": "97089dd9-8e64-4486-82e6-19683829d9b0",
   "metadata": {},
   "source": [
    "<font color=white>.</font>"
   ]
  },
  {
   "cell_type": "markdown",
   "id": "50763e57-38b2-45f2-8a2a-fdd6cb4fdf96",
   "metadata": {},
   "source": [
    "#### Lemmatize combined text"
   ]
  },
  {
   "cell_type": "markdown",
   "id": "3091cede-93ca-4d27-8623-5dfc21690379",
   "metadata": {},
   "source": [
    "I chose to use lemmatization instead of stemming due to how harsh stemming can be, especially since I'm using data that contains technology-specific words that might be stemmed out of context.\n",
    "\n",
    "I did notice that my lemmatizer didn't catch some tech-related words like \"filtering\".\n",
    "\n",
    "In the table below, you'll see the difference between the original title, and the lemmatized title with \"giveaway\" words removed."
   ]
  },
  {
   "cell_type": "code",
   "execution_count": 9,
   "id": "9688b347-ac81-4c1c-a8a9-c7ccbd073921",
   "metadata": {},
   "outputs": [],
   "source": [
    "# You can only run this cell once.\n",
    "\n",
    "tokenizer = WhitespaceTokenizer()\n",
    "wnl = WordNetLemmatizer()\n",
    "\n",
    "def lemmatize(text):\n",
    "    return ' '.join([wnl.lemmatize(i, pos='v') for i in tokenizer.tokenize(text)])\n",
    "\n",
    "learnboth['combinedtext'] = learnboth.combinedtext.apply(lambda x: lemmatize(x))"
   ]
  },
  {
   "cell_type": "code",
   "execution_count": 10,
   "id": "172b2cf0-fce5-4449-81ed-dbdd89296a78",
   "metadata": {},
   "outputs": [
    {
     "data": {
      "text/html": [
       "<div>\n",
       "<style scoped>\n",
       "    .dataframe tbody tr th:only-of-type {\n",
       "        vertical-align: middle;\n",
       "    }\n",
       "\n",
       "    .dataframe tbody tr th {\n",
       "        vertical-align: top;\n",
       "    }\n",
       "\n",
       "    .dataframe thead th {\n",
       "        text-align: right;\n",
       "    }\n",
       "</style>\n",
       "<table border=\"1\" class=\"dataframe\">\n",
       "  <thead>\n",
       "    <tr style=\"text-align: right;\">\n",
       "      <th></th>\n",
       "      <th>title</th>\n",
       "      <th>combinedtext</th>\n",
       "    </tr>\n",
       "  </thead>\n",
       "  <tbody>\n",
       "    <tr>\n",
       "      <th>0</th>\n",
       "      <td>MYSQL help, i am trying to create a password c...</td>\n",
       "      <td>help, i be try to create a password column in ...</td>\n",
       "    </tr>\n",
       "    <tr>\n",
       "      <th>1</th>\n",
       "      <td>Test : MySQL</td>\n",
       "      <td>test : how would i find a number of subject cu...</td>\n",
       "    </tr>\n",
       "    <tr>\n",
       "      <th>2</th>\n",
       "      <td>Query not showing NULL with Left Outer Join</td>\n",
       "      <td>query not show null with leave outer join hey ...</td>\n",
       "    </tr>\n",
       "    <tr>\n",
       "      <th>3</th>\n",
       "      <td>How do i make these columns into one</td>\n",
       "      <td>how do i make these columns into one when the ...</td>\n",
       "    </tr>\n",
       "    <tr>\n",
       "      <th>4</th>\n",
       "      <td>How do i display only the most recent order fo...</td>\n",
       "      <td>how do i display only the most recent order fo...</td>\n",
       "    </tr>\n",
       "    <tr>\n",
       "      <th>5</th>\n",
       "      <td>8 Best SQL Courses on Coursera</td>\n",
       "      <td>best course on coursera</td>\n",
       "    </tr>\n",
       "    <tr>\n",
       "      <th>6</th>\n",
       "      <td>Explain this query in a simpler form. I unders...</td>\n",
       "      <td>explain this query in a simpler form. i unders...</td>\n",
       "    </tr>\n",
       "    <tr>\n",
       "      <th>7</th>\n",
       "      <td>Can someone explain what this code is trying t...</td>\n",
       "      <td>can someone explain what this code be try to d...</td>\n",
       "    </tr>\n",
       "    <tr>\n",
       "      <th>8</th>\n",
       "      <td>Users cannot see tables in sql management studio</td>\n",
       "      <td>users cannot see table in management studio he...</td>\n",
       "    </tr>\n",
       "    <tr>\n",
       "      <th>9</th>\n",
       "      <td>Can someone explain what this SQL Query is try...</td>\n",
       "      <td>can someone explain what this query be try to ...</td>\n",
       "    </tr>\n",
       "  </tbody>\n",
       "</table>\n",
       "</div>"
      ],
      "text/plain": [
       "                                               title  \\\n",
       "0  MYSQL help, i am trying to create a password c...   \n",
       "1                                       Test : MySQL   \n",
       "2        Query not showing NULL with Left Outer Join   \n",
       "3               How do i make these columns into one   \n",
       "4  How do i display only the most recent order fo...   \n",
       "5                     8 Best SQL Courses on Coursera   \n",
       "6  Explain this query in a simpler form. I unders...   \n",
       "7  Can someone explain what this code is trying t...   \n",
       "8   Users cannot see tables in sql management studio   \n",
       "9  Can someone explain what this SQL Query is try...   \n",
       "\n",
       "                                        combinedtext  \n",
       "0  help, i be try to create a password column in ...  \n",
       "1  test : how would i find a number of subject cu...  \n",
       "2  query not show null with leave outer join hey ...  \n",
       "3  how do i make these columns into one when the ...  \n",
       "4  how do i display only the most recent order fo...  \n",
       "5                            best course on coursera  \n",
       "6  explain this query in a simpler form. i unders...  \n",
       "7  can someone explain what this code be try to d...  \n",
       "8  users cannot see table in management studio he...  \n",
       "9  can someone explain what this query be try to ...  "
      ]
     },
     "execution_count": 10,
     "metadata": {},
     "output_type": "execute_result"
    }
   ],
   "source": [
    "learnboth.loc[:, ['title','combinedtext']].head(10)"
   ]
  },
  {
   "cell_type": "code",
   "execution_count": 11,
   "id": "46550a6e-03bb-4bdd-9516-df6a81130ed4",
   "metadata": {},
   "outputs": [
    {
     "data": {
      "text/html": [
       "<div>\n",
       "<style scoped>\n",
       "    .dataframe tbody tr th:only-of-type {\n",
       "        vertical-align: middle;\n",
       "    }\n",
       "\n",
       "    .dataframe tbody tr th {\n",
       "        vertical-align: top;\n",
       "    }\n",
       "\n",
       "    .dataframe thead th {\n",
       "        text-align: right;\n",
       "    }\n",
       "</style>\n",
       "<table border=\"1\" class=\"dataframe\">\n",
       "  <thead>\n",
       "    <tr style=\"text-align: right;\">\n",
       "      <th></th>\n",
       "      <th>title</th>\n",
       "      <th>combinedtext</th>\n",
       "    </tr>\n",
       "  </thead>\n",
       "  <tbody>\n",
       "    <tr>\n",
       "      <th>3386</th>\n",
       "      <td>Amount of string to be printed</td>\n",
       "      <td>amount of string to be print i can get the amo...</td>\n",
       "    </tr>\n",
       "    <tr>\n",
       "      <th>3387</th>\n",
       "      <td>Unexpected behavior</td>\n",
       "      <td>unexpected behavior i'm make my way through \" ...</td>\n",
       "    </tr>\n",
       "    <tr>\n",
       "      <th>3388</th>\n",
       "      <td>Why does Spyder keep changing my working direc...</td>\n",
       "      <td>why do spyder keep change my work directory? i...</td>\n",
       "    </tr>\n",
       "    <tr>\n",
       "      <th>3389</th>\n",
       "      <td>How do I access Label Matrix</td>\n",
       "      <td>how do i access label matrix hi, so i have thi...</td>\n",
       "    </tr>\n",
       "    <tr>\n",
       "      <th>3390</th>\n",
       "      <td>Help with statistics in Pandas</td>\n",
       "      <td>help with statistics in pandas hi! i have a da...</td>\n",
       "    </tr>\n",
       "    <tr>\n",
       "      <th>3391</th>\n",
       "      <td>What is the best way for a beginner to learn P...</td>\n",
       "      <td>what be the best way for a beginner to learn ?...</td>\n",
       "    </tr>\n",
       "    <tr>\n",
       "      <th>3392</th>\n",
       "      <td>What is command of clearing output in idle pyt...</td>\n",
       "      <td>what be command of clear output in idle shell?...</td>\n",
       "    </tr>\n",
       "    <tr>\n",
       "      <th>3393</th>\n",
       "      <td>Is it possible to achieve this specific, semi-...</td>\n",
       "      <td>be it possible to achieve this specific, semi-...</td>\n",
       "    </tr>\n",
       "    <tr>\n",
       "      <th>3394</th>\n",
       "      <td>How can I use multiple cores to run a big array?</td>\n",
       "      <td>how can i use multiple core to run a big array...</td>\n",
       "    </tr>\n",
       "    <tr>\n",
       "      <th>3395</th>\n",
       "      <td>Don't get it - Value is unsubscriptable pylint...</td>\n",
       "      <td>don't get it - value be unsubscriptable pylint...</td>\n",
       "    </tr>\n",
       "  </tbody>\n",
       "</table>\n",
       "</div>"
      ],
      "text/plain": [
       "                                                  title  \\\n",
       "3386                     Amount of string to be printed   \n",
       "3387                                Unexpected behavior   \n",
       "3388  Why does Spyder keep changing my working direc...   \n",
       "3389                       How do I access Label Matrix   \n",
       "3390                     Help with statistics in Pandas   \n",
       "3391  What is the best way for a beginner to learn P...   \n",
       "3392  What is command of clearing output in idle pyt...   \n",
       "3393  Is it possible to achieve this specific, semi-...   \n",
       "3394   How can I use multiple cores to run a big array?   \n",
       "3395  Don't get it - Value is unsubscriptable pylint...   \n",
       "\n",
       "                                           combinedtext  \n",
       "3386  amount of string to be print i can get the amo...  \n",
       "3387  unexpected behavior i'm make my way through \" ...  \n",
       "3388  why do spyder keep change my work directory? i...  \n",
       "3389  how do i access label matrix hi, so i have thi...  \n",
       "3390  help with statistics in pandas hi! i have a da...  \n",
       "3391  what be the best way for a beginner to learn ?...  \n",
       "3392  what be command of clear output in idle shell?...  \n",
       "3393  be it possible to achieve this specific, semi-...  \n",
       "3394  how can i use multiple core to run a big array...  \n",
       "3395  don't get it - value be unsubscriptable pylint...  "
      ]
     },
     "execution_count": 11,
     "metadata": {},
     "output_type": "execute_result"
    }
   ],
   "source": [
    "learnboth.loc[:, ['title','combinedtext']].tail(10)"
   ]
  },
  {
   "cell_type": "markdown",
   "id": "85ff40c2-7158-45b5-b241-867b2555da53",
   "metadata": {},
   "source": [
    "<font color=white>.</font>"
   ]
  },
  {
   "cell_type": "markdown",
   "id": "5f8204e7-ded4-4977-bdd2-d638b2cd039f",
   "metadata": {
    "tags": []
   },
   "source": [
    "#### Train test split"
   ]
  },
  {
   "cell_type": "code",
   "execution_count": 17,
   "id": "9527c9b5-23b5-427a-b408-c18bb29f7dca",
   "metadata": {},
   "outputs": [],
   "source": [
    "X = learnboth['combinedtext']\n",
    "y = learnboth['subreddit']"
   ]
  },
  {
   "cell_type": "code",
   "execution_count": 18,
   "id": "f47eed16-57e3-4e50-8853-49d25d3a8ccd",
   "metadata": {},
   "outputs": [],
   "source": [
    "X_train, X_test, y_train, y_test = train_test_split(X, y, stratify=y, random_state=404)"
   ]
  },
  {
   "cell_type": "markdown",
   "id": "1fb0cc09-9dd9-4161-9ffc-0911e2fb1666",
   "metadata": {},
   "source": [
    "<font color=white>.</font>"
   ]
  },
  {
   "cell_type": "markdown",
   "id": "5300aadd-7031-461a-bbf7-02b05a6028bc",
   "metadata": {},
   "source": [
    "### Vectorizing Text"
   ]
  },
  {
   "cell_type": "markdown",
   "id": "9def1121-a44f-4b5c-9185-2db70c3282ab",
   "metadata": {
    "tags": []
   },
   "source": [
    "#### *CountVectorizer*"
   ]
  },
  {
   "cell_type": "code",
   "execution_count": 19,
   "id": "a7095a01-774a-46d2-8226-0accf6e735a7",
   "metadata": {},
   "outputs": [],
   "source": [
    "cv = CountVectorizer(stop_words='english')\n",
    "cv.fit(X_train)\n",
    "X_train_cv = cv.transform(X_train)\n",
    "X_test_cv = cv.transform(X_test)"
   ]
  },
  {
   "cell_type": "code",
   "execution_count": 20,
   "id": "18d3f689-1f7f-4eb1-8745-e369bf7302b0",
   "metadata": {},
   "outputs": [],
   "source": [
    "X_train_cv=pd.DataFrame(X_train_cv.A, columns=cv.get_feature_names_out())\n",
    "X_test_cv=pd.DataFrame(X_test_cv.A, columns=cv.get_feature_names_out())"
   ]
  },
  {
   "cell_type": "markdown",
   "id": "53755f16-6107-429b-9c7a-7a48326a3a8c",
   "metadata": {
    "tags": []
   },
   "source": [
    "<img src='./images/cv_words.png'>"
   ]
  },
  {
   "cell_type": "code",
   "execution_count": 21,
   "id": "013211b1-46fe-4f95-8096-9d6dacb430de",
   "metadata": {},
   "outputs": [
    {
     "data": {
      "text/html": [
       "<div>\n",
       "<style scoped>\n",
       "    .dataframe tbody tr th:only-of-type {\n",
       "        vertical-align: middle;\n",
       "    }\n",
       "\n",
       "    .dataframe tbody tr th {\n",
       "        vertical-align: top;\n",
       "    }\n",
       "\n",
       "    .dataframe thead th {\n",
       "        text-align: right;\n",
       "    }\n",
       "</style>\n",
       "<table border=\"1\" class=\"dataframe\">\n",
       "  <thead>\n",
       "    <tr style=\"text-align: right;\">\n",
       "      <th></th>\n",
       "      <th>word</th>\n",
       "      <th>freq</th>\n",
       "    </tr>\n",
       "  </thead>\n",
       "  <tbody>\n",
       "    <tr>\n",
       "      <th>1</th>\n",
       "      <td>table</td>\n",
       "      <td>987</td>\n",
       "    </tr>\n",
       "    <tr>\n",
       "      <th>2</th>\n",
       "      <td>use</td>\n",
       "      <td>964</td>\n",
       "    </tr>\n",
       "    <tr>\n",
       "      <th>3</th>\n",
       "      <td>self</td>\n",
       "      <td>882</td>\n",
       "    </tr>\n",
       "    <tr>\n",
       "      <th>4</th>\n",
       "      <td>data</td>\n",
       "      <td>787</td>\n",
       "    </tr>\n",
       "    <tr>\n",
       "      <th>5</th>\n",
       "      <td>https</td>\n",
       "      <td>703</td>\n",
       "    </tr>\n",
       "    <tr>\n",
       "      <th>...</th>\n",
       "      <td>...</td>\n",
       "      <td>...</td>\n",
       "    </tr>\n",
       "    <tr>\n",
       "      <th>22177</th>\n",
       "      <td>getcereal</td>\n",
       "      <td>0</td>\n",
       "    </tr>\n",
       "    <tr>\n",
       "      <th>22178</th>\n",
       "      <td>getcenter</td>\n",
       "      <td>0</td>\n",
       "    </tr>\n",
       "    <tr>\n",
       "      <th>22179</th>\n",
       "      <td>getcensus</td>\n",
       "      <td>0</td>\n",
       "    </tr>\n",
       "    <tr>\n",
       "      <th>22180</th>\n",
       "      <td>getcanvas</td>\n",
       "      <td>0</td>\n",
       "    </tr>\n",
       "    <tr>\n",
       "      <th>22181</th>\n",
       "      <td>丹书匚刀巳下呂廾工丿片乚爪冂口尸q尺丂丁凵v山乂y乙</td>\n",
       "      <td>0</td>\n",
       "    </tr>\n",
       "  </tbody>\n",
       "</table>\n",
       "<p>22181 rows × 2 columns</p>\n",
       "</div>"
      ],
      "text/plain": [
       "                             word  freq\n",
       "1                           table   987\n",
       "2                             use   964\n",
       "3                            self   882\n",
       "4                            data   787\n",
       "5                           https   703\n",
       "...                           ...   ...\n",
       "22177                   getcereal     0\n",
       "22178                   getcenter     0\n",
       "22179                   getcensus     0\n",
       "22180                   getcanvas     0\n",
       "22181  丹书匚刀巳下呂廾工丿片乚爪冂口尸q尺丂丁凵v山乂y乙     0\n",
       "\n",
       "[22181 rows x 2 columns]"
      ]
     },
     "execution_count": 21,
     "metadata": {},
     "output_type": "execute_result"
    }
   ],
   "source": [
    "dcv = pd.DataFrame(X_test_cv.sum().sort_values(ascending=False)).reset_index().iloc[1:, :]\n",
    "dcv.columns=['word', 'freq']\n",
    "dcv"
   ]
  },
  {
   "cell_type": "code",
   "execution_count": 22,
   "id": "bf196499-3e74-401b-b135-8fbe599a66ac",
   "metadata": {},
   "outputs": [
    {
     "name": "stdout",
     "output_type": "stream",
     "text": [
      "<class 'pandas.core.frame.DataFrame'>\n",
      "RangeIndex: 5078 entries, 0 to 5077\n",
      "Columns: 22182 entries, __ to 丹书匚刀巳下呂廾工丿片乚爪冂口尸q尺丂丁凵v山乂y乙\n",
      "dtypes: int64(22182)\n",
      "memory usage: 859.4 MB\n"
     ]
    }
   ],
   "source": [
    "X_train_cv.info()"
   ]
  },
  {
   "cell_type": "markdown",
   "id": "60815d89-f188-452f-b8db-11274652d978",
   "metadata": {},
   "source": [
    "<font color=white>.</font>"
   ]
  },
  {
   "cell_type": "markdown",
   "id": "2884facb-4006-4752-97ef-ef686b9a7f68",
   "metadata": {},
   "source": [
    "Bonus content: index from a previous version of this countvectorizer that failed to remove special characters"
   ]
  },
  {
   "cell_type": "markdown",
   "id": "2cb7b0dd-8f13-43c2-801f-d88355c07930",
   "metadata": {},
   "source": [
    "<img src='./images/ಠ_ಠindex.png'>"
   ]
  },
  {
   "cell_type": "markdown",
   "id": "a77bfecc-a158-46f4-a19b-fd50a3b3e5b5",
   "metadata": {},
   "source": [
    "<font color=white>.</font>"
   ]
  },
  {
   "cell_type": "markdown",
   "id": "e8ed2b48-6482-4a7d-84bd-f39e4e638440",
   "metadata": {},
   "source": [
    "#### *TfidfVectorizer*"
   ]
  },
  {
   "cell_type": "markdown",
   "id": "ab38b18d-8923-43b1-9098-3b7ee06be525",
   "metadata": {},
   "source": [
    "The countvectorizer worked well, and my models actually performed fine with it. However I decided to try TfdifVectorizer as well to see which performed better.\n",
    "\n",
    "TfidfVectorizer operates on the logic that words that are too common in a corpus (entire collection of text) are not helpful for determining patterns, and neither are words that appear too infrequently in a corpus. I set the minimum documents parameter to 2, filtering out words that only appear in a single document, and added a token pattern to remove special characters."
   ]
  },
  {
   "cell_type": "code",
   "execution_count": 23,
   "id": "8b4513d5-2321-498b-889f-ab25e3ffb3b0",
   "metadata": {},
   "outputs": [],
   "source": [
    "tf = TfidfVectorizer(stop_words='english', min_df=2, max_df=100, max_features=100_000, ngram_range=(1, 1), token_pattern=r'(?u)\\b[a-zA-Z0-9][a-zA-Z0-9]+\\b' )\n",
    "tf.fit(X_train)\n",
    "X_train_tf = tf.transform(X_train)\n",
    "X_test_tf = tf.transform(X_test)"
   ]
  },
  {
   "cell_type": "code",
   "execution_count": 24,
   "id": "370940b5-dae8-474d-a0bb-1972b51c044e",
   "metadata": {},
   "outputs": [],
   "source": [
    "X_train_tf=pd.DataFrame(X_train_tf.A, columns=tf.get_feature_names_out())\n",
    "X_test_tf=pd.DataFrame(X_test_tf.A, columns=tf.get_feature_names_out())"
   ]
  },
  {
   "cell_type": "markdown",
   "id": "cbd94d43-98ef-4599-9f07-4a68abd51ed8",
   "metadata": {
    "tags": []
   },
   "source": [
    "<img src='./images/tf_words.png'>"
   ]
  },
  {
   "cell_type": "code",
   "execution_count": 25,
   "id": "3e7edf7a-cfe9-4712-b195-eda553504933",
   "metadata": {},
   "outputs": [
    {
     "data": {
      "text/html": [
       "<div>\n",
       "<style scoped>\n",
       "    .dataframe tbody tr th:only-of-type {\n",
       "        vertical-align: middle;\n",
       "    }\n",
       "\n",
       "    .dataframe tbody tr th {\n",
       "        vertical-align: top;\n",
       "    }\n",
       "\n",
       "    .dataframe thead th {\n",
       "        text-align: right;\n",
       "    }\n",
       "</style>\n",
       "<table border=\"1\" class=\"dataframe\">\n",
       "  <thead>\n",
       "    <tr style=\"text-align: right;\">\n",
       "      <th></th>\n",
       "      <th>word</th>\n",
       "      <th>freq</th>\n",
       "    </tr>\n",
       "  </thead>\n",
       "  <tbody>\n",
       "    <tr>\n",
       "      <th>1</th>\n",
       "      <td>prep</td>\n",
       "      <td>13.000000</td>\n",
       "    </tr>\n",
       "    <tr>\n",
       "      <th>2</th>\n",
       "      <td>array</td>\n",
       "      <td>12.232515</td>\n",
       "    </tr>\n",
       "    <tr>\n",
       "      <th>3</th>\n",
       "      <td>varchar</td>\n",
       "      <td>10.623317</td>\n",
       "    </tr>\n",
       "    <tr>\n",
       "      <th>4</th>\n",
       "      <td>api</td>\n",
       "      <td>10.137725</td>\n",
       "    </tr>\n",
       "    <tr>\n",
       "      <th>5</th>\n",
       "      <td>dictionary</td>\n",
       "      <td>9.602918</td>\n",
       "    </tr>\n",
       "    <tr>\n",
       "      <th>...</th>\n",
       "      <td>...</td>\n",
       "      <td>...</td>\n",
       "    </tr>\n",
       "    <tr>\n",
       "      <th>6832</th>\n",
       "      <td>descriptions</td>\n",
       "      <td>0.000000</td>\n",
       "    </tr>\n",
       "    <tr>\n",
       "      <th>6833</th>\n",
       "      <td>modal</td>\n",
       "      <td>0.000000</td>\n",
       "    </tr>\n",
       "    <tr>\n",
       "      <th>6834</th>\n",
       "      <td>fives</td>\n",
       "      <td>0.000000</td>\n",
       "    </tr>\n",
       "    <tr>\n",
       "      <th>6835</th>\n",
       "      <td>insanely</td>\n",
       "      <td>0.000000</td>\n",
       "    </tr>\n",
       "    <tr>\n",
       "      <th>6836</th>\n",
       "      <td>nm</td>\n",
       "      <td>0.000000</td>\n",
       "    </tr>\n",
       "  </tbody>\n",
       "</table>\n",
       "<p>6836 rows × 2 columns</p>\n",
       "</div>"
      ],
      "text/plain": [
       "              word       freq\n",
       "1             prep  13.000000\n",
       "2            array  12.232515\n",
       "3          varchar  10.623317\n",
       "4              api  10.137725\n",
       "5       dictionary   9.602918\n",
       "...            ...        ...\n",
       "6832  descriptions   0.000000\n",
       "6833         modal   0.000000\n",
       "6834         fives   0.000000\n",
       "6835      insanely   0.000000\n",
       "6836            nm   0.000000\n",
       "\n",
       "[6836 rows x 2 columns]"
      ]
     },
     "execution_count": 25,
     "metadata": {},
     "output_type": "execute_result"
    }
   ],
   "source": [
    "dtf = pd.DataFrame(X_test_tf.sum().sort_values(ascending=False)).reset_index().iloc[1:, :]\n",
    "dtf.columns=['word', 'freq']\n",
    "dtf"
   ]
  },
  {
   "cell_type": "code",
   "execution_count": 26,
   "id": "4b02617d-379f-4466-979e-e60fab54aea4",
   "metadata": {},
   "outputs": [
    {
     "name": "stdout",
     "output_type": "stream",
     "text": [
      "<class 'pandas.core.frame.DataFrame'>\n",
      "RangeIndex: 5078 entries, 0 to 5077\n",
      "Columns: 6837 entries, aa to zzz\n",
      "dtypes: float64(6837)\n",
      "memory usage: 264.9 MB\n"
     ]
    }
   ],
   "source": [
    "X_train_tf.info()"
   ]
  },
  {
   "cell_type": "code",
   "execution_count": 27,
   "id": "72fa9303-4232-494f-900d-c30a58e6a93c",
   "metadata": {},
   "outputs": [],
   "source": [
    "tfvocab = tf.get_feature_names_out()\n",
    "cvvocab = cv.get_feature_names_out()"
   ]
  },
  {
   "cell_type": "markdown",
   "id": "f570c0e9-270e-4eda-97d9-2e594df8a7e7",
   "metadata": {},
   "source": [
    "<font color=white>.</font>"
   ]
  },
  {
   "cell_type": "markdown",
   "id": "e6e3bc66-7516-4dbd-aeeb-ab09d0bd981f",
   "metadata": {},
   "source": [
    "## Modeling"
   ]
  },
  {
   "cell_type": "markdown",
   "id": "c8d32050-348b-43c4-bf50-d61f18e86e46",
   "metadata": {},
   "source": [
    "For all the models I tried, I used accuracy as a metric to compare, as I care more about the overall percentage of posts I classify correctly (as opposed to being concerned about minimizing either false positives or false negatives in particular.)"
   ]
  },
  {
   "cell_type": "markdown",
   "id": "4e52eef2-775a-4802-9376-538af9fff65b",
   "metadata": {},
   "source": [
    "#### Baseline model"
   ]
  },
  {
   "cell_type": "markdown",
   "id": "09b4725d-191f-4c6a-a6a8-18a56fc025a9",
   "metadata": {},
   "source": [
    "My baseline model should predict correctly about 50% of the time. \n",
    "\n",
    "The first time I tried modeling, the data was slightly imbalanced, so I went back and pulled from the API differently in order to balance classes."
   ]
  },
  {
   "cell_type": "code",
   "execution_count": 28,
   "id": "fb869ad3-5446-45c7-ae66-6d1e831eefad",
   "metadata": {},
   "outputs": [
    {
     "data": {
      "text/plain": [
       "1    0.501477\n",
       "0    0.498523\n",
       "Name: subreddit, dtype: float64"
      ]
     },
     "execution_count": 28,
     "metadata": {},
     "output_type": "execute_result"
    }
   ],
   "source": [
    "y_test.value_counts(normalize=True)"
   ]
  },
  {
   "cell_type": "markdown",
   "id": "5707438e-4e56-42ae-b872-1b8a02c1eac0",
   "metadata": {},
   "source": [
    "Making a baseline model that predicts 1 (subreddit=learnpython) every time."
   ]
  },
  {
   "cell_type": "code",
   "execution_count": 29,
   "id": "d8df464d-d581-4081-bb3b-6856f5209f10",
   "metadata": {},
   "outputs": [],
   "source": [
    "from sklearn.dummy import DummyRegressor\n",
    "\n",
    "baseline = DummyRegressor(strategy='constant', constant=1)\n",
    "baseline.fit(X_train, y_train)\n",
    "y_pred = baseline.predict(X_test)"
   ]
  },
  {
   "cell_type": "code",
   "execution_count": 30,
   "id": "12532145-e7bc-44ec-871a-0e2dd0ab86d9",
   "metadata": {},
   "outputs": [
    {
     "data": {
      "text/plain": [
       "0.5014766686355582"
      ]
     },
     "execution_count": 30,
     "metadata": {},
     "output_type": "execute_result"
    }
   ],
   "source": [
    "accuracy_score(y_test, y_pred)"
   ]
  },
  {
   "cell_type": "code",
   "execution_count": 31,
   "id": "b0405ce4-8aee-482f-8465-b2183e3fb484",
   "metadata": {},
   "outputs": [
    {
     "data": {
      "text/plain": [
       "0.5"
      ]
     },
     "execution_count": 31,
     "metadata": {},
     "output_type": "execute_result"
    }
   ],
   "source": [
    "balanced_accuracy_score(y_test, y_pred)"
   ]
  },
  {
   "cell_type": "markdown",
   "id": "e8f9edef-1e97-4542-a2a6-19497e602b10",
   "metadata": {},
   "source": [
    "<font color=white>.</font>"
   ]
  },
  {
   "cell_type": "markdown",
   "id": "67fe5dce-2f1a-4cb0-a53a-f8d7cdc9838c",
   "metadata": {},
   "source": [
    "#### ***Logistic Regression***"
   ]
  },
  {
   "cell_type": "markdown",
   "id": "f5c02e8e-5a5e-4caa-b6aa-cbb8b1b64fcb",
   "metadata": {},
   "source": [
    "The first model I tried was a simple logistic regression with no normalization. \n",
    "\n",
    "Logistic regression has a few limitations, some of which my data don't meet. However, despite this, my basic logistic regression performed fairly well.\n",
    "* It assumes little or no multicollinearity between independent variables, which is likely not true for this dataset. (High multicollinearity can make a logistic regression model difficult to interpret.)\n",
    "* It assumes that the independent variables are linearly related to the log odds.\n",
    "* Results can get out of pocket if you don't scale your data. Since the scale of my data is consistent across all countvectorized text, it wasn't necessary to scale the data in this case.\n",
    "* It requires a large sample size. Number of features should not exceed rows of data. \n",
    "\n"
   ]
  },
  {
   "cell_type": "code",
   "execution_count": 528,
   "id": "43d31edf-c2aa-49af-8e7d-8ba32c43c9d3",
   "metadata": {},
   "outputs": [
    {
     "name": "stdout",
     "output_type": "stream",
     "text": [
      "number of features from CountVectorizer: 22182\n",
      "number of features from TfdifVectorizer: 6837\n",
      "Number of rows in training set: 5078\n",
      "Number of rows in test set: 1693\n",
      "Total number of rows: 6771\n"
     ]
    }
   ],
   "source": [
    "# Seeing if number of features exceed rows of data: they do.\n",
    "\n",
    "print('number of features from CountVectorizer:', len(cvvocab))\n",
    "print('number of features from TfdifVectorizer:', len(tfvocab))\n",
    "print('Number of rows in training set:', len(X_train))\n",
    "print('Number of rows in test set:', len(X_test))\n",
    "print('Total number of rows:', len(X))"
   ]
  },
  {
   "cell_type": "code",
   "execution_count": 36,
   "id": "8adb96af-4701-459c-bb5b-cded13b7872b",
   "metadata": {},
   "outputs": [],
   "source": [
    "from sklearn.linear_model import LogisticRegression"
   ]
  },
  {
   "cell_type": "code",
   "execution_count": 530,
   "id": "aec981ee-cdfa-4def-b7c0-1139bbe14367",
   "metadata": {},
   "outputs": [
    {
     "data": {
      "text/plain": [
       "(0.9875935407640803, 0.9049025398700532)"
      ]
     },
     "execution_count": 530,
     "metadata": {},
     "output_type": "execute_result"
    }
   ],
   "source": [
    "# instantiate and fit\n",
    "lr=LogisticRegression(max_iter=1000, penalty='l2', C=0.5)\n",
    "lr.fit(X_train_cv, y_train)\n",
    "\n",
    "# predicting test set results\n",
    "lr_pred = lr.predict(X_test_cv)\n",
    "\n",
    "# calculating accuracy score\n",
    "lr.score(X_train_cv, y_train), lr.score(X_test_cv, y_test)"
   ]
  },
  {
   "cell_type": "code",
   "execution_count": 531,
   "id": "60a061db-243f-49ba-862d-772aa861e58b",
   "metadata": {},
   "outputs": [
    {
     "data": {
      "text/plain": [
       "0.9095238095238095"
      ]
     },
     "execution_count": 531,
     "metadata": {},
     "output_type": "execute_result"
    }
   ],
   "source": [
    "# calculating precision score\n",
    "precision_score(y_test, lr_pred)"
   ]
  },
  {
   "cell_type": "markdown",
   "id": "23ca3357-ef28-456b-945a-de6e079e4de3",
   "metadata": {},
   "source": [
    "<u>With CountVectorizer</u>: The logistic regression performed well on the first try (99% accuracy in classifying the training set, 95% accuracy in classifying the test set, with no regularization.) Adding L1 or L2 regularization hurt the model's performance.\n",
    "\n",
    "After removing \"giveaway\" words, the accuracy of LogReg with CountVectorizer on the test set fell to 89%. Adding L2 regularization (C=0.5) improved the test score to 90.5%.\n",
    "\n",
    "\n",
    "<u>With TfidfVectorizer</u>: My logistic regression actually performed slightly worse with TfidfVectorizer: 94% accuracy on the training set, 91% accuracy on the testing set. These results did not improve when changing token pattern, decreasing min_df, increasing max_features, adding bigrams, or adding a penalty to the logistic regression.\n",
    "\n",
    "After removing \"giveaway\" words, the accuracy of LogReg with TfidfVectorizer fell to 94% for the training set, and 85% for the test set. Adding regularization did not improve the scores for the test set."
   ]
  },
  {
   "cell_type": "markdown",
   "id": "076664b4-7544-461a-b201-c56052174f13",
   "metadata": {},
   "source": [
    "<font color=white>.</font>"
   ]
  },
  {
   "cell_type": "markdown",
   "id": "e3efb408-78e9-49e1-8b8a-c34efab0ebae",
   "metadata": {
    "tags": []
   },
   "source": [
    "#### ***KNN***"
   ]
  },
  {
   "cell_type": "markdown",
   "id": "ec260733-01a3-436b-90b4-1cc8ca145700",
   "metadata": {},
   "source": [
    "Moving forward with the rest of my models, I kept the \"giveaway\" words out of the data."
   ]
  },
  {
   "cell_type": "code",
   "execution_count": 292,
   "id": "f8f33b68-c16a-4aeb-90d6-637f429e8ee1",
   "metadata": {},
   "outputs": [],
   "source": [
    "from sklearn.neighbors import KNeighborsClassifier"
   ]
  },
  {
   "cell_type": "code",
   "execution_count": 485,
   "id": "0f861a5e-863f-4762-a6bf-8de0a1d0c84b",
   "metadata": {},
   "outputs": [
    {
     "data": {
      "text/plain": [
       "(0.6169751870815282, 0.5481393975191967)"
      ]
     },
     "execution_count": 485,
     "metadata": {},
     "output_type": "execute_result"
    }
   ],
   "source": [
    "# instantiate and fit\n",
    "kn = KNeighborsClassifier(n_neighbors=2)\n",
    "kn.fit(X_train_tf, y_train)\n",
    "\n",
    "# predicting test set results\n",
    "kn_pred = kn.predict(X_test_tf)\n",
    "\n",
    "# calculating accuracy score\n",
    "kn.score(X_train_tf, y_train), kn.score(X_test_tf, y_test)"
   ]
  },
  {
   "cell_type": "code",
   "execution_count": 486,
   "id": "9345d2ea-d027-42db-b146-b7bb92ad0ae2",
   "metadata": {},
   "outputs": [
    {
     "data": {
      "text/plain": [
       "0.8559322033898306"
      ]
     },
     "execution_count": 486,
     "metadata": {},
     "output_type": "execute_result"
    }
   ],
   "source": [
    "# calculating precision score\n",
    "precision_score(y_test, kn_pred)"
   ]
  },
  {
   "cell_type": "markdown",
   "id": "958875c7-d2ec-43de-b407-1d5fe525e640",
   "metadata": {},
   "source": [
    "With CountVectorizer: KNN performed worse than my logistic regression, with an accuracy score of 78% for the training set and 71% for the testing set.\n",
    "\n",
    "With TfidfVectorizer: These results were worse, with training set scoring 61% accuracy and testing set scoring 54% accuracy. This model barely performed better than the baseline model. Changing hyperparameters did not improve results by much."
   ]
  },
  {
   "cell_type": "markdown",
   "id": "17abfb80-d46f-4ff9-bbdd-4a327a08ed66",
   "metadata": {},
   "source": [
    "<font color=white>.</font>"
   ]
  },
  {
   "cell_type": "markdown",
   "id": "1688a242-b5b5-4590-83b2-2f3c2791bcc8",
   "metadata": {},
   "source": [
    "#### ***Random Forest***"
   ]
  },
  {
   "cell_type": "markdown",
   "id": "9c226ac9-c898-4585-813f-04a56b490dfa",
   "metadata": {},
   "source": [
    "Random forests work by taking many samples with replacement from the original data (bagging), fitting a decision tree on each sample and creating a model, and combining the predictions (ensembling). \n",
    "\n",
    "In order to avoid high correlation between models themselves, decision trees select a random subset of features at each split, instead of the \"best\" features."
   ]
  },
  {
   "cell_type": "code",
   "execution_count": 37,
   "id": "26fe7d3c-ad69-486f-ad80-5cbb22ad9430",
   "metadata": {},
   "outputs": [],
   "source": [
    "from sklearn.ensemble import RandomForestClassifier"
   ]
  },
  {
   "cell_type": "code",
   "execution_count": 487,
   "id": "116c5f60-aea7-4fdd-abff-02430540e33e",
   "metadata": {},
   "outputs": [
    {
     "data": {
      "text/plain": [
       "(0.999409216226861, 0.9155345540460721)"
      ]
     },
     "execution_count": 487,
     "metadata": {},
     "output_type": "execute_result"
    }
   ],
   "source": [
    "# instantiate and fit\n",
    "rf=RandomForestClassifier(n_estimators=100, random_state=404)\n",
    "rf.fit(X_train_cv, y_train)\n",
    "\n",
    "# predicting test set results\n",
    "rf_pred = rf.predict(X_test_cv)\n",
    "\n",
    "# calculating accuracy score\n",
    "rf.score(X_train_cv, y_train), rf.score(X_test_cv, y_test)"
   ]
  },
  {
   "cell_type": "code",
   "execution_count": 488,
   "id": "a0d0e4d0-3c65-46bf-9187-92f2cac45260",
   "metadata": {},
   "outputs": [
    {
     "data": {
      "text/plain": [
       "0.9152941176470588"
      ]
     },
     "execution_count": 488,
     "metadata": {},
     "output_type": "execute_result"
    }
   ],
   "source": [
    "# calculating precision score\n",
    "precision_score(y_test, rf_pred)"
   ]
  },
  {
   "cell_type": "markdown",
   "id": "c4d4a78f-4118-4002-b0f9-51d39c164e3e",
   "metadata": {},
   "source": [
    "With CountVectorizer: Random forest classified the training set almost perfectly, with an accuracy score of 99%. On the testing set, it scored slightly better than logistic regression, with an accuracy score of 91%.\n",
    "\n",
    "With TfidfVectorizer: Random forest classified the training set with an accuracy of 99%, and the test set with an accuracy of 82%."
   ]
  },
  {
   "cell_type": "markdown",
   "id": "140824c7-521b-46e3-9db3-66d0807cff74",
   "metadata": {},
   "source": [
    "<font color=white>.</font>"
   ]
  },
  {
   "cell_type": "markdown",
   "id": "ec55c25e-f4df-477a-bd0f-c10ad92a4873",
   "metadata": {},
   "source": [
    "#### ***Naive Bayes***"
   ]
  },
  {
   "cell_type": "markdown",
   "id": "36cea329-51f6-4cc1-a444-914fa6d6d266",
   "metadata": {},
   "source": [
    "Naive Bayes is based on the bayes principle, which is used to determine the probability of an outcome given the known probability of a related outcome. \n",
    "Bayes principle: **P(A|B) = P(A) * P(B|A)/P(B)**\n",
    "\n",
    "When used for modeling, naive bayes predicts the probability of belonging to class A, when predictor B has already been provided. It's called \"naive\" because it makes an assumption that the independent variables are independent of each other."
   ]
  },
  {
   "cell_type": "code",
   "execution_count": 35,
   "id": "1ae8cf9f-6cc6-4e33-a238-2f6bc16ff501",
   "metadata": {},
   "outputs": [],
   "source": [
    "from sklearn.naive_bayes import MultinomialNB"
   ]
  },
  {
   "cell_type": "code",
   "execution_count": 574,
   "id": "8d9d2537-826b-4d71-97ae-280cb617f08d",
   "metadata": {},
   "outputs": [
    {
     "data": {
      "text/plain": [
       "(0.9385584875935408, 0.9043118724158299)"
      ]
     },
     "execution_count": 574,
     "metadata": {},
     "output_type": "execute_result"
    }
   ],
   "source": [
    "mnb = MultinomialNB(alpha=1)\n",
    "mnb.fit(X_train_cv, y_train)\n",
    " \n",
    "# predicting test set results\n",
    "mnb_pred = mnb.predict(X_test_cv)\n",
    " \n",
    "# calculating accuracy score\n",
    "mnb.score(X_train_cv, y_train), mnb.score(X_test_cv, y_test)"
   ]
  },
  {
   "cell_type": "code",
   "execution_count": 575,
   "id": "ed251db0-be39-4c56-8417-40a658517bd8",
   "metadata": {},
   "outputs": [
    {
     "data": {
      "text/plain": [
       "0.9304347826086956"
      ]
     },
     "execution_count": 575,
     "metadata": {},
     "output_type": "execute_result"
    }
   ],
   "source": [
    "# calculating precision score\n",
    "precision_score(y_test,gnb_pred)"
   ]
  },
  {
   "cell_type": "markdown",
   "id": "b9f0051d-ea9e-49f4-a9a4-9d58c2beb167",
   "metadata": {},
   "source": [
    "My naive bayes did fairly well, scoring 93% accuracy on the training set, vs 90% accuracy on the testing set. This is better than the logistic regression, but slightly worse than the random forest. \n",
    "\n",
    "This model had the highest precision score at 93%, meaning that out of all the times it guessed the sub was r/learnpython, it was correct 93% of the time."
   ]
  },
  {
   "cell_type": "markdown",
   "id": "cfa5dea7-8966-4576-88ba-b354eb45a70c",
   "metadata": {},
   "source": [
    "<font color=white>.</font>"
   ]
  },
  {
   "cell_type": "markdown",
   "id": "a57379cc-74ec-46fc-90a1-8be9e7c1bbb6",
   "metadata": {},
   "source": [
    "#### ***XGBoost***"
   ]
  },
  {
   "cell_type": "markdown",
   "id": "8b53aa0d-f27b-41ad-ace4-86878d65e2b3",
   "metadata": {},
   "source": [
    "Since the random forest model performed well, I decided to try boosting algorithms.\n",
    "\n",
    "Boosting algorithms work by learning from their mistakes, and iteratively correcting with each new model. \n",
    "If you were to do this by hand, it might look like looking at the places where your model misclassified the target, \n",
    "and trying to correct the model to account for those instances.\n",
    "\n",
    "XGBoost is gradient boosting algorithm, the name is short for \"eXtreme Gradient Boosting\". The Xtreme part refers to speed enhancements that make XGBoost 10 times faster than regular gradient boosting.\n",
    "\n",
    "Gradient boosting algorithms also work by learning from their \"mistakes\", they do this by fitting each improved model to the previous model's residuals."
   ]
  },
  {
   "cell_type": "code",
   "execution_count": 307,
   "id": "20b6a10a-fa6d-429a-86fc-2fc743e56a18",
   "metadata": {},
   "outputs": [],
   "source": [
    "from xgboost import XGBClassifier"
   ]
  },
  {
   "cell_type": "code",
   "execution_count": 559,
   "id": "b3de4cc7-730b-419d-b0b1-412847441b58",
   "metadata": {
    "tags": []
   },
   "outputs": [],
   "source": [
    "# instantiate and fit\n",
    "# xgb = XGBClassifier(method = \"xgbTree\", eta=1, max_depth=2, verbosity=3, n_jobs=4)\n",
    "# xgb.fit(X_train_tf, y_train)\n",
    "\n",
    "# predicting test set results\n",
    "# y_pred = xgb.predict(X_test_cv)\n",
    "\n",
    "# calculating accuracy score\n",
    "# xgb.score(X_train_tf, y_train), xgb.score(X_test_tf, y_test)"
   ]
  },
  {
   "cell_type": "markdown",
   "id": "c5556c73-b71c-4a4c-94e0-7d6ae1b0a971",
   "metadata": {},
   "source": [
    "Unfortunately due to the computational cost of running boosting algorithms, I was not able to get this model to run, even with hyperparameters optimized for speed."
   ]
  },
  {
   "cell_type": "markdown",
   "id": "a15b8cdf-5b40-4f77-b3bd-f7b6756acde6",
   "metadata": {},
   "source": [
    "<font color=white>.</font>"
   ]
  },
  {
   "cell_type": "markdown",
   "id": "23bacf25-b8a5-4382-9c3f-e48be7bcfca2",
   "metadata": {},
   "source": [
    "#### ***AdaBoost***"
   ]
  },
  {
   "cell_type": "markdown",
   "id": "57635495-adf6-44b8-b22b-ca46135c3e7e",
   "metadata": {},
   "source": [
    "AdaBoost in particular works by fitting a sequence of decision trees (or another estimator) on iteratively modified versions of the data. \n",
    "After each fit, the algorithm weights each observation based on it's importance in predicting the target variable correctly."
   ]
  },
  {
   "cell_type": "code",
   "execution_count": null,
   "id": "cb7142ef-6a40-47b5-a30a-fcf7772802b5",
   "metadata": {},
   "outputs": [],
   "source": [
    "from sklearn.ensemble import AdaBoostClassifier"
   ]
  },
  {
   "cell_type": "code",
   "execution_count": 332,
   "id": "5b090fe2-e4a3-454f-b9ab-79b21a62d8f0",
   "metadata": {
    "tags": []
   },
   "outputs": [
    {
     "data": {
      "text/plain": [
       "(0.7369042930287515, 0.7253396337861784)"
      ]
     },
     "execution_count": 332,
     "metadata": {},
     "output_type": "execute_result"
    }
   ],
   "source": [
    "# instantiate and fit\n",
    "abc = AdaBoostClassifier(random_state=404)\n",
    "abc.fit(X_train_tf, y_train)\n",
    "\n",
    "# predicting test set results\n",
    "y_pred = abc.predict(X_test_tf)\n",
    "\n",
    "# calculating accuracy score\n",
    "abc.score(X_train_tf, y_train), abc.score(X_test_tf, y_test)"
   ]
  },
  {
   "cell_type": "markdown",
   "id": "437f006f-a317-4a21-858a-54e648a5fcf1",
   "metadata": {},
   "source": [
    "Due to the computational cost of running boosting algorithms, and some computer issues I'm currently having, I chose to use only  TfdifVectorized data for my AdaBoost model since there are fewer features.\n",
    "It scored 73% accuracy on the training data, and 72% accuracy on the test data."
   ]
  },
  {
   "cell_type": "markdown",
   "id": "48b8ea55-e570-414f-b35d-5567b6678e08",
   "metadata": {},
   "source": [
    "<font color=white>.</font>"
   ]
  },
  {
   "cell_type": "markdown",
   "id": "fa01c327-00d2-43ec-8417-45ae718db7a2",
   "metadata": {},
   "source": [
    "## GridSearch and RandomizedSearchCV"
   ]
  },
  {
   "cell_type": "markdown",
   "id": "39148a6f-e54c-4d6e-95da-c940942b41f8",
   "metadata": {},
   "source": [
    "Moving forward I decided to focus on the two models with the highest scores, my random forest and naive bayes models. I also chose to use CountVectorizer instead of TfdifVectorizer, since the scores using CountVectorized data were consistently higher across all models.\n",
    "\n",
    "I was not able to use XGBoost with this model due to runtime, so instead I focused on the Random Forest and used RandomizedSearchCV to tune hyperparameters.\n",
    "\n",
    "I chose not to use a pipe for this due to the time and computational cost of searching hyperparameters for both vectorization and  estimators; I also already tried almost all of the settings for CountVectorizer and TfidfVectorizer in the preprocessing stage as I was iteravely improving models."
   ]
  },
  {
   "cell_type": "code",
   "execution_count": 565,
   "id": "b469a60e-ccea-4dc5-8560-cd8b21cd98aa",
   "metadata": {
    "tags": []
   },
   "outputs": [
    {
     "name": "stdout",
     "output_type": "stream",
     "text": [
      "Fitting 5 folds for each of 2 candidates, totalling 10 fits\n"
     ]
    },
    {
     "data": {
      "text/plain": [
       "({'n_estimators': 200,\n",
       "  'min_samples_split': 4,\n",
       "  'max_features': 'auto',\n",
       "  'max_depth': 9},\n",
       " 0.8727853845855474)"
      ]
     },
     "execution_count": 565,
     "metadata": {},
     "output_type": "execute_result"
    }
   ],
   "source": [
    "# Random Forest \n",
    "\n",
    "from sklearn.model_selection import RandomizedSearchCV\n",
    "\n",
    "hyperparams = {\n",
    "    'n_estimators': [50, 70, 100, 125, 150, 200],\n",
    "    'min_samples_split': [2, 3, 4],\n",
    "    'max_features': [3, 40, 70, 150, 300, 'auto'],\n",
    "    'max_depth': [2, 5, 9, None]\n",
    "}\n",
    "\n",
    "rcv = RandomizedSearchCV(rf, hyperparams, cv=5, verbose=1, error_score=\"raise\", n_iter=2)\n",
    "rcv.fit(X_train_cv, y_train)\n",
    "rcv.best_params_, rcv.best_score_"
   ]
  },
  {
   "cell_type": "code",
   "execution_count": 573,
   "id": "74109b24-92a2-47b8-b9c5-e396daafb1c7",
   "metadata": {},
   "outputs": [
    {
     "name": "stdout",
     "output_type": "stream",
     "text": [
      "Fitting 5 folds for each of 12 candidates, totalling 60 fits\n"
     ]
    },
    {
     "data": {
      "text/plain": [
       "({'alpha': 1, 'fit_prior': False}, 0.8920850626430317)"
      ]
     },
     "execution_count": 573,
     "metadata": {},
     "output_type": "execute_result"
    }
   ],
   "source": [
    "# Naive Bayes\n",
    "\n",
    "hyperparams = {\n",
    "    'alpha': [0.1, 0.2, 0.3, 0.5, 0.7, 1],\n",
    "    'fit_prior': [True, False]\n",
    "}\n",
    "\n",
    "rcv = GridSearchCV(mnb, hyperparams, cv=5, verbose=1, error_score=\"raise\")\n",
    "rcv.fit(X_train_cv, y_train)\n",
    "rcv.best_params_, rcv.best_score_"
   ]
  },
  {
   "cell_type": "code",
   "execution_count": 576,
   "id": "31f6da0d-a336-43de-8324-4696b85f924d",
   "metadata": {},
   "outputs": [
    {
     "name": "stdout",
     "output_type": "stream",
     "text": [
      "Fitting 5 folds for each of 6 candidates, totalling 30 fits\n"
     ]
    },
    {
     "data": {
      "text/plain": [
       "({'C': 0.2}, 0.9021248206043211)"
      ]
     },
     "execution_count": 576,
     "metadata": {},
     "output_type": "execute_result"
    }
   ],
   "source": [
    "# Logistic Regression\n",
    "\n",
    "hyperparams = {\n",
    "    'C': [0.1, 0.2, 0.3, 0.5, 0.7, 1],\n",
    "}\n",
    "\n",
    "rcv = GridSearchCV(lr, hyperparams, cv=5, verbose=1, error_score=\"raise\")\n",
    "rcv.fit(X_train_cv, y_train)\n",
    "rcv.best_params_, rcv.best_score_"
   ]
  },
  {
   "cell_type": "markdown",
   "id": "dd880202-1173-4047-b888-2884cad5d13d",
   "metadata": {},
   "source": [
    "<font color=white>.</font>"
   ]
  },
  {
   "cell_type": "markdown",
   "id": "0fccaded-557e-4e81-a8df-7194873a0dff",
   "metadata": {},
   "source": [
    "#### Voting Classifier"
   ]
  },
  {
   "cell_type": "markdown",
   "id": "4128a5f7-5182-4c5f-918e-9e0cadc22227",
   "metadata": {},
   "source": [
    "Since many of my models had similar performance, I also tried using VotingClassifier to combine them."
   ]
  },
  {
   "cell_type": "code",
   "execution_count": 38,
   "id": "853616b9-f2af-44b8-8430-3fd721f0c1ce",
   "metadata": {},
   "outputs": [],
   "source": [
    "from sklearn.ensemble import VotingClassifier"
   ]
  },
  {
   "cell_type": "code",
   "execution_count": 39,
   "id": "944be84b-f423-4569-a9b2-92c8a755d287",
   "metadata": {},
   "outputs": [],
   "source": [
    "vc = VotingClassifier(\n",
    "    [('mnb', MultinomialNB(alpha=1) ),\n",
    "    ('lr', LogisticRegression(max_iter=1000, penalty='l2', C=0.5) ),\n",
    "    ('rf', RandomForestClassifier(n_estimators=200, random_state=404, min_samples_split=4) )\n",
    "]\n",
    "    ,\n",
    "    n_jobs=-1\n",
    ")"
   ]
  },
  {
   "cell_type": "code",
   "execution_count": 40,
   "id": "b2b39a94-3e98-417c-83cf-482bde4f4ea0",
   "metadata": {},
   "outputs": [
    {
     "data": {
      "text/plain": [
       "VotingClassifier(estimators=[('mnb', MultinomialNB(alpha=1)),\n",
       "                             ('lr', LogisticRegression(C=0.5, max_iter=1000)),\n",
       "                             ('rf',\n",
       "                              RandomForestClassifier(min_samples_split=4,\n",
       "                                                     n_estimators=200,\n",
       "                                                     random_state=404))],\n",
       "                 n_jobs=-1)"
      ]
     },
     "execution_count": 40,
     "metadata": {},
     "output_type": "execute_result"
    }
   ],
   "source": [
    "vc.fit(X_train_cv, y_train)"
   ]
  },
  {
   "cell_type": "code",
   "execution_count": 41,
   "id": "fd6b59b5-f873-42cf-bf25-7cb183985f5d",
   "metadata": {},
   "outputs": [
    {
     "data": {
      "text/plain": [
       "(0.9923198109491926, 0.9249852333136445)"
      ]
     },
     "execution_count": 41,
     "metadata": {},
     "output_type": "execute_result"
    }
   ],
   "source": [
    "# calculate accuracy score\n",
    "\n",
    "vc.score(X_train_cv, y_train), vc.score(X_test_cv, y_test) "
   ]
  },
  {
   "cell_type": "code",
   "execution_count": 42,
   "id": "5e8c74cb-dbf1-4a65-a0d9-804935262a4c",
   "metadata": {},
   "outputs": [
    {
     "data": {
      "text/plain": [
       "0.9297619047619048"
      ]
     },
     "execution_count": 42,
     "metadata": {},
     "output_type": "execute_result"
    }
   ],
   "source": [
    "# calculate precision score\n",
    "\n",
    "vc_pred = vc.predict(X_test_cv)\n",
    "precision_score(y_test, vc_pred)"
   ]
  },
  {
   "cell_type": "markdown",
   "id": "dfa8ae6d-79a1-4b03-8b1a-6ecc7b6ded31",
   "metadata": {},
   "source": [
    "The VotingClassifier outperformed all other models, including the optimized Random Forest, with accuracy in predicting the training data 99.3% of the time, and test data 92.4% of the time. \n",
    "\n",
    "The precision score was slightly lower than the precision for the naive bayes model, at 92.8%."
   ]
  },
  {
   "cell_type": "markdown",
   "id": "55d2d107-504c-4ffe-bec6-ff9feb7e5dc4",
   "metadata": {},
   "source": [
    "<font color=white>.</font>"
   ]
  },
  {
   "cell_type": "markdown",
   "id": "ef5e7e69-b27d-446b-b206-636c1fad5432",
   "metadata": {
    "tags": []
   },
   "source": [
    "## Evaluation"
   ]
  },
  {
   "cell_type": "markdown",
   "id": "775eb80f-d31e-4854-a530-3a78801c6978",
   "metadata": {},
   "source": [
    "In the end, my highest performing model was the ensemble model that included a random forest, multinomial bayes, and logistic regression, scoring 99.3% accuracy on the training data and 92.4% accuracy on the testing data. \n",
    "\n",
    "Although all 3 came close, the random forest was my most successful single model. This model scored a 99% on training data, and a 91.5% on testing data. Ultimately, using Gridsearch and RandomizedSearchCV on the random forest not help much to improve the scores of this model. In fact, it actually decreased the test score by .001%, with the caveat that the model may perform better on different unseen data with these hyperparameters. \n",
    "\n",
    "Before removing giveaway words, the logistic regression performed best - probably because words like \"postgre\" ended up being a dead giveaway that the subreddit was learnsql instead of learnpython (and \"flavors\" of sql will be mentioned frequently in SQL discussions.)"
   ]
  },
  {
   "cell_type": "markdown",
   "id": "69ec72cb-0b13-44d5-afe1-00e3df631b87",
   "metadata": {},
   "source": [
    "<font color=white>.</font>"
   ]
  },
  {
   "cell_type": "markdown",
   "id": "8e2e04e9-f45a-4872-aeb8-6e7593854ed2",
   "metadata": {},
   "source": [
    "#### Comparison to baseline model"
   ]
  },
  {
   "cell_type": "markdown",
   "id": "30481c9f-f72a-46c5-a686-85f1ff1ea4d4",
   "metadata": {},
   "source": [
    "By guessing the majority class every time, the baseline model would correctly classify the text 50.1% of the time. "
   ]
  },
  {
   "cell_type": "code",
   "execution_count": 411,
   "id": "572776e3-7368-4c05-b625-a2e897353122",
   "metadata": {},
   "outputs": [
    {
     "data": {
      "text/plain": [
       "0.5014766686355582"
      ]
     },
     "execution_count": 411,
     "metadata": {},
     "output_type": "execute_result"
    }
   ],
   "source": [
    "baseline = DummyRegressor(strategy='constant', constant=1)\n",
    "baseline.fit(X_train, y_train)\n",
    "y_pred = baseline.predict(X_test)\n",
    "accuracy_score(y_test, y_pred)"
   ]
  },
  {
   "cell_type": "markdown",
   "id": "d5d6b72a-ac21-49c7-a635-4437e545532e",
   "metadata": {},
   "source": [
    "<font color=white>.</font>"
   ]
  },
  {
   "cell_type": "markdown",
   "id": "a80b99a7-4f24-432d-a440-32097e1b1811",
   "metadata": {},
   "source": [
    "#### Accuracy and precision"
   ]
  },
  {
   "cell_type": "markdown",
   "id": "768cf360-8afe-400d-9aeb-8c116472f71a",
   "metadata": {},
   "source": [
    "Compared to baseline, the ensemble model (consisting of multinomial bayes, random forest, and logistic regression) performed significantly better. Although it may have been slightly overfit to the training data, it still performed well on the testing data."
   ]
  },
  {
   "cell_type": "code",
   "execution_count": 616,
   "id": "5949eb8d-9fba-4add-8999-a7b2cc8aebff",
   "metadata": {},
   "outputs": [
    {
     "data": {
      "text/plain": [
       "array([[785,  59],\n",
       "       [ 68, 781]])"
      ]
     },
     "execution_count": 616,
     "metadata": {},
     "output_type": "execute_result"
    }
   ],
   "source": [
    "cm=confusion_matrix(y_test, vc_pred)\n",
    "cm"
   ]
  },
  {
   "cell_type": "code",
   "execution_count": 617,
   "id": "6201e227-e180-4097-af0e-3979189be792",
   "metadata": {},
   "outputs": [
    {
     "data": {
      "text/plain": [
       "[Text(0, 0.5, 'sql'), Text(0, 1.5, 'python')]"
      ]
     },
     "execution_count": 617,
     "metadata": {},
     "output_type": "execute_result"
    },
    {
     "data": {
      "image/png": "[encoded data removed]",
      "text/plain": [
       "<Figure size 720x504 with 2 Axes>"
      ]
     },
     "metadata": {
      "needs_background": "light"
     },
     "output_type": "display_data"
    }
   ],
   "source": [
    "plt.figure(figsize=(10, 7))\n",
    "ax= plt.subplot()\n",
    "sns.heatmap(cm, annot=True, fmt='g', ax=ax, cmap='Blues');\n",
    "\n",
    "# labels, title and ticks\n",
    "ax.set_xlabel('Predicted labels');ax.set_ylabel('True labels');\n",
    "ax.set_title('Confusion Matrix');\n",
    "ax.xaxis.set_ticklabels(['sql', 'python']); ax.yaxis.set_ticklabels(['sql', 'python'])"
   ]
  },
  {
   "cell_type": "markdown",
   "id": "74b11305-5e8b-472e-93d5-8be78488000a",
   "metadata": {},
   "source": [
    "<font color=white>.</font>"
   ]
  },
  {
   "cell_type": "markdown",
   "id": "ce9eeab8-cd19-4ca1-8179-915d7ded4e80",
   "metadata": {},
   "source": [
    "My accuracy score was 92.4%, meaning that the model correctly classified the text 92.4% of the time. \n",
    "\n",
    "This is a large improvement over a bseline score of 50%."
   ]
  },
  {
   "cell_type": "code",
   "execution_count": 583,
   "id": "fa4e47e6-a923-47df-b737-7ef866a392d5",
   "metadata": {},
   "outputs": [
    {
     "data": {
      "text/plain": [
       "0.9249852333136445"
      ]
     },
     "execution_count": 583,
     "metadata": {},
     "output_type": "execute_result"
    }
   ],
   "source": [
    "accuracy_score(y_test, vc_pred)"
   ]
  },
  {
   "cell_type": "markdown",
   "id": "b53ab420-403c-4d80-b826-0faa2beab84b",
   "metadata": {},
   "source": [
    "<font color=white>.</font>"
   ]
  },
  {
   "cell_type": "markdown",
   "id": "4d4a28db-15e8-48f1-b015-ee576c9cc4ea",
   "metadata": {},
   "source": [
    "My precision score (Number of true positives divided by number of all predicted positives) was 91.3%, meaning that out of all the times I predicted the subreddit to be r/python, I was correct 92.8% of the time. \n",
    "\n",
    "Including the naive bayes in my ensemble is probably what improved this score, as the bayes model had the high precision score (93%) compared to ~90% for all the other models."
   ]
  },
  {
   "cell_type": "code",
   "execution_count": 584,
   "id": "de17b2b0-9512-4dde-a0a7-62bf3b745bc9",
   "metadata": {},
   "outputs": [
    {
     "data": {
      "text/plain": [
       "0.9297619047619048"
      ]
     },
     "execution_count": 584,
     "metadata": {},
     "output_type": "execute_result"
    }
   ],
   "source": [
    "precision_score(y_test, vc_pred)"
   ]
  },
  {
   "cell_type": "code",
   "execution_count": null,
   "id": "79d29834-07f1-40e5-80b3-5b7ee2bab2c4",
   "metadata": {},
   "outputs": [],
   "source": []
  },
  {
   "cell_type": "code",
   "execution_count": 49,
   "id": "c13f569b-0854-43c9-81ce-42494a14dff9",
   "metadata": {},
   "outputs": [],
   "source": [
    "misclassifications = pd.DataFrame(X_test.copy())"
   ]
  },
  {
   "cell_type": "code",
   "execution_count": 50,
   "id": "eb000ae7-6244-4c2f-b626-8a0b864c915c",
   "metadata": {},
   "outputs": [],
   "source": [
    "misclassifications['true class'] = y_test\n",
    "misclassifications['pred class'] = vc_pred"
   ]
  },
  {
   "cell_type": "code",
   "execution_count": 55,
   "id": "c4a580d4-6f3f-490c-85d2-68e26ea92cab",
   "metadata": {},
   "outputs": [
    {
     "data": {
      "text/html": [
       "<div>\n",
       "<style scoped>\n",
       "    .dataframe tbody tr th:only-of-type {\n",
       "        vertical-align: middle;\n",
       "    }\n",
       "\n",
       "    .dataframe tbody tr th {\n",
       "        vertical-align: top;\n",
       "    }\n",
       "\n",
       "    .dataframe thead th {\n",
       "        text-align: right;\n",
       "    }\n",
       "</style>\n",
       "<table border=\"1\" class=\"dataframe\">\n",
       "  <thead>\n",
       "    <tr style=\"text-align: right;\">\n",
       "      <th></th>\n",
       "      <th>combinedtext</th>\n",
       "      <th>true class</th>\n",
       "      <th>pred class</th>\n",
       "    </tr>\n",
       "  </thead>\n",
       "  <tbody>\n",
       "    <tr>\n",
       "      <th>2840</th>\n",
       "      <td>help with a problem im have an issue with this...</td>\n",
       "      <td>0</td>\n",
       "      <td>1</td>\n",
       "    </tr>\n",
       "    <tr>\n",
       "      <th>1404</th>\n",
       "      <td>a free course for a very begginer ? i want to ...</td>\n",
       "      <td>1</td>\n",
       "      <td>0</td>\n",
       "    </tr>\n",
       "    <tr>\n",
       "      <th>674</th>\n",
       "      <td>how to populate a database with data from a li...</td>\n",
       "      <td>1</td>\n",
       "      <td>0</td>\n",
       "    </tr>\n",
       "    <tr>\n",
       "      <th>1756</th>\n",
       "      <td>need help about backend any course for backend...</td>\n",
       "      <td>1</td>\n",
       "      <td>0</td>\n",
       "    </tr>\n",
       "    <tr>\n",
       "      <th>2858</th>\n",
       "      <td>how could i write a application that study the...</td>\n",
       "      <td>1</td>\n",
       "      <td>0</td>\n",
       "    </tr>\n",
       "    <tr>\n",
       "      <th>47</th>\n",
       "      <td>certification very simple question and i apolo...</td>\n",
       "      <td>1</td>\n",
       "      <td>0</td>\n",
       "    </tr>\n",
       "    <tr>\n",
       "      <th>836</th>\n",
       "      <td>do anyone know which company ask the merge ove...</td>\n",
       "      <td>1</td>\n",
       "      <td>0</td>\n",
       "    </tr>\n",
       "    <tr>\n",
       "      <th>1333</th>\n",
       "      <td>try to connect to database. i be get error mes...</td>\n",
       "      <td>1</td>\n",
       "      <td>0</td>\n",
       "    </tr>\n",
       "    <tr>\n",
       "      <th>2903</th>\n",
       "      <td>i need some direction for a project. [deleted]</td>\n",
       "      <td>0</td>\n",
       "      <td>1</td>\n",
       "    </tr>\n",
       "    <tr>\n",
       "      <th>1348</th>\n",
       "      <td>count comparison in loop within a file, i want...</td>\n",
       "      <td>0</td>\n",
       "      <td>1</td>\n",
       "    </tr>\n",
       "    <tr>\n",
       "      <th>2157</th>\n",
       "      <td>how do i use request to get page data after th...</td>\n",
       "      <td>1</td>\n",
       "      <td>0</td>\n",
       "    </tr>\n",
       "    <tr>\n",
       "      <th>2310</th>\n",
       "      <td>my first proper personal project i've be muck ...</td>\n",
       "      <td>1</td>\n",
       "      <td>0</td>\n",
       "    </tr>\n",
       "    <tr>\n",
       "      <th>1873</th>\n",
       "      <td>bolt problem help [deleted]</td>\n",
       "      <td>0</td>\n",
       "      <td>1</td>\n",
       "    </tr>\n",
       "    <tr>\n",
       "      <th>1951</th>\n",
       "      <td>can someone help me with kivymd? need help urg...</td>\n",
       "      <td>1</td>\n",
       "      <td>0</td>\n",
       "    </tr>\n",
       "    <tr>\n",
       "      <th>2698</th>\n",
       "      <td>dynamically change variable in text file? i be...</td>\n",
       "      <td>1</td>\n",
       "      <td>0</td>\n",
       "    </tr>\n",
       "    <tr>\n",
       "      <th>7</th>\n",
       "      <td>pyspark null become date when divide by ! col ...</td>\n",
       "      <td>1</td>\n",
       "      <td>0</td>\n",
       "    </tr>\n",
       "    <tr>\n",
       "      <th>1423</th>\n",
       "      <td>how to remove variable text from a varchar? so...</td>\n",
       "      <td>0</td>\n",
       "      <td>1</td>\n",
       "    </tr>\n",
       "    <tr>\n",
       "      <th>1961</th>\n",
       "      <td>how do i start learn ? i don’t know how to beg...</td>\n",
       "      <td>1</td>\n",
       "      <td>0</td>\n",
       "    </tr>\n",
       "    <tr>\n",
       "      <th>2119</th>\n",
       "      <td>i just start learn ... i'm still a teenager so...</td>\n",
       "      <td>1</td>\n",
       "      <td>0</td>\n",
       "    </tr>\n",
       "    <tr>\n",
       "      <th>239</th>\n",
       "      <td>pl/ program to print rectangular star pattern ...</td>\n",
       "      <td>0</td>\n",
       "      <td>1</td>\n",
       "    </tr>\n",
       "    <tr>\n",
       "      <th>2579</th>\n",
       "      <td>can someone help with the difference between i...</td>\n",
       "      <td>0</td>\n",
       "      <td>1</td>\n",
       "    </tr>\n",
       "    <tr>\n",
       "      <th>947</th>\n",
       "      <td>new discord cod community [removed]</td>\n",
       "      <td>0</td>\n",
       "      <td>1</td>\n",
       "    </tr>\n",
       "    <tr>\n",
       "      <th>569</th>\n",
       "      <td>who here be work through angela yu’s days of c...</td>\n",
       "      <td>1</td>\n",
       "      <td>0</td>\n",
       "    </tr>\n",
       "    <tr>\n",
       "      <th>1749</th>\n",
       "      <td>any good discord study or discussion group out...</td>\n",
       "      <td>1</td>\n",
       "      <td>0</td>\n",
       "    </tr>\n",
       "    <tr>\n",
       "      <th>19</th>\n",
       "      <td>try to bulk insert but show error hello all, b...</td>\n",
       "      <td>0</td>\n",
       "      <td>1</td>\n",
       "    </tr>\n",
       "    <tr>\n",
       "      <th>1096</th>\n",
       "      <td>remember keywords hi there - something i've fi...</td>\n",
       "      <td>0</td>\n",
       "      <td>1</td>\n",
       "    </tr>\n",
       "    <tr>\n",
       "      <th>1800</th>\n",
       "      <td>database for word hello! i have an project whe...</td>\n",
       "      <td>0</td>\n",
       "      <td>1</td>\n",
       "    </tr>\n",
       "    <tr>\n",
       "      <th>2751</th>\n",
       "      <td>let me introduce you reverse</td>\n",
       "      <td>1</td>\n",
       "      <td>0</td>\n",
       "    </tr>\n",
       "    <tr>\n",
       "      <th>1109</th>\n",
       "      <td>be it possible to simply create a new column i...</td>\n",
       "      <td>0</td>\n",
       "      <td>1</td>\n",
       "    </tr>\n",
       "    <tr>\n",
       "      <th>1875</th>\n",
       "      <td>do anyone even use for analysis? the answer be...</td>\n",
       "      <td>1</td>\n",
       "      <td>0</td>\n",
       "    </tr>\n",
       "    <tr>\n",
       "      <th>509</th>\n",
       "      <td>how to convert - into bits? i know that the fi...</td>\n",
       "      <td>1</td>\n",
       "      <td>0</td>\n",
       "    </tr>\n",
       "    <tr>\n",
       "      <th>2929</th>\n",
       "      <td>any trick to remember operations within bracke...</td>\n",
       "      <td>1</td>\n",
       "      <td>0</td>\n",
       "    </tr>\n",
       "    <tr>\n",
       "      <th>1989</th>\n",
       "      <td>where to demo my code? i've be add to my skill...</td>\n",
       "      <td>0</td>\n",
       "      <td>1</td>\n",
       "    </tr>\n",
       "    <tr>\n",
       "      <th>3317</th>\n",
       "      <td>injection demonstration on a local ite databas...</td>\n",
       "      <td>0</td>\n",
       "      <td>1</td>\n",
       "    </tr>\n",
       "    <tr>\n",
       "      <th>531</th>\n",
       "      <td>any tutor recommendations for online classes. ...</td>\n",
       "      <td>0</td>\n",
       "      <td>1</td>\n",
       "    </tr>\n",
       "    <tr>\n",
       "      <th>257</th>\n",
       "      <td>how do i get start in learn ? hello, so, i be ...</td>\n",
       "      <td>0</td>\n",
       "      <td>1</td>\n",
       "    </tr>\n",
       "    <tr>\n",
       "      <th>3128</th>\n",
       "      <td>code cademy course what do code mean? select c...</td>\n",
       "      <td>0</td>\n",
       "      <td>1</td>\n",
       "    </tr>\n",
       "    <tr>\n",
       "      <th>248</th>\n",
       "      <td>need help with random password generator [dele...</td>\n",
       "      <td>1</td>\n",
       "      <td>0</td>\n",
       "    </tr>\n",
       "    <tr>\n",
       "      <th>1646</th>\n",
       "      <td>want to create a program that do something spe...</td>\n",
       "      <td>1</td>\n",
       "      <td>0</td>\n",
       "    </tr>\n",
       "    <tr>\n",
       "      <th>786</th>\n",
       "      <td>join table on itself, only join at most n row ...</td>\n",
       "      <td>0</td>\n",
       "      <td>1</td>\n",
       "    </tr>\n",
       "    <tr>\n",
       "      <th>1633</th>\n",
       "      <td>csv or xlsx hi all, beginner here. i want to k...</td>\n",
       "      <td>0</td>\n",
       "      <td>1</td>\n",
       "    </tr>\n",
       "    <tr>\n",
       "      <th>870</th>\n",
       "      <td>new to regular expressions i need help with so...</td>\n",
       "      <td>0</td>\n",
       "      <td>1</td>\n",
       "    </tr>\n",
       "    <tr>\n",
       "      <th>3172</th>\n",
       "      <td>join developers whatsapp group ** ** be one of...</td>\n",
       "      <td>1</td>\n",
       "      <td>0</td>\n",
       "    </tr>\n",
       "    <tr>\n",
       "      <th>478</th>\n",
       "      <td>where can i download pygame pls help</td>\n",
       "      <td>1</td>\n",
       "      <td>0</td>\n",
       "    </tr>\n",
       "    <tr>\n",
       "      <th>2787</th>\n",
       "      <td>newbie need help i need help, i'm new to and i...</td>\n",
       "      <td>0</td>\n",
       "      <td>1</td>\n",
       "    </tr>\n",
       "    <tr>\n",
       "      <th>1788</th>\n",
       "      <td>discord community: live instruction and pair p...</td>\n",
       "      <td>0</td>\n",
       "      <td>1</td>\n",
       "    </tr>\n",
       "    <tr>\n",
       "      <th>313</th>\n",
       "      <td>a curious moon course have anyone do or hear o...</td>\n",
       "      <td>0</td>\n",
       "      <td>1</td>\n",
       "    </tr>\n",
       "    <tr>\n",
       "      <th>1606</th>\n",
       "      <td>do anyone know of a good way to strip html use...</td>\n",
       "      <td>0</td>\n",
       "      <td>1</td>\n",
       "    </tr>\n",
       "    <tr>\n",
       "      <th>2249</th>\n",
       "      <td>sorry for the stupid question but i can't unde...</td>\n",
       "      <td>0</td>\n",
       "      <td>1</td>\n",
       "    </tr>\n",
       "    <tr>\n",
       "      <th>816</th>\n",
       "      <td>flag use exchangelib i'm look for a way to fla...</td>\n",
       "      <td>1</td>\n",
       "      <td>0</td>\n",
       "    </tr>\n",
       "  </tbody>\n",
       "</table>\n",
       "</div>"
      ],
      "text/plain": [
       "                                           combinedtext  true class  \\\n",
       "2840  help with a problem im have an issue with this...           0   \n",
       "1404  a free course for a very begginer ? i want to ...           1   \n",
       "674   how to populate a database with data from a li...           1   \n",
       "1756  need help about backend any course for backend...           1   \n",
       "2858  how could i write a application that study the...           1   \n",
       "47    certification very simple question and i apolo...           1   \n",
       "836   do anyone know which company ask the merge ove...           1   \n",
       "1333  try to connect to database. i be get error mes...           1   \n",
       "2903     i need some direction for a project. [deleted]           0   \n",
       "1348  count comparison in loop within a file, i want...           0   \n",
       "2157  how do i use request to get page data after th...           1   \n",
       "2310  my first proper personal project i've be muck ...           1   \n",
       "1873                        bolt problem help [deleted]           0   \n",
       "1951  can someone help me with kivymd? need help urg...           1   \n",
       "2698  dynamically change variable in text file? i be...           1   \n",
       "7     pyspark null become date when divide by ! col ...           1   \n",
       "1423  how to remove variable text from a varchar? so...           0   \n",
       "1961  how do i start learn ? i don’t know how to beg...           1   \n",
       "2119  i just start learn ... i'm still a teenager so...           1   \n",
       "239   pl/ program to print rectangular star pattern ...           0   \n",
       "2579  can someone help with the difference between i...           0   \n",
       "947                 new discord cod community [removed]           0   \n",
       "569   who here be work through angela yu’s days of c...           1   \n",
       "1749  any good discord study or discussion group out...           1   \n",
       "19    try to bulk insert but show error hello all, b...           0   \n",
       "1096  remember keywords hi there - something i've fi...           0   \n",
       "1800  database for word hello! i have an project whe...           0   \n",
       "2751                       let me introduce you reverse           1   \n",
       "1109  be it possible to simply create a new column i...           0   \n",
       "1875  do anyone even use for analysis? the answer be...           1   \n",
       "509   how to convert - into bits? i know that the fi...           1   \n",
       "2929  any trick to remember operations within bracke...           1   \n",
       "1989  where to demo my code? i've be add to my skill...           0   \n",
       "3317  injection demonstration on a local ite databas...           0   \n",
       "531   any tutor recommendations for online classes. ...           0   \n",
       "257   how do i get start in learn ? hello, so, i be ...           0   \n",
       "3128  code cademy course what do code mean? select c...           0   \n",
       "248   need help with random password generator [dele...           1   \n",
       "1646  want to create a program that do something spe...           1   \n",
       "786   join table on itself, only join at most n row ...           0   \n",
       "1633  csv or xlsx hi all, beginner here. i want to k...           0   \n",
       "870   new to regular expressions i need help with so...           0   \n",
       "3172  join developers whatsapp group ** ** be one of...           1   \n",
       "478                where can i download pygame pls help           1   \n",
       "2787  newbie need help i need help, i'm new to and i...           0   \n",
       "1788  discord community: live instruction and pair p...           0   \n",
       "313   a curious moon course have anyone do or hear o...           0   \n",
       "1606  do anyone know of a good way to strip html use...           0   \n",
       "2249  sorry for the stupid question but i can't unde...           0   \n",
       "816   flag use exchangelib i'm look for a way to fla...           1   \n",
       "\n",
       "      pred class  \n",
       "2840           1  \n",
       "1404           0  \n",
       "674            0  \n",
       "1756           0  \n",
       "2858           0  \n",
       "47             0  \n",
       "836            0  \n",
       "1333           0  \n",
       "2903           1  \n",
       "1348           1  \n",
       "2157           0  \n",
       "2310           0  \n",
       "1873           1  \n",
       "1951           0  \n",
       "2698           0  \n",
       "7              0  \n",
       "1423           1  \n",
       "1961           0  \n",
       "2119           0  \n",
       "239            1  \n",
       "2579           1  \n",
       "947            1  \n",
       "569            0  \n",
       "1749           0  \n",
       "19             1  \n",
       "1096           1  \n",
       "1800           1  \n",
       "2751           0  \n",
       "1109           1  \n",
       "1875           0  \n",
       "509            0  \n",
       "2929           0  \n",
       "1989           1  \n",
       "3317           1  \n",
       "531            1  \n",
       "257            1  \n",
       "3128           1  \n",
       "248            0  \n",
       "1646           0  \n",
       "786            1  \n",
       "1633           1  \n",
       "870            1  \n",
       "3172           0  \n",
       "478            0  \n",
       "2787           1  \n",
       "1788           1  \n",
       "313            1  \n",
       "1606           1  \n",
       "2249           1  \n",
       "816            0  "
      ]
     },
     "execution_count": 55,
     "metadata": {},
     "output_type": "execute_result"
    }
   ],
   "source": [
    "misclassifications[misclassifications['true class'] != misclassifications['pred class']].tail(50)"
   ]
  },
  {
   "cell_type": "markdown",
   "id": "77144c4b-a8d7-4870-8399-c71097663021",
   "metadata": {},
   "source": [
    "<font color=white>.</font>"
   ]
  },
  {
   "cell_type": "markdown",
   "id": "14793c80-2da5-46fc-95af-6d0965911170",
   "metadata": {},
   "source": [
    "## Recommendations"
   ]
  },
  {
   "cell_type": "markdown",
   "id": "43419f11-e3e8-4792-848a-54e381cb6c91",
   "metadata": {},
   "source": [
    "For someone else who is looking to solve the same classification problem, I would recommend the following. These are things I did not have time to explore deeper:\n",
    "    \n",
    "* Consider trying different libraries when vectorizing text.\n",
    "* Try using XGBoost on highest-performing models (I was not able to do this due to hardware limitations.)\n",
    "* Look into tuning hyperparameters when building ensemble methods\n",
    "* Make sure one user isn't carrying the whole subreddit. Andre380 prolific with his daily SQL challenge, but it lead to a lot of repeated text that wouldn't necessarily generalize to other subreddits.\n",
    "* Consider finding two subreddits that are more \"evenly matched\", although the topics of my subreddits were similar, the number of subscribers, overall activity, and number of unique contributers were very different.\n",
    "\n",
    "Overall this model performs very well for what it is supposed to do: classify some text from reddit as belonging to one subreddit or another. The stakes in this situation are low. Of course, for classification models with higher stakes (medical models, financial models, etc) much more care should be put into tuning, and minimizing the correct metrics!"
   ]
  },
  {
   "cell_type": "markdown",
   "id": "97fc8bee-83f8-4d69-91c3-d9d682547d55",
   "metadata": {},
   "source": [
    "<font color=white>.</font>"
   ]
  },
  {
   "cell_type": "markdown",
   "id": "3f0e2b64-69f4-41cf-9841-ce920b8403b4",
   "metadata": {
    "tags": []
   },
   "source": [
    "## Appendix: Plotly charts and code"
   ]
  },
  {
   "cell_type": "code",
   "execution_count": 432,
   "id": "b90055b7-70c5-4ec3-8de9-f94c2ce53698",
   "metadata": {},
   "outputs": [],
   "source": [
    "import plotly\n",
    "import plotly.express as px"
   ]
  },
  {
   "cell_type": "code",
   "execution_count": 592,
   "id": "f1019b84-bc4a-4fde-9831-c32b32e88dd1",
   "metadata": {},
   "outputs": [
    {
     "data": {
      "application/vnd.plotly.v1+json": {
       "config": {
        "plotlyServerURL": "https://plot.ly"
       },
       "data": [
        {
         "alignmentgroup": "True",
         "hovertemplate": "word=%{x}<br>freq=%{y}<extra></extra>",
         "legendgroup": "",
         "marker": {
          "color": "#E84C3C",
          "pattern": {
           "shape": ""
          }
         },
         "name": "",
         "offsetgroup": "",
         "orientation": "v",
         "showlegend": false,
         "textposition": "auto",
         "type": "bar",
         "x": [
          "table",
          "use",
          "self",
          "data",
          "https",
          "try",
          "code",
          "like",
          "gt",
          "print"
         ],
         "xaxis": "x",
         "y": [
          987,
          964,
          882,
          787,
          703,
          677,
          655,
          642,
          632,
          627
         ],
         "yaxis": "y"
        }
       ],
       "layout": {
        "autosize": true,
        "barmode": "relative",
        "legend": {
         "tracegroupgap": 0
        },
        "template": {
         "data": {
          "bar": [
           {
            "error_x": {
             "color": "#2a3f5f"
            },
            "error_y": {
             "color": "#2a3f5f"
            },
            "marker": {
             "line": {
              "color": "#E5ECF6",
              "width": 0.5
             },
             "pattern": {
              "fillmode": "overlay",
              "size": 10,
              "solidity": 0.2
             }
            },
            "type": "bar"
           }
          ],
          "barpolar": [
           {
            "marker": {
             "line": {
              "color": "#E5ECF6",
              "width": 0.5
             },
             "pattern": {
              "fillmode": "overlay",
              "size": 10,
              "solidity": 0.2
             }
            },
            "type": "barpolar"
           }
          ],
          "carpet": [
           {
            "aaxis": {
             "endlinecolor": "#2a3f5f",
             "gridcolor": "white",
             "linecolor": "white",
             "minorgridcolor": "white",
             "startlinecolor": "#2a3f5f"
            },
            "baxis": {
             "endlinecolor": "#2a3f5f",
             "gridcolor": "white",
             "linecolor": "white",
             "minorgridcolor": "white",
             "startlinecolor": "#2a3f5f"
            },
            "type": "carpet"
           }
          ],
          "choropleth": [
           {
            "colorbar": {
             "outlinewidth": 0,
             "ticks": ""
            },
            "type": "choropleth"
           }
          ],
          "contour": [
           {
            "colorbar": {
             "outlinewidth": 0,
             "ticks": ""
            },
            "colorscale": [
             [
              0,
              "#0d0887"
             ],
             [
              0.1111111111111111,
              "#46039f"
             ],
             [
              0.2222222222222222,
              "#7201a8"
             ],
             [
              0.3333333333333333,
              "#9c179e"
             ],
             [
              0.4444444444444444,
              "#bd3786"
             ],
             [
              0.5555555555555556,
              "#d8576b"
             ],
             [
              0.6666666666666666,
              "#ed7953"
             ],
             [
              0.7777777777777778,
              "#fb9f3a"
             ],
             [
              0.8888888888888888,
              "#fdca26"
             ],
             [
              1,
              "#f0f921"
             ]
            ],
            "type": "contour"
           }
          ],
          "contourcarpet": [
           {
            "colorbar": {
             "outlinewidth": 0,
             "ticks": ""
            },
            "type": "contourcarpet"
           }
          ],
          "heatmap": [
           {
            "colorbar": {
             "outlinewidth": 0,
             "ticks": ""
            },
            "colorscale": [
             [
              0,
              "#0d0887"
             ],
             [
              0.1111111111111111,
              "#46039f"
             ],
             [
              0.2222222222222222,
              "#7201a8"
             ],
             [
              0.3333333333333333,
              "#9c179e"
             ],
             [
              0.4444444444444444,
              "#bd3786"
             ],
             [
              0.5555555555555556,
              "#d8576b"
             ],
             [
              0.6666666666666666,
              "#ed7953"
             ],
             [
              0.7777777777777778,
              "#fb9f3a"
             ],
             [
              0.8888888888888888,
              "#fdca26"
             ],
             [
              1,
              "#f0f921"
             ]
            ],
            "type": "heatmap"
           }
          ],
          "heatmapgl": [
           {
            "colorbar": {
             "outlinewidth": 0,
             "ticks": ""
            },
            "colorscale": [
             [
              0,
              "#0d0887"
             ],
             [
              0.1111111111111111,
              "#46039f"
             ],
             [
              0.2222222222222222,
              "#7201a8"
             ],
             [
              0.3333333333333333,
              "#9c179e"
             ],
             [
              0.4444444444444444,
              "#bd3786"
             ],
             [
              0.5555555555555556,
              "#d8576b"
             ],
             [
              0.6666666666666666,
              "#ed7953"
             ],
             [
              0.7777777777777778,
              "#fb9f3a"
             ],
             [
              0.8888888888888888,
              "#fdca26"
             ],
             [
              1,
              "#f0f921"
             ]
            ],
            "type": "heatmapgl"
           }
          ],
          "histogram": [
           {
            "marker": {
             "pattern": {
              "fillmode": "overlay",
              "size": 10,
              "solidity": 0.2
             }
            },
            "type": "histogram"
           }
          ],
          "histogram2d": [
           {
            "colorbar": {
             "outlinewidth": 0,
             "ticks": ""
            },
            "colorscale": [
             [
              0,
              "#0d0887"
             ],
             [
              0.1111111111111111,
              "#46039f"
             ],
             [
              0.2222222222222222,
              "#7201a8"
             ],
             [
              0.3333333333333333,
              "#9c179e"
             ],
             [
              0.4444444444444444,
              "#bd3786"
             ],
             [
              0.5555555555555556,
              "#d8576b"
             ],
             [
              0.6666666666666666,
              "#ed7953"
             ],
             [
              0.7777777777777778,
              "#fb9f3a"
             ],
             [
              0.8888888888888888,
              "#fdca26"
             ],
             [
              1,
              "#f0f921"
             ]
            ],
            "type": "histogram2d"
           }
          ],
          "histogram2dcontour": [
           {
            "colorbar": {
             "outlinewidth": 0,
             "ticks": ""
            },
            "colorscale": [
             [
              0,
              "#0d0887"
             ],
             [
              0.1111111111111111,
              "#46039f"
             ],
             [
              0.2222222222222222,
              "#7201a8"
             ],
             [
              0.3333333333333333,
              "#9c179e"
             ],
             [
              0.4444444444444444,
              "#bd3786"
             ],
             [
              0.5555555555555556,
              "#d8576b"
             ],
             [
              0.6666666666666666,
              "#ed7953"
             ],
             [
              0.7777777777777778,
              "#fb9f3a"
             ],
             [
              0.8888888888888888,
              "#fdca26"
             ],
             [
              1,
              "#f0f921"
             ]
            ],
            "type": "histogram2dcontour"
           }
          ],
          "mesh3d": [
           {
            "colorbar": {
             "outlinewidth": 0,
             "ticks": ""
            },
            "type": "mesh3d"
           }
          ],
          "parcoords": [
           {
            "line": {
             "colorbar": {
              "outlinewidth": 0,
              "ticks": ""
             }
            },
            "type": "parcoords"
           }
          ],
          "pie": [
           {
            "automargin": true,
            "type": "pie"
           }
          ],
          "scatter": [
           {
            "fillpattern": {
             "fillmode": "overlay",
             "size": 10,
             "solidity": 0.2
            },
            "type": "scatter"
           }
          ],
          "scatter3d": [
           {
            "line": {
             "colorbar": {
              "outlinewidth": 0,
              "ticks": ""
             }
            },
            "marker": {
             "colorbar": {
              "outlinewidth": 0,
              "ticks": ""
             }
            },
            "type": "scatter3d"
           }
          ],
          "scattercarpet": [
           {
            "marker": {
             "colorbar": {
              "outlinewidth": 0,
              "ticks": ""
             }
            },
            "type": "scattercarpet"
           }
          ],
          "scattergeo": [
           {
            "marker": {
             "colorbar": {
              "outlinewidth": 0,
              "ticks": ""
             }
            },
            "type": "scattergeo"
           }
          ],
          "scattergl": [
           {
            "marker": {
             "colorbar": {
              "outlinewidth": 0,
              "ticks": ""
             }
            },
            "type": "scattergl"
           }
          ],
          "scattermapbox": [
           {
            "marker": {
             "colorbar": {
              "outlinewidth": 0,
              "ticks": ""
             }
            },
            "type": "scattermapbox"
           }
          ],
          "scatterpolar": [
           {
            "marker": {
             "colorbar": {
              "outlinewidth": 0,
              "ticks": ""
             }
            },
            "type": "scatterpolar"
           }
          ],
          "scatterpolargl": [
           {
            "marker": {
             "colorbar": {
              "outlinewidth": 0,
              "ticks": ""
             }
            },
            "type": "scatterpolargl"
           }
          ],
          "scatterternary": [
           {
            "marker": {
             "colorbar": {
              "outlinewidth": 0,
              "ticks": ""
             }
            },
            "type": "scatterternary"
           }
          ],
          "surface": [
           {
            "colorbar": {
             "outlinewidth": 0,
             "ticks": ""
            },
            "colorscale": [
             [
              0,
              "#0d0887"
             ],
             [
              0.1111111111111111,
              "#46039f"
             ],
             [
              0.2222222222222222,
              "#7201a8"
             ],
             [
              0.3333333333333333,
              "#9c179e"
             ],
             [
              0.4444444444444444,
              "#bd3786"
             ],
             [
              0.5555555555555556,
              "#d8576b"
             ],
             [
              0.6666666666666666,
              "#ed7953"
             ],
             [
              0.7777777777777778,
              "#fb9f3a"
             ],
             [
              0.8888888888888888,
              "#fdca26"
             ],
             [
              1,
              "#f0f921"
             ]
            ],
            "type": "surface"
           }
          ],
          "table": [
           {
            "cells": {
             "fill": {
              "color": "#EBF0F8"
             },
             "line": {
              "color": "white"
             }
            },
            "header": {
             "fill": {
              "color": "#C8D4E3"
             },
             "line": {
              "color": "white"
             }
            },
            "type": "table"
           }
          ]
         },
         "layout": {
          "annotationdefaults": {
           "arrowcolor": "#2a3f5f",
           "arrowhead": 0,
           "arrowwidth": 1
          },
          "autotypenumbers": "strict",
          "coloraxis": {
           "colorbar": {
            "outlinewidth": 0,
            "ticks": ""
           }
          },
          "colorscale": {
           "diverging": [
            [
             0,
             "#8e0152"
            ],
            [
             0.1,
             "#c51b7d"
            ],
            [
             0.2,
             "#de77ae"
            ],
            [
             0.3,
             "#f1b6da"
            ],
            [
             0.4,
             "#fde0ef"
            ],
            [
             0.5,
             "#f7f7f7"
            ],
            [
             0.6,
             "#e6f5d0"
            ],
            [
             0.7,
             "#b8e186"
            ],
            [
             0.8,
             "#7fbc41"
            ],
            [
             0.9,
             "#4d9221"
            ],
            [
             1,
             "#276419"
            ]
           ],
           "sequential": [
            [
             0,
             "#0d0887"
            ],
            [
             0.1111111111111111,
             "#46039f"
            ],
            [
             0.2222222222222222,
             "#7201a8"
            ],
            [
             0.3333333333333333,
             "#9c179e"
            ],
            [
             0.4444444444444444,
             "#bd3786"
            ],
            [
             0.5555555555555556,
             "#d8576b"
            ],
            [
             0.6666666666666666,
             "#ed7953"
            ],
            [
             0.7777777777777778,
             "#fb9f3a"
            ],
            [
             0.8888888888888888,
             "#fdca26"
            ],
            [
             1,
             "#f0f921"
            ]
           ],
           "sequentialminus": [
            [
             0,
             "#0d0887"
            ],
            [
             0.1111111111111111,
             "#46039f"
            ],
            [
             0.2222222222222222,
             "#7201a8"
            ],
            [
             0.3333333333333333,
             "#9c179e"
            ],
            [
             0.4444444444444444,
             "#bd3786"
            ],
            [
             0.5555555555555556,
             "#d8576b"
            ],
            [
             0.6666666666666666,
             "#ed7953"
            ],
            [
             0.7777777777777778,
             "#fb9f3a"
            ],
            [
             0.8888888888888888,
             "#fdca26"
            ],
            [
             1,
             "#f0f921"
            ]
           ]
          },
          "colorway": [
           "#636efa",
           "#EF553B",
           "#00cc96",
           "#ab63fa",
           "#FFA15A",
           "#19d3f3",
           "#FF6692",
           "#B6E880",
           "#FF97FF",
           "#FECB52"
          ],
          "font": {
           "color": "#2a3f5f"
          },
          "geo": {
           "bgcolor": "white",
           "lakecolor": "white",
           "landcolor": "#E5ECF6",
           "showlakes": true,
           "showland": true,
           "subunitcolor": "white"
          },
          "hoverlabel": {
           "align": "left"
          },
          "hovermode": "closest",
          "mapbox": {
           "style": "light"
          },
          "paper_bgcolor": "white",
          "plot_bgcolor": "#E5ECF6",
          "polar": {
           "angularaxis": {
            "gridcolor": "white",
            "linecolor": "white",
            "ticks": ""
           },
           "bgcolor": "#E5ECF6",
           "radialaxis": {
            "gridcolor": "white",
            "linecolor": "white",
            "ticks": ""
           }
          },
          "scene": {
           "xaxis": {
            "backgroundcolor": "#E5ECF6",
            "gridcolor": "white",
            "gridwidth": 2,
            "linecolor": "white",
            "showbackground": true,
            "ticks": "",
            "zerolinecolor": "white"
           },
           "yaxis": {
            "backgroundcolor": "#E5ECF6",
            "gridcolor": "white",
            "gridwidth": 2,
            "linecolor": "white",
            "showbackground": true,
            "ticks": "",
            "zerolinecolor": "white"
           },
           "zaxis": {
            "backgroundcolor": "#E5ECF6",
            "gridcolor": "white",
            "gridwidth": 2,
            "linecolor": "white",
            "showbackground": true,
            "ticks": "",
            "zerolinecolor": "white"
           }
          },
          "shapedefaults": {
           "line": {
            "color": "#2a3f5f"
           }
          },
          "ternary": {
           "aaxis": {
            "gridcolor": "white",
            "linecolor": "white",
            "ticks": ""
           },
           "baxis": {
            "gridcolor": "white",
            "linecolor": "white",
            "ticks": ""
           },
           "bgcolor": "#E5ECF6",
           "caxis": {
            "gridcolor": "white",
            "linecolor": "white",
            "ticks": ""
           }
          },
          "title": {
           "x": 0.05
          },
          "xaxis": {
           "automargin": true,
           "gridcolor": "white",
           "linecolor": "white",
           "ticks": "",
           "title": {
            "standoff": 15
           },
           "zerolinecolor": "white",
           "zerolinewidth": 2
          },
          "yaxis": {
           "automargin": true,
           "gridcolor": "white",
           "linecolor": "white",
           "ticks": "",
           "title": {
            "standoff": 15
           },
           "zerolinecolor": "white",
           "zerolinewidth": 2
          }
         }
        },
        "title": {
         "text": "10 Most Frequent Words with CountVectorizer",
         "x": 0.5,
         "y": 0.82
        },
        "xaxis": {
         "anchor": "y",
         "autorange": true,
         "domain": [
          0,
          1
         ],
         "range": [
          -0.5,
          9.5
         ],
         "title": {
          "text": "word"
         },
         "type": "category"
        },
        "yaxis": {
         "anchor": "x",
         "autorange": true,
         "domain": [
          0,
          1
         ],
         "range": [
          0,
          1038.9473684210527
         ],
         "title": {
          "text": "freq"
         },
         "type": "linear"
        }
       }
      },
      "image/png": "[encoded data removed]",
      "text/html": [
       "<div>                            <div id=\"7cb6056f-2f09-40f3-837e-b18b44b46dbc\" class=\"plotly-graph-div\" style=\"height:525px; width:100%;\"></div>            <script type=\"text/javascript\">                require([\"plotly\"], function(Plotly) {                    window.PLOTLYENV=window.PLOTLYENV || {};                                    if (document.getElementById(\"7cb6056f-2f09-40f3-837e-b18b44b46dbc\")) {                    Plotly.newPlot(                        \"7cb6056f-2f09-40f3-837e-b18b44b46dbc\",                        [{\"alignmentgroup\":\"True\",\"hovertemplate\":\"word=%{x}<br>freq=%{y}<extra></extra>\",\"legendgroup\":\"\",\"marker\":{\"color\":\"#E84C3C\",\"pattern\":{\"shape\":\"\"}},\"name\":\"\",\"offsetgroup\":\"\",\"orientation\":\"v\",\"showlegend\":false,\"textposition\":\"auto\",\"x\":[\"table\",\"use\",\"self\",\"data\",\"https\",\"try\",\"code\",\"like\",\"gt\",\"print\"],\"xaxis\":\"x\",\"y\":[987,964,882,787,703,677,655,642,632,627],\"yaxis\":\"y\",\"type\":\"bar\"}],                        {\"template\":{\"data\":{\"histogram2dcontour\":[{\"type\":\"histogram2dcontour\",\"colorbar\":{\"outlinewidth\":0,\"ticks\":\"\"},\"colorscale\":[[0.0,\"#0d0887\"],[0.1111111111111111,\"#46039f\"],[0.2222222222222222,\"#7201a8\"],[0.3333333333333333,\"#9c179e\"],[0.4444444444444444,\"#bd3786\"],[0.5555555555555556,\"#d8576b\"],[0.6666666666666666,\"#ed7953\"],[0.7777777777777778,\"#fb9f3a\"],[0.8888888888888888,\"#fdca26\"],[1.0,\"#f0f921\"]]}],\"choropleth\":[{\"type\":\"choropleth\",\"colorbar\":{\"outlinewidth\":0,\"ticks\":\"\"}}],\"histogram2d\":[{\"type\":\"histogram2d\",\"colorbar\":{\"outlinewidth\":0,\"ticks\":\"\"},\"colorscale\":[[0.0,\"#0d0887\"],[0.1111111111111111,\"#46039f\"],[0.2222222222222222,\"#7201a8\"],[0.3333333333333333,\"#9c179e\"],[0.4444444444444444,\"#bd3786\"],[0.5555555555555556,\"#d8576b\"],[0.6666666666666666,\"#ed7953\"],[0.7777777777777778,\"#fb9f3a\"],[0.8888888888888888,\"#fdca26\"],[1.0,\"#f0f921\"]]}],\"heatmap\":[{\"type\":\"heatmap\",\"colorbar\":{\"outlinewidth\":0,\"ticks\":\"\"},\"colorscale\":[[0.0,\"#0d0887\"],[0.1111111111111111,\"#46039f\"],[0.2222222222222222,\"#7201a8\"],[0.3333333333333333,\"#9c179e\"],[0.4444444444444444,\"#bd3786\"],[0.5555555555555556,\"#d8576b\"],[0.6666666666666666,\"#ed7953\"],[0.7777777777777778,\"#fb9f3a\"],[0.8888888888888888,\"#fdca26\"],[1.0,\"#f0f921\"]]}],\"heatmapgl\":[{\"type\":\"heatmapgl\",\"colorbar\":{\"outlinewidth\":0,\"ticks\":\"\"},\"colorscale\":[[0.0,\"#0d0887\"],[0.1111111111111111,\"#46039f\"],[0.2222222222222222,\"#7201a8\"],[0.3333333333333333,\"#9c179e\"],[0.4444444444444444,\"#bd3786\"],[0.5555555555555556,\"#d8576b\"],[0.6666666666666666,\"#ed7953\"],[0.7777777777777778,\"#fb9f3a\"],[0.8888888888888888,\"#fdca26\"],[1.0,\"#f0f921\"]]}],\"contourcarpet\":[{\"type\":\"contourcarpet\",\"colorbar\":{\"outlinewidth\":0,\"ticks\":\"\"}}],\"contour\":[{\"type\":\"contour\",\"colorbar\":{\"outlinewidth\":0,\"ticks\":\"\"},\"colorscale\":[[0.0,\"#0d0887\"],[0.1111111111111111,\"#46039f\"],[0.2222222222222222,\"#7201a8\"],[0.3333333333333333,\"#9c179e\"],[0.4444444444444444,\"#bd3786\"],[0.5555555555555556,\"#d8576b\"],[0.6666666666666666,\"#ed7953\"],[0.7777777777777778,\"#fb9f3a\"],[0.8888888888888888,\"#fdca26\"],[1.0,\"#f0f921\"]]}],\"surface\":[{\"type\":\"surface\",\"colorbar\":{\"outlinewidth\":0,\"ticks\":\"\"},\"colorscale\":[[0.0,\"#0d0887\"],[0.1111111111111111,\"#46039f\"],[0.2222222222222222,\"#7201a8\"],[0.3333333333333333,\"#9c179e\"],[0.4444444444444444,\"#bd3786\"],[0.5555555555555556,\"#d8576b\"],[0.6666666666666666,\"#ed7953\"],[0.7777777777777778,\"#fb9f3a\"],[0.8888888888888888,\"#fdca26\"],[1.0,\"#f0f921\"]]}],\"mesh3d\":[{\"type\":\"mesh3d\",\"colorbar\":{\"outlinewidth\":0,\"ticks\":\"\"}}],\"scatter\":[{\"fillpattern\":{\"fillmode\":\"overlay\",\"size\":10,\"solidity\":0.2},\"type\":\"scatter\"}],\"parcoords\":[{\"type\":\"parcoords\",\"line\":{\"colorbar\":{\"outlinewidth\":0,\"ticks\":\"\"}}}],\"scatterpolargl\":[{\"type\":\"scatterpolargl\",\"marker\":{\"colorbar\":{\"outlinewidth\":0,\"ticks\":\"\"}}}],\"bar\":[{\"error_x\":{\"color\":\"#2a3f5f\"},\"error_y\":{\"color\":\"#2a3f5f\"},\"marker\":{\"line\":{\"color\":\"#E5ECF6\",\"width\":0.5},\"pattern\":{\"fillmode\":\"overlay\",\"size\":10,\"solidity\":0.2}},\"type\":\"bar\"}],\"scattergeo\":[{\"type\":\"scattergeo\",\"marker\":{\"colorbar\":{\"outlinewidth\":0,\"ticks\":\"\"}}}],\"scatterpolar\":[{\"type\":\"scatterpolar\",\"marker\":{\"colorbar\":{\"outlinewidth\":0,\"ticks\":\"\"}}}],\"histogram\":[{\"marker\":{\"pattern\":{\"fillmode\":\"overlay\",\"size\":10,\"solidity\":0.2}},\"type\":\"histogram\"}],\"scattergl\":[{\"type\":\"scattergl\",\"marker\":{\"colorbar\":{\"outlinewidth\":0,\"ticks\":\"\"}}}],\"scatter3d\":[{\"type\":\"scatter3d\",\"line\":{\"colorbar\":{\"outlinewidth\":0,\"ticks\":\"\"}},\"marker\":{\"colorbar\":{\"outlinewidth\":0,\"ticks\":\"\"}}}],\"scattermapbox\":[{\"type\":\"scattermapbox\",\"marker\":{\"colorbar\":{\"outlinewidth\":0,\"ticks\":\"\"}}}],\"scatterternary\":[{\"type\":\"scatterternary\",\"marker\":{\"colorbar\":{\"outlinewidth\":0,\"ticks\":\"\"}}}],\"scattercarpet\":[{\"type\":\"scattercarpet\",\"marker\":{\"colorbar\":{\"outlinewidth\":0,\"ticks\":\"\"}}}],\"carpet\":[{\"aaxis\":{\"endlinecolor\":\"#2a3f5f\",\"gridcolor\":\"white\",\"linecolor\":\"white\",\"minorgridcolor\":\"white\",\"startlinecolor\":\"#2a3f5f\"},\"baxis\":{\"endlinecolor\":\"#2a3f5f\",\"gridcolor\":\"white\",\"linecolor\":\"white\",\"minorgridcolor\":\"white\",\"startlinecolor\":\"#2a3f5f\"},\"type\":\"carpet\"}],\"table\":[{\"cells\":{\"fill\":{\"color\":\"#EBF0F8\"},\"line\":{\"color\":\"white\"}},\"header\":{\"fill\":{\"color\":\"#C8D4E3\"},\"line\":{\"color\":\"white\"}},\"type\":\"table\"}],\"barpolar\":[{\"marker\":{\"line\":{\"color\":\"#E5ECF6\",\"width\":0.5},\"pattern\":{\"fillmode\":\"overlay\",\"size\":10,\"solidity\":0.2}},\"type\":\"barpolar\"}],\"pie\":[{\"automargin\":true,\"type\":\"pie\"}]},\"layout\":{\"autotypenumbers\":\"strict\",\"colorway\":[\"#636efa\",\"#EF553B\",\"#00cc96\",\"#ab63fa\",\"#FFA15A\",\"#19d3f3\",\"#FF6692\",\"#B6E880\",\"#FF97FF\",\"#FECB52\"],\"font\":{\"color\":\"#2a3f5f\"},\"hovermode\":\"closest\",\"hoverlabel\":{\"align\":\"left\"},\"paper_bgcolor\":\"white\",\"plot_bgcolor\":\"#E5ECF6\",\"polar\":{\"bgcolor\":\"#E5ECF6\",\"angularaxis\":{\"gridcolor\":\"white\",\"linecolor\":\"white\",\"ticks\":\"\"},\"radialaxis\":{\"gridcolor\":\"white\",\"linecolor\":\"white\",\"ticks\":\"\"}},\"ternary\":{\"bgcolor\":\"#E5ECF6\",\"aaxis\":{\"gridcolor\":\"white\",\"linecolor\":\"white\",\"ticks\":\"\"},\"baxis\":{\"gridcolor\":\"white\",\"linecolor\":\"white\",\"ticks\":\"\"},\"caxis\":{\"gridcolor\":\"white\",\"linecolor\":\"white\",\"ticks\":\"\"}},\"coloraxis\":{\"colorbar\":{\"outlinewidth\":0,\"ticks\":\"\"}},\"colorscale\":{\"sequential\":[[0.0,\"#0d0887\"],[0.1111111111111111,\"#46039f\"],[0.2222222222222222,\"#7201a8\"],[0.3333333333333333,\"#9c179e\"],[0.4444444444444444,\"#bd3786\"],[0.5555555555555556,\"#d8576b\"],[0.6666666666666666,\"#ed7953\"],[0.7777777777777778,\"#fb9f3a\"],[0.8888888888888888,\"#fdca26\"],[1.0,\"#f0f921\"]],\"sequentialminus\":[[0.0,\"#0d0887\"],[0.1111111111111111,\"#46039f\"],[0.2222222222222222,\"#7201a8\"],[0.3333333333333333,\"#9c179e\"],[0.4444444444444444,\"#bd3786\"],[0.5555555555555556,\"#d8576b\"],[0.6666666666666666,\"#ed7953\"],[0.7777777777777778,\"#fb9f3a\"],[0.8888888888888888,\"#fdca26\"],[1.0,\"#f0f921\"]],\"diverging\":[[0,\"#8e0152\"],[0.1,\"#c51b7d\"],[0.2,\"#de77ae\"],[0.3,\"#f1b6da\"],[0.4,\"#fde0ef\"],[0.5,\"#f7f7f7\"],[0.6,\"#e6f5d0\"],[0.7,\"#b8e186\"],[0.8,\"#7fbc41\"],[0.9,\"#4d9221\"],[1,\"#276419\"]]},\"xaxis\":{\"gridcolor\":\"white\",\"linecolor\":\"white\",\"ticks\":\"\",\"title\":{\"standoff\":15},\"zerolinecolor\":\"white\",\"automargin\":true,\"zerolinewidth\":2},\"yaxis\":{\"gridcolor\":\"white\",\"linecolor\":\"white\",\"ticks\":\"\",\"title\":{\"standoff\":15},\"zerolinecolor\":\"white\",\"automargin\":true,\"zerolinewidth\":2},\"scene\":{\"xaxis\":{\"backgroundcolor\":\"#E5ECF6\",\"gridcolor\":\"white\",\"linecolor\":\"white\",\"showbackground\":true,\"ticks\":\"\",\"zerolinecolor\":\"white\",\"gridwidth\":2},\"yaxis\":{\"backgroundcolor\":\"#E5ECF6\",\"gridcolor\":\"white\",\"linecolor\":\"white\",\"showbackground\":true,\"ticks\":\"\",\"zerolinecolor\":\"white\",\"gridwidth\":2},\"zaxis\":{\"backgroundcolor\":\"#E5ECF6\",\"gridcolor\":\"white\",\"linecolor\":\"white\",\"showbackground\":true,\"ticks\":\"\",\"zerolinecolor\":\"white\",\"gridwidth\":2}},\"shapedefaults\":{\"line\":{\"color\":\"#2a3f5f\"}},\"annotationdefaults\":{\"arrowcolor\":\"#2a3f5f\",\"arrowhead\":0,\"arrowwidth\":1},\"geo\":{\"bgcolor\":\"white\",\"landcolor\":\"#E5ECF6\",\"subunitcolor\":\"white\",\"showland\":true,\"showlakes\":true,\"lakecolor\":\"white\"},\"title\":{\"x\":0.05},\"mapbox\":{\"style\":\"light\"}}},\"xaxis\":{\"anchor\":\"y\",\"domain\":[0.0,1.0],\"title\":{\"text\":\"word\"}},\"yaxis\":{\"anchor\":\"x\",\"domain\":[0.0,1.0],\"title\":{\"text\":\"freq\"}},\"legend\":{\"tracegroupgap\":0},\"title\":{\"text\":\"10 Most Frequent Words with CountVectorizer\",\"x\":0.5,\"y\":0.82},\"barmode\":\"relative\"},                        {\"responsive\": true}                    ).then(function(){\n",
       "                            \n",
       "var gd = document.getElementById('7cb6056f-2f09-40f3-837e-b18b44b46dbc');\n",
       "var x = new MutationObserver(function (mutations, observer) {{\n",
       "        var display = window.getComputedStyle(gd).display;\n",
       "        if (!display || display === 'none') {{\n",
       "            console.log([gd, 'removed!']);\n",
       "            Plotly.purge(gd);\n",
       "            observer.disconnect();\n",
       "        }}\n",
       "}});\n",
       "\n",
       "// Listen for the removal of the full notebook cells\n",
       "var notebookContainer = gd.closest('#notebook-container');\n",
       "if (notebookContainer) {{\n",
       "    x.observe(notebookContainer, {childList: true});\n",
       "}}\n",
       "\n",
       "// Listen for the clearing of the current output cell\n",
       "var outputEl = gd.closest('.output');\n",
       "if (outputEl) {{\n",
       "    x.observe(outputEl, {childList: true});\n",
       "}}\n",
       "\n",
       "                        })                };                });            </script>        </div>"
      ]
     },
     "metadata": {},
     "output_type": "display_data"
    }
   ],
   "source": [
    "# Top ten common words with CountVectorizer\n",
    "\n",
    "fig = px.bar(dcv.head(10), 'word', 'freq', title='10 Most Frequent Words with CountVectorizer', color_discrete_sequence=['#E84C3C', '#1C68B9'])\n",
    "fig.update_layout(title_x=.5, title_y=.82)"
   ]
  },
  {
   "cell_type": "code",
   "execution_count": 434,
   "id": "763c3630-3b50-4e3a-93b0-fc2389280377",
   "metadata": {},
   "outputs": [
    {
     "data": {
      "text/html": [
       "<div>\n",
       "<style scoped>\n",
       "    .dataframe tbody tr th:only-of-type {\n",
       "        vertical-align: middle;\n",
       "    }\n",
       "\n",
       "    .dataframe tbody tr th {\n",
       "        vertical-align: top;\n",
       "    }\n",
       "\n",
       "    .dataframe thead th {\n",
       "        text-align: right;\n",
       "    }\n",
       "</style>\n",
       "<table border=\"1\" class=\"dataframe\">\n",
       "  <thead>\n",
       "    <tr style=\"text-align: right;\">\n",
       "      <th></th>\n",
       "      <th>word</th>\n",
       "      <th>freq</th>\n",
       "    </tr>\n",
       "  </thead>\n",
       "  <tbody>\n",
       "    <tr>\n",
       "      <th>1</th>\n",
       "      <td>table</td>\n",
       "      <td>987</td>\n",
       "    </tr>\n",
       "    <tr>\n",
       "      <th>2</th>\n",
       "      <td>use</td>\n",
       "      <td>964</td>\n",
       "    </tr>\n",
       "    <tr>\n",
       "      <th>3</th>\n",
       "      <td>self</td>\n",
       "      <td>882</td>\n",
       "    </tr>\n",
       "    <tr>\n",
       "      <th>4</th>\n",
       "      <td>data</td>\n",
       "      <td>787</td>\n",
       "    </tr>\n",
       "    <tr>\n",
       "      <th>5</th>\n",
       "      <td>https</td>\n",
       "      <td>703</td>\n",
       "    </tr>\n",
       "    <tr>\n",
       "      <th>...</th>\n",
       "      <td>...</td>\n",
       "      <td>...</td>\n",
       "    </tr>\n",
       "    <tr>\n",
       "      <th>22177</th>\n",
       "      <td>getcereal</td>\n",
       "      <td>0</td>\n",
       "    </tr>\n",
       "    <tr>\n",
       "      <th>22178</th>\n",
       "      <td>getcenter</td>\n",
       "      <td>0</td>\n",
       "    </tr>\n",
       "    <tr>\n",
       "      <th>22179</th>\n",
       "      <td>getcensus</td>\n",
       "      <td>0</td>\n",
       "    </tr>\n",
       "    <tr>\n",
       "      <th>22180</th>\n",
       "      <td>getcanvas</td>\n",
       "      <td>0</td>\n",
       "    </tr>\n",
       "    <tr>\n",
       "      <th>22181</th>\n",
       "      <td>丹书匚刀巳下呂廾工丿片乚爪冂口尸q尺丂丁凵v山乂y乙</td>\n",
       "      <td>0</td>\n",
       "    </tr>\n",
       "  </tbody>\n",
       "</table>\n",
       "<p>22181 rows × 2 columns</p>\n",
       "</div>"
      ],
      "text/plain": [
       "                             word  freq\n",
       "1                           table   987\n",
       "2                             use   964\n",
       "3                            self   882\n",
       "4                            data   787\n",
       "5                           https   703\n",
       "...                           ...   ...\n",
       "22177                   getcereal     0\n",
       "22178                   getcenter     0\n",
       "22179                   getcensus     0\n",
       "22180                   getcanvas     0\n",
       "22181  丹书匚刀巳下呂廾工丿片乚爪冂口尸q尺丂丁凵v山乂y乙     0\n",
       "\n",
       "[22181 rows x 2 columns]"
      ]
     },
     "execution_count": 434,
     "metadata": {},
     "output_type": "execute_result"
    }
   ],
   "source": [
    "dcv"
   ]
  },
  {
   "cell_type": "code",
   "execution_count": 591,
   "id": "deecbcb5-5d12-4499-a261-d31e4bae0382",
   "metadata": {},
   "outputs": [
    {
     "data": {
      "application/vnd.plotly.v1+json": {
       "config": {
        "plotlyServerURL": "https://plot.ly"
       },
       "data": [
        {
         "alignmentgroup": "True",
         "hovertemplate": "word=%{x}<br>freq=%{y}<extra></extra>",
         "legendgroup": "",
         "marker": {
          "color": "#1C68B9",
          "pattern": {
           "shape": ""
          }
         },
         "name": "",
         "offsetgroup": "",
         "orientation": "v",
         "showlegend": false,
         "textposition": "auto",
         "type": "bar",
         "x": [
          "prep",
          "array",
          "varchar",
          "api",
          "dictionary",
          "json",
          "customer",
          "guess",
          "df",
          "copy"
         ],
         "xaxis": "x",
         "y": [
          13,
          12.232514885229431,
          10.62331706766343,
          10.137724782952873,
          9.60291799020841,
          9.344765810707026,
          8.895766169228228,
          8.361100630915004,
          8.249569343176875,
          8.125135505456424
         ],
         "yaxis": "y"
        }
       ],
       "layout": {
        "autosize": true,
        "barmode": "relative",
        "legend": {
         "tracegroupgap": 0
        },
        "template": {
         "data": {
          "bar": [
           {
            "error_x": {
             "color": "#2a3f5f"
            },
            "error_y": {
             "color": "#2a3f5f"
            },
            "marker": {
             "line": {
              "color": "#E5ECF6",
              "width": 0.5
             },
             "pattern": {
              "fillmode": "overlay",
              "size": 10,
              "solidity": 0.2
             }
            },
            "type": "bar"
           }
          ],
          "barpolar": [
           {
            "marker": {
             "line": {
              "color": "#E5ECF6",
              "width": 0.5
             },
             "pattern": {
              "fillmode": "overlay",
              "size": 10,
              "solidity": 0.2
             }
            },
            "type": "barpolar"
           }
          ],
          "carpet": [
           {
            "aaxis": {
             "endlinecolor": "#2a3f5f",
             "gridcolor": "white",
             "linecolor": "white",
             "minorgridcolor": "white",
             "startlinecolor": "#2a3f5f"
            },
            "baxis": {
             "endlinecolor": "#2a3f5f",
             "gridcolor": "white",
             "linecolor": "white",
             "minorgridcolor": "white",
             "startlinecolor": "#2a3f5f"
            },
            "type": "carpet"
           }
          ],
          "choropleth": [
           {
            "colorbar": {
             "outlinewidth": 0,
             "ticks": ""
            },
            "type": "choropleth"
           }
          ],
          "contour": [
           {
            "colorbar": {
             "outlinewidth": 0,
             "ticks": ""
            },
            "colorscale": [
             [
              0,
              "#0d0887"
             ],
             [
              0.1111111111111111,
              "#46039f"
             ],
             [
              0.2222222222222222,
              "#7201a8"
             ],
             [
              0.3333333333333333,
              "#9c179e"
             ],
             [
              0.4444444444444444,
              "#bd3786"
             ],
             [
              0.5555555555555556,
              "#d8576b"
             ],
             [
              0.6666666666666666,
              "#ed7953"
             ],
             [
              0.7777777777777778,
              "#fb9f3a"
             ],
             [
              0.8888888888888888,
              "#fdca26"
             ],
             [
              1,
              "#f0f921"
             ]
            ],
            "type": "contour"
           }
          ],
          "contourcarpet": [
           {
            "colorbar": {
             "outlinewidth": 0,
             "ticks": ""
            },
            "type": "contourcarpet"
           }
          ],
          "heatmap": [
           {
            "colorbar": {
             "outlinewidth": 0,
             "ticks": ""
            },
            "colorscale": [
             [
              0,
              "#0d0887"
             ],
             [
              0.1111111111111111,
              "#46039f"
             ],
             [
              0.2222222222222222,
              "#7201a8"
             ],
             [
              0.3333333333333333,
              "#9c179e"
             ],
             [
              0.4444444444444444,
              "#bd3786"
             ],
             [
              0.5555555555555556,
              "#d8576b"
             ],
             [
              0.6666666666666666,
              "#ed7953"
             ],
             [
              0.7777777777777778,
              "#fb9f3a"
             ],
             [
              0.8888888888888888,
              "#fdca26"
             ],
             [
              1,
              "#f0f921"
             ]
            ],
            "type": "heatmap"
           }
          ],
          "heatmapgl": [
           {
            "colorbar": {
             "outlinewidth": 0,
             "ticks": ""
            },
            "colorscale": [
             [
              0,
              "#0d0887"
             ],
             [
              0.1111111111111111,
              "#46039f"
             ],
             [
              0.2222222222222222,
              "#7201a8"
             ],
             [
              0.3333333333333333,
              "#9c179e"
             ],
             [
              0.4444444444444444,
              "#bd3786"
             ],
             [
              0.5555555555555556,
              "#d8576b"
             ],
             [
              0.6666666666666666,
              "#ed7953"
             ],
             [
              0.7777777777777778,
              "#fb9f3a"
             ],
             [
              0.8888888888888888,
              "#fdca26"
             ],
             [
              1,
              "#f0f921"
             ]
            ],
            "type": "heatmapgl"
           }
          ],
          "histogram": [
           {
            "marker": {
             "pattern": {
              "fillmode": "overlay",
              "size": 10,
              "solidity": 0.2
             }
            },
            "type": "histogram"
           }
          ],
          "histogram2d": [
           {
            "colorbar": {
             "outlinewidth": 0,
             "ticks": ""
            },
            "colorscale": [
             [
              0,
              "#0d0887"
             ],
             [
              0.1111111111111111,
              "#46039f"
             ],
             [
              0.2222222222222222,
              "#7201a8"
             ],
             [
              0.3333333333333333,
              "#9c179e"
             ],
             [
              0.4444444444444444,
              "#bd3786"
             ],
             [
              0.5555555555555556,
              "#d8576b"
             ],
             [
              0.6666666666666666,
              "#ed7953"
             ],
             [
              0.7777777777777778,
              "#fb9f3a"
             ],
             [
              0.8888888888888888,
              "#fdca26"
             ],
             [
              1,
              "#f0f921"
             ]
            ],
            "type": "histogram2d"
           }
          ],
          "histogram2dcontour": [
           {
            "colorbar": {
             "outlinewidth": 0,
             "ticks": ""
            },
            "colorscale": [
             [
              0,
              "#0d0887"
             ],
             [
              0.1111111111111111,
              "#46039f"
             ],
             [
              0.2222222222222222,
              "#7201a8"
             ],
             [
              0.3333333333333333,
              "#9c179e"
             ],
             [
              0.4444444444444444,
              "#bd3786"
             ],
             [
              0.5555555555555556,
              "#d8576b"
             ],
             [
              0.6666666666666666,
              "#ed7953"
             ],
             [
              0.7777777777777778,
              "#fb9f3a"
             ],
             [
              0.8888888888888888,
              "#fdca26"
             ],
             [
              1,
              "#f0f921"
             ]
            ],
            "type": "histogram2dcontour"
           }
          ],
          "mesh3d": [
           {
            "colorbar": {
             "outlinewidth": 0,
             "ticks": ""
            },
            "type": "mesh3d"
           }
          ],
          "parcoords": [
           {
            "line": {
             "colorbar": {
              "outlinewidth": 0,
              "ticks": ""
             }
            },
            "type": "parcoords"
           }
          ],
          "pie": [
           {
            "automargin": true,
            "type": "pie"
           }
          ],
          "scatter": [
           {
            "fillpattern": {
             "fillmode": "overlay",
             "size": 10,
             "solidity": 0.2
            },
            "type": "scatter"
           }
          ],
          "scatter3d": [
           {
            "line": {
             "colorbar": {
              "outlinewidth": 0,
              "ticks": ""
             }
            },
            "marker": {
             "colorbar": {
              "outlinewidth": 0,
              "ticks": ""
             }
            },
            "type": "scatter3d"
           }
          ],
          "scattercarpet": [
           {
            "marker": {
             "colorbar": {
              "outlinewidth": 0,
              "ticks": ""
             }
            },
            "type": "scattercarpet"
           }
          ],
          "scattergeo": [
           {
            "marker": {
             "colorbar": {
              "outlinewidth": 0,
              "ticks": ""
             }
            },
            "type": "scattergeo"
           }
          ],
          "scattergl": [
           {
            "marker": {
             "colorbar": {
              "outlinewidth": 0,
              "ticks": ""
             }
            },
            "type": "scattergl"
           }
          ],
          "scattermapbox": [
           {
            "marker": {
             "colorbar": {
              "outlinewidth": 0,
              "ticks": ""
             }
            },
            "type": "scattermapbox"
           }
          ],
          "scatterpolar": [
           {
            "marker": {
             "colorbar": {
              "outlinewidth": 0,
              "ticks": ""
             }
            },
            "type": "scatterpolar"
           }
          ],
          "scatterpolargl": [
           {
            "marker": {
             "colorbar": {
              "outlinewidth": 0,
              "ticks": ""
             }
            },
            "type": "scatterpolargl"
           }
          ],
          "scatterternary": [
           {
            "marker": {
             "colorbar": {
              "outlinewidth": 0,
              "ticks": ""
             }
            },
            "type": "scatterternary"
           }
          ],
          "surface": [
           {
            "colorbar": {
             "outlinewidth": 0,
             "ticks": ""
            },
            "colorscale": [
             [
              0,
              "#0d0887"
             ],
             [
              0.1111111111111111,
              "#46039f"
             ],
             [
              0.2222222222222222,
              "#7201a8"
             ],
             [
              0.3333333333333333,
              "#9c179e"
             ],
             [
              0.4444444444444444,
              "#bd3786"
             ],
             [
              0.5555555555555556,
              "#d8576b"
             ],
             [
              0.6666666666666666,
              "#ed7953"
             ],
             [
              0.7777777777777778,
              "#fb9f3a"
             ],
             [
              0.8888888888888888,
              "#fdca26"
             ],
             [
              1,
              "#f0f921"
             ]
            ],
            "type": "surface"
           }
          ],
          "table": [
           {
            "cells": {
             "fill": {
              "color": "#EBF0F8"
             },
             "line": {
              "color": "white"
             }
            },
            "header": {
             "fill": {
              "color": "#C8D4E3"
             },
             "line": {
              "color": "white"
             }
            },
            "type": "table"
           }
          ]
         },
         "layout": {
          "annotationdefaults": {
           "arrowcolor": "#2a3f5f",
           "arrowhead": 0,
           "arrowwidth": 1
          },
          "autotypenumbers": "strict",
          "coloraxis": {
           "colorbar": {
            "outlinewidth": 0,
            "ticks": ""
           }
          },
          "colorscale": {
           "diverging": [
            [
             0,
             "#8e0152"
            ],
            [
             0.1,
             "#c51b7d"
            ],
            [
             0.2,
             "#de77ae"
            ],
            [
             0.3,
             "#f1b6da"
            ],
            [
             0.4,
             "#fde0ef"
            ],
            [
             0.5,
             "#f7f7f7"
            ],
            [
             0.6,
             "#e6f5d0"
            ],
            [
             0.7,
             "#b8e186"
            ],
            [
             0.8,
             "#7fbc41"
            ],
            [
             0.9,
             "#4d9221"
            ],
            [
             1,
             "#276419"
            ]
           ],
           "sequential": [
            [
             0,
             "#0d0887"
            ],
            [
             0.1111111111111111,
             "#46039f"
            ],
            [
             0.2222222222222222,
             "#7201a8"
            ],
            [
             0.3333333333333333,
             "#9c179e"
            ],
            [
             0.4444444444444444,
             "#bd3786"
            ],
            [
             0.5555555555555556,
             "#d8576b"
            ],
            [
             0.6666666666666666,
             "#ed7953"
            ],
            [
             0.7777777777777778,
             "#fb9f3a"
            ],
            [
             0.8888888888888888,
             "#fdca26"
            ],
            [
             1,
             "#f0f921"
            ]
           ],
           "sequentialminus": [
            [
             0,
             "#0d0887"
            ],
            [
             0.1111111111111111,
             "#46039f"
            ],
            [
             0.2222222222222222,
             "#7201a8"
            ],
            [
             0.3333333333333333,
             "#9c179e"
            ],
            [
             0.4444444444444444,
             "#bd3786"
            ],
            [
             0.5555555555555556,
             "#d8576b"
            ],
            [
             0.6666666666666666,
             "#ed7953"
            ],
            [
             0.7777777777777778,
             "#fb9f3a"
            ],
            [
             0.8888888888888888,
             "#fdca26"
            ],
            [
             1,
             "#f0f921"
            ]
           ]
          },
          "colorway": [
           "#636efa",
           "#EF553B",
           "#00cc96",
           "#ab63fa",
           "#FFA15A",
           "#19d3f3",
           "#FF6692",
           "#B6E880",
           "#FF97FF",
           "#FECB52"
          ],
          "font": {
           "color": "#2a3f5f"
          },
          "geo": {
           "bgcolor": "white",
           "lakecolor": "white",
           "landcolor": "#E5ECF6",
           "showlakes": true,
           "showland": true,
           "subunitcolor": "white"
          },
          "hoverlabel": {
           "align": "left"
          },
          "hovermode": "closest",
          "mapbox": {
           "style": "light"
          },
          "paper_bgcolor": "white",
          "plot_bgcolor": "#E5ECF6",
          "polar": {
           "angularaxis": {
            "gridcolor": "white",
            "linecolor": "white",
            "ticks": ""
           },
           "bgcolor": "#E5ECF6",
           "radialaxis": {
            "gridcolor": "white",
            "linecolor": "white",
            "ticks": ""
           }
          },
          "scene": {
           "xaxis": {
            "backgroundcolor": "#E5ECF6",
            "gridcolor": "white",
            "gridwidth": 2,
            "linecolor": "white",
            "showbackground": true,
            "ticks": "",
            "zerolinecolor": "white"
           },
           "yaxis": {
            "backgroundcolor": "#E5ECF6",
            "gridcolor": "white",
            "gridwidth": 2,
            "linecolor": "white",
            "showbackground": true,
            "ticks": "",
            "zerolinecolor": "white"
           },
           "zaxis": {
            "backgroundcolor": "#E5ECF6",
            "gridcolor": "white",
            "gridwidth": 2,
            "linecolor": "white",
            "showbackground": true,
            "ticks": "",
            "zerolinecolor": "white"
           }
          },
          "shapedefaults": {
           "line": {
            "color": "#2a3f5f"
           }
          },
          "ternary": {
           "aaxis": {
            "gridcolor": "white",
            "linecolor": "white",
            "ticks": ""
           },
           "baxis": {
            "gridcolor": "white",
            "linecolor": "white",
            "ticks": ""
           },
           "bgcolor": "#E5ECF6",
           "caxis": {
            "gridcolor": "white",
            "linecolor": "white",
            "ticks": ""
           }
          },
          "title": {
           "x": 0.05
          },
          "xaxis": {
           "automargin": true,
           "gridcolor": "white",
           "linecolor": "white",
           "ticks": "",
           "title": {
            "standoff": 15
           },
           "zerolinecolor": "white",
           "zerolinewidth": 2
          },
          "yaxis": {
           "automargin": true,
           "gridcolor": "white",
           "linecolor": "white",
           "ticks": "",
           "title": {
            "standoff": 15
           },
           "zerolinecolor": "white",
           "zerolinewidth": 2
          }
         }
        },
        "title": {
         "text": "10 Most Frequent Words with TfidfVectorizer",
         "x": 0.5,
         "y": 0.82
        },
        "xaxis": {
         "anchor": "y",
         "autorange": true,
         "domain": [
          0,
          1
         ],
         "range": [
          -0.5,
          9.5
         ],
         "title": {
          "text": "word"
         },
         "type": "category"
        },
        "yaxis": {
         "anchor": "x",
         "autorange": true,
         "domain": [
          0,
          1
         ],
         "range": [
          0,
          13.68421052631579
         ],
         "title": {
          "text": "freq"
         },
         "type": "linear"
        }
       }
      },
      "image/png": "[encoded data removed]",
      "text/html": [
       "<div>                            <div id=\"944b24ac-f4f3-4988-9d3b-ea120f1876e9\" class=\"plotly-graph-div\" style=\"height:525px; width:100%;\"></div>            <script type=\"text/javascript\">                require([\"plotly\"], function(Plotly) {                    window.PLOTLYENV=window.PLOTLYENV || {};                                    if (document.getElementById(\"944b24ac-f4f3-4988-9d3b-ea120f1876e9\")) {                    Plotly.newPlot(                        \"944b24ac-f4f3-4988-9d3b-ea120f1876e9\",                        [{\"alignmentgroup\":\"True\",\"hovertemplate\":\"word=%{x}<br>freq=%{y}<extra></extra>\",\"legendgroup\":\"\",\"marker\":{\"color\":\"#1C68B9\",\"pattern\":{\"shape\":\"\"}},\"name\":\"\",\"offsetgroup\":\"\",\"orientation\":\"v\",\"showlegend\":false,\"textposition\":\"auto\",\"x\":[\"prep\",\"array\",\"varchar\",\"api\",\"dictionary\",\"json\",\"customer\",\"guess\",\"df\",\"copy\"],\"xaxis\":\"x\",\"y\":[13.0,12.232514885229431,10.62331706766343,10.137724782952873,9.60291799020841,9.344765810707026,8.895766169228228,8.361100630915004,8.249569343176875,8.125135505456424],\"yaxis\":\"y\",\"type\":\"bar\"}],                        {\"template\":{\"data\":{\"histogram2dcontour\":[{\"type\":\"histogram2dcontour\",\"colorbar\":{\"outlinewidth\":0,\"ticks\":\"\"},\"colorscale\":[[0.0,\"#0d0887\"],[0.1111111111111111,\"#46039f\"],[0.2222222222222222,\"#7201a8\"],[0.3333333333333333,\"#9c179e\"],[0.4444444444444444,\"#bd3786\"],[0.5555555555555556,\"#d8576b\"],[0.6666666666666666,\"#ed7953\"],[0.7777777777777778,\"#fb9f3a\"],[0.8888888888888888,\"#fdca26\"],[1.0,\"#f0f921\"]]}],\"choropleth\":[{\"type\":\"choropleth\",\"colorbar\":{\"outlinewidth\":0,\"ticks\":\"\"}}],\"histogram2d\":[{\"type\":\"histogram2d\",\"colorbar\":{\"outlinewidth\":0,\"ticks\":\"\"},\"colorscale\":[[0.0,\"#0d0887\"],[0.1111111111111111,\"#46039f\"],[0.2222222222222222,\"#7201a8\"],[0.3333333333333333,\"#9c179e\"],[0.4444444444444444,\"#bd3786\"],[0.5555555555555556,\"#d8576b\"],[0.6666666666666666,\"#ed7953\"],[0.7777777777777778,\"#fb9f3a\"],[0.8888888888888888,\"#fdca26\"],[1.0,\"#f0f921\"]]}],\"heatmap\":[{\"type\":\"heatmap\",\"colorbar\":{\"outlinewidth\":0,\"ticks\":\"\"},\"colorscale\":[[0.0,\"#0d0887\"],[0.1111111111111111,\"#46039f\"],[0.2222222222222222,\"#7201a8\"],[0.3333333333333333,\"#9c179e\"],[0.4444444444444444,\"#bd3786\"],[0.5555555555555556,\"#d8576b\"],[0.6666666666666666,\"#ed7953\"],[0.7777777777777778,\"#fb9f3a\"],[0.8888888888888888,\"#fdca26\"],[1.0,\"#f0f921\"]]}],\"heatmapgl\":[{\"type\":\"heatmapgl\",\"colorbar\":{\"outlinewidth\":0,\"ticks\":\"\"},\"colorscale\":[[0.0,\"#0d0887\"],[0.1111111111111111,\"#46039f\"],[0.2222222222222222,\"#7201a8\"],[0.3333333333333333,\"#9c179e\"],[0.4444444444444444,\"#bd3786\"],[0.5555555555555556,\"#d8576b\"],[0.6666666666666666,\"#ed7953\"],[0.7777777777777778,\"#fb9f3a\"],[0.8888888888888888,\"#fdca26\"],[1.0,\"#f0f921\"]]}],\"contourcarpet\":[{\"type\":\"contourcarpet\",\"colorbar\":{\"outlinewidth\":0,\"ticks\":\"\"}}],\"contour\":[{\"type\":\"contour\",\"colorbar\":{\"outlinewidth\":0,\"ticks\":\"\"},\"colorscale\":[[0.0,\"#0d0887\"],[0.1111111111111111,\"#46039f\"],[0.2222222222222222,\"#7201a8\"],[0.3333333333333333,\"#9c179e\"],[0.4444444444444444,\"#bd3786\"],[0.5555555555555556,\"#d8576b\"],[0.6666666666666666,\"#ed7953\"],[0.7777777777777778,\"#fb9f3a\"],[0.8888888888888888,\"#fdca26\"],[1.0,\"#f0f921\"]]}],\"surface\":[{\"type\":\"surface\",\"colorbar\":{\"outlinewidth\":0,\"ticks\":\"\"},\"colorscale\":[[0.0,\"#0d0887\"],[0.1111111111111111,\"#46039f\"],[0.2222222222222222,\"#7201a8\"],[0.3333333333333333,\"#9c179e\"],[0.4444444444444444,\"#bd3786\"],[0.5555555555555556,\"#d8576b\"],[0.6666666666666666,\"#ed7953\"],[0.7777777777777778,\"#fb9f3a\"],[0.8888888888888888,\"#fdca26\"],[1.0,\"#f0f921\"]]}],\"mesh3d\":[{\"type\":\"mesh3d\",\"colorbar\":{\"outlinewidth\":0,\"ticks\":\"\"}}],\"scatter\":[{\"fillpattern\":{\"fillmode\":\"overlay\",\"size\":10,\"solidity\":0.2},\"type\":\"scatter\"}],\"parcoords\":[{\"type\":\"parcoords\",\"line\":{\"colorbar\":{\"outlinewidth\":0,\"ticks\":\"\"}}}],\"scatterpolargl\":[{\"type\":\"scatterpolargl\",\"marker\":{\"colorbar\":{\"outlinewidth\":0,\"ticks\":\"\"}}}],\"bar\":[{\"error_x\":{\"color\":\"#2a3f5f\"},\"error_y\":{\"color\":\"#2a3f5f\"},\"marker\":{\"line\":{\"color\":\"#E5ECF6\",\"width\":0.5},\"pattern\":{\"fillmode\":\"overlay\",\"size\":10,\"solidity\":0.2}},\"type\":\"bar\"}],\"scattergeo\":[{\"type\":\"scattergeo\",\"marker\":{\"colorbar\":{\"outlinewidth\":0,\"ticks\":\"\"}}}],\"scatterpolar\":[{\"type\":\"scatterpolar\",\"marker\":{\"colorbar\":{\"outlinewidth\":0,\"ticks\":\"\"}}}],\"histogram\":[{\"marker\":{\"pattern\":{\"fillmode\":\"overlay\",\"size\":10,\"solidity\":0.2}},\"type\":\"histogram\"}],\"scattergl\":[{\"type\":\"scattergl\",\"marker\":{\"colorbar\":{\"outlinewidth\":0,\"ticks\":\"\"}}}],\"scatter3d\":[{\"type\":\"scatter3d\",\"line\":{\"colorbar\":{\"outlinewidth\":0,\"ticks\":\"\"}},\"marker\":{\"colorbar\":{\"outlinewidth\":0,\"ticks\":\"\"}}}],\"scattermapbox\":[{\"type\":\"scattermapbox\",\"marker\":{\"colorbar\":{\"outlinewidth\":0,\"ticks\":\"\"}}}],\"scatterternary\":[{\"type\":\"scatterternary\",\"marker\":{\"colorbar\":{\"outlinewidth\":0,\"ticks\":\"\"}}}],\"scattercarpet\":[{\"type\":\"scattercarpet\",\"marker\":{\"colorbar\":{\"outlinewidth\":0,\"ticks\":\"\"}}}],\"carpet\":[{\"aaxis\":{\"endlinecolor\":\"#2a3f5f\",\"gridcolor\":\"white\",\"linecolor\":\"white\",\"minorgridcolor\":\"white\",\"startlinecolor\":\"#2a3f5f\"},\"baxis\":{\"endlinecolor\":\"#2a3f5f\",\"gridcolor\":\"white\",\"linecolor\":\"white\",\"minorgridcolor\":\"white\",\"startlinecolor\":\"#2a3f5f\"},\"type\":\"carpet\"}],\"table\":[{\"cells\":{\"fill\":{\"color\":\"#EBF0F8\"},\"line\":{\"color\":\"white\"}},\"header\":{\"fill\":{\"color\":\"#C8D4E3\"},\"line\":{\"color\":\"white\"}},\"type\":\"table\"}],\"barpolar\":[{\"marker\":{\"line\":{\"color\":\"#E5ECF6\",\"width\":0.5},\"pattern\":{\"fillmode\":\"overlay\",\"size\":10,\"solidity\":0.2}},\"type\":\"barpolar\"}],\"pie\":[{\"automargin\":true,\"type\":\"pie\"}]},\"layout\":{\"autotypenumbers\":\"strict\",\"colorway\":[\"#636efa\",\"#EF553B\",\"#00cc96\",\"#ab63fa\",\"#FFA15A\",\"#19d3f3\",\"#FF6692\",\"#B6E880\",\"#FF97FF\",\"#FECB52\"],\"font\":{\"color\":\"#2a3f5f\"},\"hovermode\":\"closest\",\"hoverlabel\":{\"align\":\"left\"},\"paper_bgcolor\":\"white\",\"plot_bgcolor\":\"#E5ECF6\",\"polar\":{\"bgcolor\":\"#E5ECF6\",\"angularaxis\":{\"gridcolor\":\"white\",\"linecolor\":\"white\",\"ticks\":\"\"},\"radialaxis\":{\"gridcolor\":\"white\",\"linecolor\":\"white\",\"ticks\":\"\"}},\"ternary\":{\"bgcolor\":\"#E5ECF6\",\"aaxis\":{\"gridcolor\":\"white\",\"linecolor\":\"white\",\"ticks\":\"\"},\"baxis\":{\"gridcolor\":\"white\",\"linecolor\":\"white\",\"ticks\":\"\"},\"caxis\":{\"gridcolor\":\"white\",\"linecolor\":\"white\",\"ticks\":\"\"}},\"coloraxis\":{\"colorbar\":{\"outlinewidth\":0,\"ticks\":\"\"}},\"colorscale\":{\"sequential\":[[0.0,\"#0d0887\"],[0.1111111111111111,\"#46039f\"],[0.2222222222222222,\"#7201a8\"],[0.3333333333333333,\"#9c179e\"],[0.4444444444444444,\"#bd3786\"],[0.5555555555555556,\"#d8576b\"],[0.6666666666666666,\"#ed7953\"],[0.7777777777777778,\"#fb9f3a\"],[0.8888888888888888,\"#fdca26\"],[1.0,\"#f0f921\"]],\"sequentialminus\":[[0.0,\"#0d0887\"],[0.1111111111111111,\"#46039f\"],[0.2222222222222222,\"#7201a8\"],[0.3333333333333333,\"#9c179e\"],[0.4444444444444444,\"#bd3786\"],[0.5555555555555556,\"#d8576b\"],[0.6666666666666666,\"#ed7953\"],[0.7777777777777778,\"#fb9f3a\"],[0.8888888888888888,\"#fdca26\"],[1.0,\"#f0f921\"]],\"diverging\":[[0,\"#8e0152\"],[0.1,\"#c51b7d\"],[0.2,\"#de77ae\"],[0.3,\"#f1b6da\"],[0.4,\"#fde0ef\"],[0.5,\"#f7f7f7\"],[0.6,\"#e6f5d0\"],[0.7,\"#b8e186\"],[0.8,\"#7fbc41\"],[0.9,\"#4d9221\"],[1,\"#276419\"]]},\"xaxis\":{\"gridcolor\":\"white\",\"linecolor\":\"white\",\"ticks\":\"\",\"title\":{\"standoff\":15},\"zerolinecolor\":\"white\",\"automargin\":true,\"zerolinewidth\":2},\"yaxis\":{\"gridcolor\":\"white\",\"linecolor\":\"white\",\"ticks\":\"\",\"title\":{\"standoff\":15},\"zerolinecolor\":\"white\",\"automargin\":true,\"zerolinewidth\":2},\"scene\":{\"xaxis\":{\"backgroundcolor\":\"#E5ECF6\",\"gridcolor\":\"white\",\"linecolor\":\"white\",\"showbackground\":true,\"ticks\":\"\",\"zerolinecolor\":\"white\",\"gridwidth\":2},\"yaxis\":{\"backgroundcolor\":\"#E5ECF6\",\"gridcolor\":\"white\",\"linecolor\":\"white\",\"showbackground\":true,\"ticks\":\"\",\"zerolinecolor\":\"white\",\"gridwidth\":2},\"zaxis\":{\"backgroundcolor\":\"#E5ECF6\",\"gridcolor\":\"white\",\"linecolor\":\"white\",\"showbackground\":true,\"ticks\":\"\",\"zerolinecolor\":\"white\",\"gridwidth\":2}},\"shapedefaults\":{\"line\":{\"color\":\"#2a3f5f\"}},\"annotationdefaults\":{\"arrowcolor\":\"#2a3f5f\",\"arrowhead\":0,\"arrowwidth\":1},\"geo\":{\"bgcolor\":\"white\",\"landcolor\":\"#E5ECF6\",\"subunitcolor\":\"white\",\"showland\":true,\"showlakes\":true,\"lakecolor\":\"white\"},\"title\":{\"x\":0.05},\"mapbox\":{\"style\":\"light\"}}},\"xaxis\":{\"anchor\":\"y\",\"domain\":[0.0,1.0],\"title\":{\"text\":\"word\"}},\"yaxis\":{\"anchor\":\"x\",\"domain\":[0.0,1.0],\"title\":{\"text\":\"freq\"}},\"legend\":{\"tracegroupgap\":0},\"title\":{\"text\":\"10 Most Frequent Words with TfidfVectorizer\",\"x\":0.5,\"y\":0.82},\"barmode\":\"relative\"},                        {\"responsive\": true}                    ).then(function(){\n",
       "                            \n",
       "var gd = document.getElementById('944b24ac-f4f3-4988-9d3b-ea120f1876e9');\n",
       "var x = new MutationObserver(function (mutations, observer) {{\n",
       "        var display = window.getComputedStyle(gd).display;\n",
       "        if (!display || display === 'none') {{\n",
       "            console.log([gd, 'removed!']);\n",
       "            Plotly.purge(gd);\n",
       "            observer.disconnect();\n",
       "        }}\n",
       "}});\n",
       "\n",
       "// Listen for the removal of the full notebook cells\n",
       "var notebookContainer = gd.closest('#notebook-container');\n",
       "if (notebookContainer) {{\n",
       "    x.observe(notebookContainer, {childList: true});\n",
       "}}\n",
       "\n",
       "// Listen for the clearing of the current output cell\n",
       "var outputEl = gd.closest('.output');\n",
       "if (outputEl) {{\n",
       "    x.observe(outputEl, {childList: true});\n",
       "}}\n",
       "\n",
       "                        })                };                });            </script>        </div>"
      ]
     },
     "metadata": {},
     "output_type": "display_data"
    }
   ],
   "source": [
    "# Top ten common words with TfdifVectorizer\n",
    "\n",
    "dtf = pd.DataFrame(X_test_tf.sum().sort_values(ascending=False)).reset_index().iloc[1:, :]\n",
    "dtf.columns=['word', 'freq']\n",
    "\n",
    "fig = px.bar(dtf.head(10), 'word', 'freq', title='10 Most Frequent Words with TfidfVectorizer',  color_discrete_sequence=['#1C68B9', '#E84C3C'])\n",
    "fig.update_layout(title_x=.5, title_y=.82)"
   ]
  },
  {
   "cell_type": "code",
   "execution_count": 512,
   "id": "3ecaa4ca-450c-4ae9-b435-9dcaed69ade7",
   "metadata": {},
   "outputs": [
    {
     "data": {
      "text/html": [
       "<div>\n",
       "<style scoped>\n",
       "    .dataframe tbody tr th:only-of-type {\n",
       "        vertical-align: middle;\n",
       "    }\n",
       "\n",
       "    .dataframe tbody tr th {\n",
       "        vertical-align: top;\n",
       "    }\n",
       "\n",
       "    .dataframe thead th {\n",
       "        text-align: right;\n",
       "    }\n",
       "</style>\n",
       "<table border=\"1\" class=\"dataframe\">\n",
       "  <thead>\n",
       "    <tr style=\"text-align: right;\">\n",
       "      <th></th>\n",
       "      <th>word</th>\n",
       "      <th>freq</th>\n",
       "    </tr>\n",
       "  </thead>\n",
       "  <tbody>\n",
       "    <tr>\n",
       "      <th>1</th>\n",
       "      <td>print</td>\n",
       "      <td>41.802541</td>\n",
       "    </tr>\n",
       "    <tr>\n",
       "      <th>2</th>\n",
       "      <td>code</td>\n",
       "      <td>41.745722</td>\n",
       "    </tr>\n",
       "    <tr>\n",
       "      <th>3</th>\n",
       "      <td>table</td>\n",
       "      <td>39.450643</td>\n",
       "    </tr>\n",
       "    <tr>\n",
       "      <th>4</th>\n",
       "      <td>like</td>\n",
       "      <td>37.794998</td>\n",
       "    </tr>\n",
       "    <tr>\n",
       "      <th>5</th>\n",
       "      <td>help</td>\n",
       "      <td>37.668807</td>\n",
       "    </tr>\n",
       "    <tr>\n",
       "      <th>...</th>\n",
       "      <td>...</td>\n",
       "      <td>...</td>\n",
       "    </tr>\n",
       "    <tr>\n",
       "      <th>9692</th>\n",
       "      <td>rusty</td>\n",
       "      <td>0.000000</td>\n",
       "    </tr>\n",
       "    <tr>\n",
       "      <th>9693</th>\n",
       "      <td>diary</td>\n",
       "      <td>0.000000</td>\n",
       "    </tr>\n",
       "    <tr>\n",
       "      <th>9694</th>\n",
       "      <td>ryan</td>\n",
       "      <td>0.000000</td>\n",
       "    </tr>\n",
       "    <tr>\n",
       "      <th>9695</th>\n",
       "      <td>sa</td>\n",
       "      <td>0.000000</td>\n",
       "    </tr>\n",
       "    <tr>\n",
       "      <th>9696</th>\n",
       "      <td>ffill</td>\n",
       "      <td>0.000000</td>\n",
       "    </tr>\n",
       "  </tbody>\n",
       "</table>\n",
       "<p>9696 rows × 2 columns</p>\n",
       "</div>"
      ],
      "text/plain": [
       "       word       freq\n",
       "1     print  41.802541\n",
       "2      code  41.745722\n",
       "3     table  39.450643\n",
       "4      like  37.794998\n",
       "5      help  37.668807\n",
       "...     ...        ...\n",
       "9692  rusty   0.000000\n",
       "9693  diary   0.000000\n",
       "9694   ryan   0.000000\n",
       "9695     sa   0.000000\n",
       "9696  ffill   0.000000\n",
       "\n",
       "[9696 rows x 2 columns]"
      ]
     },
     "execution_count": 512,
     "metadata": {},
     "output_type": "execute_result"
    }
   ],
   "source": [
    "dtf"
   ]
  }
 ],
 "metadata": {
  "kernelspec": {
   "display_name": "Python 3 (ipykernel)",
   "language": "python",
   "name": "python3"
  },
  "language_info": {
   "codemirror_mode": {
    "name": "ipython",
    "version": 3
   },
   "file_extension": ".py",
   "mimetype": "text/x-python",
   "name": "python",
   "nbconvert_exporter": "python",
   "pygments_lexer": "ipython3",
   "version": "3.9.7"
  }
 },
 "nbformat": 4,
 "nbformat_minor": 5
}
